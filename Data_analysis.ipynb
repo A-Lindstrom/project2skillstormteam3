{
 "cells": [
  {
   "cell_type": "markdown",
   "metadata": {
    "application/vnd.databricks.v1+cell": {
     "cellMetadata": {
      "byteLimit": 2048000,
      "rowLimit": 10000
     },
     "inputWidgets": {},
     "nuid": "9f8ca31c-2cb0-4cbb-86f5-5e52e5f90bc7",
     "showTitle": false,
     "title": ""
    }
   },
   "source": [
    "\n",
    "# Analysis\n"
   ]
  },
  {
   "cell_type": "code",
   "execution_count": 0,
   "metadata": {
    "application/vnd.databricks.v1+cell": {
     "cellMetadata": {
      "byteLimit": 2048000,
      "rowLimit": 10000
     },
     "inputWidgets": {},
     "nuid": "5f8f4fd4-6529-4588-af4b-1315ee61579e",
     "showTitle": false,
     "title": ""
    }
   },
   "outputs": [],
   "source": [
    "from pyspark.sql import functions as F\n",
    "from pyspark.sql.window import Window\n",
    "from pyspark.sql.functions import rand"
   ]
  },
  {
   "cell_type": "markdown",
   "metadata": {
    "application/vnd.databricks.v1+cell": {
     "cellMetadata": {
      "byteLimit": 2048000,
      "rowLimit": 10000
     },
     "inputWidgets": {},
     "nuid": "f96576cf-9a8b-49ef-9648-8cf0dd2ec23c",
     "showTitle": false,
     "title": ""
    }
   },
   "source": [
    "\n",
    "## Connect to Azure Data Lake Storage\n"
   ]
  },
  {
   "cell_type": "code",
   "execution_count": 0,
   "metadata": {
    "application/vnd.databricks.v1+cell": {
     "cellMetadata": {
      "byteLimit": 2048000,
      "rowLimit": 10000
     },
     "inputWidgets": {},
     "nuid": "cb4790c7-6ef0-491e-a9e5-cb392ebbf688",
     "showTitle": false,
     "title": ""
    }
   },
   "outputs": [],
   "source": [
    "storage_account = '20231023desa'\n",
    "container_name = \"team3-project2\"\n",
    "paths=[\n",
    "    f'abfss://{container_name}@{storage_account}.dfs.core.windows.net/GoldLayer/main',\n",
    "    f'abfss://{container_name}@{storage_account}.dfs.core.windows.net/GoldLayer/date',\n",
    "    f'abfss://{container_name}@{storage_account}.dfs.core.windows.net/GoldLayer/commits',\n",
    "    f'abfss://{container_name}@{storage_account}.dfs.core.windows.net/GoldLayer/push_event',\n",
    "    f'abfss://{container_name}@{storage_account}.dfs.core.windows.net/GoldLayer/actor',\n",
    "    f'abfss://{container_name}@{storage_account}.dfs.core.windows.net/GoldLayer/repo'\n",
    "]\n",
    "\n",
    "client_id = dbutils.secrets.get('20231023 ADLS Access', 'client-id')\n",
    "client_secret = dbutils.secrets.get('20231023 ADLS Access', 'sp-secret')\n",
    "tenant_id = dbutils.secrets.get('20231023 ADLS Access', 'tenant-id')"
   ]
  },
  {
   "cell_type": "markdown",
   "metadata": {
    "application/vnd.databricks.v1+cell": {
     "cellMetadata": {
      "byteLimit": 2048000,
      "rowLimit": 10000
     },
     "inputWidgets": {},
     "nuid": "78d2d3d1-3407-4ecd-a4fb-3744952e2c3a",
     "showTitle": false,
     "title": ""
    }
   },
   "source": [
    "\n",
    "### Set Azure Service Principal\n"
   ]
  },
  {
   "cell_type": "code",
   "execution_count": 0,
   "metadata": {
    "application/vnd.databricks.v1+cell": {
     "cellMetadata": {
      "byteLimit": 2048000,
      "rowLimit": 10000
     },
     "inputWidgets": {},
     "nuid": "a7caf657-6c42-40ba-b384-b4c9c648cbb6",
     "showTitle": false,
     "title": ""
    }
   },
   "outputs": [],
   "source": [
    "spark.conf.set(f\"fs.azure.account.auth.type.{storage_account}.dfs.core.windows.net\", \"OAuth\")\n",
    "spark.conf.set(f\"fs.azure.account.oauth.provider.type.{storage_account}.dfs.core.windows.net\", \"org.apache.hadoop.fs.azurebfs.oauth2.ClientCredsTokenProvider\")\n",
    "spark.conf.set(f\"fs.azure.account.oauth2.client.id.{storage_account}.dfs.core.windows.net\", client_id)\n",
    "spark.conf.set(f\"fs.azure.account.oauth2.client.secret.{storage_account}.dfs.core.windows.net\", client_secret)\n",
    "spark.conf.set(f\"fs.azure.account.oauth2.client.endpoint.{storage_account}.dfs.core.windows.net\", f\"https://login.microsoftonline.com/{tenant_id}/oauth2/token\")"
   ]
  },
  {
   "cell_type": "markdown",
   "metadata": {
    "application/vnd.databricks.v1+cell": {
     "cellMetadata": {
      "byteLimit": 2048000,
      "rowLimit": 10000
     },
     "inputWidgets": {},
     "nuid": "00cc8278-65b7-41b9-a3dd-aa96cef2a285",
     "showTitle": false,
     "title": ""
    }
   },
   "source": [
    "\n",
    "### Read to DataFrames from Gold Layer\n"
   ]
  },
  {
   "cell_type": "code",
   "execution_count": 0,
   "metadata": {
    "application/vnd.databricks.v1+cell": {
     "cellMetadata": {
      "byteLimit": 2048000,
      "rowLimit": 10000
     },
     "inputWidgets": {},
     "nuid": "3288258b-8a4a-43fc-bad7-466574fc74c3",
     "showTitle": false,
     "title": ""
    }
   },
   "outputs": [],
   "source": [
    "main_df = spark.read.format('parquet').load(paths[0])\n",
    "date_df = spark.read.format('parquet').load(paths[1])\n",
    "commits_df = spark.read.format('parquet').load(paths[2])\n",
    "push_event_df = spark.read.format('parquet').load(paths[3])\n",
    "actor_df = spark.read.format('parquet').load(paths[4])\n",
    "repo_df = spark.read.format('parquet').load(paths[5])"
   ]
  },
  {
   "cell_type": "code",
   "execution_count": 0,
   "metadata": {
    "application/vnd.databricks.v1+cell": {
     "cellMetadata": {
      "byteLimit": 2048000,
      "rowLimit": 10000
     },
     "inputWidgets": {},
     "nuid": "4bc212fe-19c0-4043-b919-9c6162958122",
     "showTitle": false,
     "title": ""
    }
   },
   "outputs": [],
   "source": [
    "main_df = main_df.drop(\"created_at\")"
   ]
  },
  {
   "cell_type": "markdown",
   "metadata": {
    "application/vnd.databricks.v1+cell": {
     "cellMetadata": {
      "byteLimit": 2048000,
      "rowLimit": 10000
     },
     "inputWidgets": {},
     "nuid": "bdb77507-17a8-496f-83ce-7e310489d353",
     "showTitle": false,
     "title": ""
    }
   },
   "source": [
    "\n",
    "## Data aggregated by type of GitHub event per day"
   ]
  },
  {
   "cell_type": "code",
   "execution_count": 0,
   "metadata": {
    "application/vnd.databricks.v1+cell": {
     "cellMetadata": {
      "byteLimit": 2048000,
      "rowLimit": 10000
     },
     "inputWidgets": {},
     "nuid": "45677e71-871e-47cd-ad06-a7c87c46bbe0",
     "showTitle": false,
     "title": ""
    }
   },
   "outputs": [],
   "source": [
    "events_per_day = main_df.groupBy(\n",
    "    F.col(\"type\"),\n",
    "    F.dayofmonth(\"created_at\").alias(\"day\")\n",
    ").count()"
   ]
  },
  {
   "cell_type": "code",
   "execution_count": 0,
   "metadata": {
    "application/vnd.databricks.v1+cell": {
     "cellMetadata": {
      "byteLimit": 2048000,
      "rowLimit": 10000
     },
     "inputWidgets": {},
     "nuid": "1738330b-da3e-4183-9d4a-e4b8806aa38d",
     "showTitle": false,
     "title": ""
    }
   },
   "outputs": [
    {
     "output_type": "display_data",
     "data": {
      "text/html": [
       "<style scoped>\n",
       "  .table-result-container {\n",
       "    max-height: 300px;\n",
       "    overflow: auto;\n",
       "  }\n",
       "  table, th, td {\n",
       "    border: 1px solid black;\n",
       "    border-collapse: collapse;\n",
       "  }\n",
       "  th, td {\n",
       "    padding: 5px;\n",
       "  }\n",
       "  th {\n",
       "    text-align: left;\n",
       "  }\n",
       "</style><div class='table-result-container'><table class='table-result'><thead style='background-color: white'><tr><th>type</th><th>day</th><th>count</th></tr></thead><tbody><tr><td>PullRequestEvent</td><td>30</td><td>145579</td></tr><tr><td>CreateEvent</td><td>1</td><td>261401</td></tr><tr><td>PullRequestEvent</td><td>23</td><td>154579</td></tr><tr><td>DeleteEvent</td><td>17</td><td>152139</td></tr><tr><td>PullRequestEvent</td><td>1</td><td>159441</td></tr><tr><td>DeleteEvent</td><td>21</td><td>148339</td></tr><tr><td>DeleteEvent</td><td>24</td><td>146778</td></tr><tr><td>DeleteEvent</td><td>10</td><td>136403</td></tr><tr><td>DeleteEvent</td><td>31</td><td>145307</td></tr><tr><td>DeleteEvent</td><td>25</td><td>132262</td></tr><tr><td>CreateEvent</td><td>2</td><td>287560</td></tr><tr><td>PushEvent</td><td>8</td><td>1410369</td></tr><tr><td>PushEvent</td><td>9</td><td>1486169</td></tr><tr><td>PushEvent</td><td>30</td><td>1434326</td></tr><tr><td>PushEvent</td><td>23</td><td>1458768</td></tr><tr><td>PushEvent</td><td>16</td><td>1414884</td></tr><tr><td>PushEvent</td><td>2</td><td>1374665</td></tr><tr><td>PushEvent</td><td>15</td><td>1332826</td></tr><tr><td>PushEvent</td><td>26</td><td>1747081</td></tr><tr><td>PushEvent</td><td>21</td><td>1805406</td></tr><tr><td>PushEvent</td><td>12</td><td>1753163</td></tr><tr><td>PushEvent</td><td>10</td><td>1789621</td></tr><tr><td>PushEvent</td><td>27</td><td>1701862</td></tr><tr><td>PushEvent</td><td>18</td><td>1721533</td></tr><tr><td>PushEvent</td><td>24</td><td>1707193</td></tr><tr><td>CreateEvent</td><td>25</td><td>486124</td></tr><tr><td>CreateEvent</td><td>31</td><td>492323</td></tr><tr><td>CreateEvent</td><td>10</td><td>487932</td></tr><tr><td>CreateEvent</td><td>12</td><td>486589</td></tr><tr><td>CreateEvent</td><td>18</td><td>478497</td></tr><tr><td>CreateEvent</td><td>26</td><td>478338</td></tr><tr><td>CreateEvent</td><td>4</td><td>451279</td></tr><tr><td>CreateEvent</td><td>7</td><td>460174</td></tr><tr><td>CreateEvent</td><td>3</td><td>452239</td></tr><tr><td>CreateEvent</td><td>6</td><td>449570</td></tr><tr><td>CreateEvent</td><td>23</td><td>352321</td></tr><tr><td>PullRequestEvent</td><td>15</td><td>419512</td></tr><tr><td>CreateEvent</td><td>30</td><td>341300</td></tr><tr><td>CreateEvent</td><td>9</td><td>322263</td></tr><tr><td>PullRequestEvent</td><td>24</td><td>343540</td></tr><tr><td>CreateEvent</td><td>29</td><td>337735</td></tr><tr><td>PullRequestEvent</td><td>21</td><td>379921</td></tr><tr><td>PullRequestEvent</td><td>31</td><td>343103</td></tr><tr><td>PullRequestEvent</td><td>26</td><td>284695</td></tr><tr><td>PullRequestEvent</td><td>10</td><td>320281</td></tr><tr><td>PullRequestEvent</td><td>19</td><td>286633</td></tr><tr><td>PullRequestEvent</td><td>25</td><td>290722</td></tr><tr><td>PullRequestEvent</td><td>27</td><td>307023</td></tr><tr><td>PushEvent</td><td>29</td><td>1436665</td></tr><tr><td>PushEvent</td><td>3</td><td>1562422</td></tr><tr><td>PushEvent</td><td>22</td><td>1477828</td></tr><tr><td>IssueCommentEvent</td><td>14</td><td>176238</td></tr><tr><td>IssueCommentEvent</td><td>5</td><td>183828</td></tr><tr><td>DeleteEvent</td><td>22</td><td>203245</td></tr><tr><td>IssueCommentEvent</td><td>4</td><td>192178</td></tr><tr><td>IssueCommentEvent</td><td>3</td><td>189101</td></tr><tr><td>DeleteEvent</td><td>13</td><td>184757</td></tr><tr><td>IssueCommentEvent</td><td>28</td><td>190886</td></tr><tr><td>DeleteEvent</td><td>5</td><td>218429</td></tr><tr><td>PushEvent</td><td>31</td><td>1652121</td></tr><tr><td>PushEvent</td><td>14</td><td>1631221</td></tr><tr><td>PushEvent</td><td>13</td><td>1646287</td></tr><tr><td>PushEvent</td><td>20</td><td>1873884</td></tr><tr><td>PushEvent</td><td>19</td><td>1868457</td></tr><tr><td>DeleteEvent</td><td>27</td><td>122495</td></tr><tr><td>DeleteEvent</td><td>20</td><td>118021</td></tr><tr><td>PullRequestEvent</td><td>9</td><td>133739</td></tr><tr><td>DeleteEvent</td><td>3</td><td>132661</td></tr><tr><td>DeleteEvent</td><td>26</td><td>124494</td></tr><tr><td>DeleteEvent</td><td>18</td><td>116518</td></tr><tr><td>PullRequestEvent</td><td>8</td><td>136320</td></tr><tr><td>DeleteEvent</td><td>4</td><td>121967</td></tr><tr><td>DeleteEvent</td><td>19</td><td>120520</td></tr><tr><td>PushEvent</td><td>28</td><td>1687865</td></tr><tr><td>PushEvent</td><td>4</td><td>1686532</td></tr><tr><td>PushEvent</td><td>7</td><td>1668887</td></tr><tr><td>PushEvent</td><td>17</td><td>1642784</td></tr><tr><td>PushEvent</td><td>6</td><td>2252348</td></tr><tr><td>PullRequestReviewCommentEvent</td><td>19</td><td>68539</td></tr><tr><td>DeleteEvent</td><td>29</td><td>70603</td></tr><tr><td>PullRequestReviewCommentEvent</td><td>27</td><td>66204</td></tr><tr><td>PullRequestEvent</td><td>2</td><td>125245</td></tr><tr><td>IssuesEvent</td><td>8</td><td>70755</td></tr><tr><td>PullRequestReviewCommentEvent</td><td>20</td><td>66735</td></tr><tr><td>IssuesEvent</td><td>3</td><td>66554</td></tr><tr><td>WatchEvent</td><td>1</td><td>111119</td></tr><tr><td>PullRequestReviewCommentEvent</td><td>25</td><td>69311</td></tr><tr><td>DeleteEvent</td><td>23</td><td>71333</td></tr><tr><td>PullRequestReviewCommentEvent</td><td>26</td><td>68900</td></tr><tr><td>PushEvent</td><td>25</td><td>1744410</td></tr><tr><td>CreateEvent</td><td>20</td><td>488416</td></tr><tr><td>CreateEvent</td><td>11</td><td>463121</td></tr><tr><td>CreateEvent</td><td>5</td><td>471014</td></tr><tr><td>PullRequestEvent</td><td>4</td><td>266838</td></tr><tr><td>PullRequestEvent</td><td>11</td><td>272788</td></tr><tr><td>PullRequestEvent</td><td>3</td><td>300395</td></tr><tr><td>PullRequestEvent</td><td>28</td><td>270748</td></tr><tr><td>PullRequestEvent</td><td>18</td><td>278507</td></tr><tr><td>PullRequestEvent</td><td>7</td><td>274389</td></tr><tr><td>WatchEvent</td><td>11</td><td>180150</td></tr><tr><td>WatchEvent</td><td>19</td><td>181443</td></tr><tr><td>WatchEvent</td><td>12</td><td>177913</td></tr><tr><td>WatchEvent</td><td>18</td><td>179219</td></tr><tr><td>WatchEvent</td><td>25</td><td>177203</td></tr><tr><td>WatchEvent</td><td>6</td><td>176309</td></tr><tr><td>IssueCommentEvent</td><td>11</td><td>196968</td></tr><tr><td>WatchEvent</td><td>24</td><td>176771</td></tr><tr><td>IssueCommentEvent</td><td>12</td><td>194837</td></tr><tr><td>IssueCommentEvent</td><td>18</td><td>194216</td></tr><tr><td>WatchEvent</td><td>20</td><td>176544</td></tr><tr><td>WatchEvent</td><td>10</td><td>178331</td></tr><tr><td>WatchEvent</td><td>5</td><td>179843</td></tr><tr><td>IssueCommentEvent</td><td>22</td><td>234925</td></tr><tr><td>WatchEvent</td><td>26</td><td>175109</td></tr><tr><td>WatchEvent</td><td>17</td><td>180099</td></tr><tr><td>PullRequestReviewEvent</td><td>21</td><td>97416</td></tr><tr><td>IssueCommentEvent</td><td>23</td><td>97383</td></tr><tr><td>PullRequestReviewEvent</td><td>5</td><td>103220</td></tr><tr><td>IssueCommentEvent</td><td>29</td><td>98772</td></tr><tr><td>PullRequestReviewEvent</td><td>12</td><td>104957</td></tr><tr><td>PullRequestReviewEvent</td><td>4</td><td>101303</td></tr><tr><td>DeleteEvent</td><td>7</td><td>110774</td></tr><tr><td>IssueCommentEvent</td><td>9</td><td>95981</td></tr><tr><td>DeleteEvent</td><td>14</td><td>108302</td></tr><tr><td>IssueCommentEvent</td><td>16</td><td>95081</td></tr><tr><td>PullRequestReviewEvent</td><td>13</td><td>106083</td></tr><tr><td>PullRequestReviewEvent</td><td>14</td><td>100149</td></tr><tr><td>DeleteEvent</td><td>6</td><td>103195</td></tr><tr><td>PullRequestReviewEvent</td><td>31</td><td>101630</td></tr><tr><td>IssueCommentEvent</td><td>30</td><td>95850</td></tr><tr><td>IssueCommentEvent</td><td>8</td><td>91766</td></tr><tr><td>PullRequestReviewEvent</td><td>8</td><td>41119</td></tr><tr><td>PullRequestReviewEvent</td><td>29</td><td>35976</td></tr><tr><td>IssueCommentEvent</td><td>2</td><td>76383</td></tr><tr><td>PullRequestReviewCommentEvent</td><td>6</td><td>52355</td></tr><tr><td>PullRequestReviewCommentEvent</td><td>3</td><td>38705</td></tr><tr><td>PullRequestReviewEvent</td><td>22</td><td>33816</td></tr><tr><td>PullRequestReviewEvent</td><td>9</td><td>39555</td></tr><tr><td>PullRequestReviewCommentEvent</td><td>30</td><td>21366</td></tr><tr><td>PullRequestReviewCommentEvent</td><td>7</td><td>48361</td></tr><tr><td>IssuesEvent</td><td>15</td><td>53687</td></tr><tr><td>IssuesEvent</td><td>29</td><td>52372</td></tr><tr><td>PullRequestReviewEvent</td><td>23</td><td>31786</td></tr><tr><td>IssuesEvent</td><td>2</td><td>42321</td></tr><tr><td>PullRequestReviewEvent</td><td>30</td><td>33556</td></tr><tr><td>PullRequestReviewCommentEvent</td><td>4</td><td>52688</td></tr><tr><td>PullRequestReviewEvent</td><td>16</td><td>36624</td></tr><tr><td>PullRequestReviewCommentEvent</td><td>29</td><td>21635</td></tr><tr><td>GollumEvent</td><td>22</td><td>5858</td></tr><tr><td>MemberEvent</td><td>1</td><td>2644</td></tr><tr><td>PullRequestReviewCommentEvent</td><td>1</td><td>9020</td></tr><tr><td>GollumEvent</td><td>15</td><td>5818</td></tr><tr><td>GollumEvent</td><td>2</td><td>4881</td></tr><tr><td>GollumEvent</td><td>1</td><td>4035</td></tr><tr><td>GollumEvent</td><td>8</td><td>5785</td></tr><tr><td>CommitCommentEvent</td><td>1</td><td>10727</td></tr><tr><td>PublicEvent</td><td>1</td><td>5358</td></tr><tr><td>PushEvent</td><td>5</td><td>1834574</td></tr><tr><td>PushEvent</td><td>11</td><td>1787050</td></tr><tr><td>CreateEvent</td><td>24</td><td>505705</td></tr><tr><td>CreateEvent</td><td>22</td><td>554746</td></tr><tr><td>CreateEvent</td><td>17</td><td>507813</td></tr><tr><td>CreateEvent</td><td>15</td><td>590929</td></tr><tr><td>CreateEvent</td><td>28</td><td>450680</td></tr><tr><td>PullRequestEvent</td><td>22</td><td>509367</td></tr><tr><td>PullRequestEvent</td><td>14</td><td>779582</td></tr><tr><td>CreateEvent</td><td>16</td><td>343835</td></tr><tr><td>CreateEvent</td><td>8</td><td>321098</td></tr><tr><td>PullRequestEvent</td><td>17</td><td>349202</td></tr><tr><td>WatchEvent</td><td>21</td><td>170216</td></tr><tr><td>WatchEvent</td><td>27</td><td>170044</td></tr><tr><td>WatchEvent</td><td>7</td><td>173949</td></tr><tr><td>WatchEvent</td><td>3</td><td>151790</td></tr><tr><td>WatchEvent</td><td>23</td><td>143096</td></tr><tr><td>WatchEvent</td><td>31</td><td>137001</td></tr><tr><td>IssueCommentEvent</td><td>6</td><td>174542</td></tr><tr><td>IssueCommentEvent</td><td>7</td><td>170014</td></tr><tr><td>WatchEvent</td><td>16</td><td>140061</td></tr><tr><td>WatchEvent</td><td>9</td><td>141753</td></tr><tr><td>PullRequestEvent</td><td>13</td><td>776045</td></tr><tr><td>WatchEvent</td><td>29</td><td>136491</td></tr><tr><td>PullRequestEvent</td><td>16</td><td>164747</td></tr><tr><td>WatchEvent</td><td>15</td><td>133840</td></tr><tr><td>PullRequestEvent</td><td>29</td><td>159487</td></tr><tr><td>WatchEvent</td><td>22</td><td>137718</td></tr><tr><td>WatchEvent</td><td>8</td><td>138048</td></tr><tr><td>WatchEvent</td><td>30</td><td>130409</td></tr><tr><td>PullRequestReviewEvent</td><td>26</td><td>112077</td></tr><tr><td>DeleteEvent</td><td>12</td><td>121346</td></tr><tr><td>PullRequestReviewEvent</td><td>25</td><td>111516</td></tr><tr><td>DeleteEvent</td><td>28</td><td>118534</td></tr><tr><td>DeleteEvent</td><td>11</td><td>111798</td></tr><tr><td>PullRequestReviewEvent</td><td>11</td><td>117725</td></tr><tr><td>PullRequestReviewCommentEvent</td><td>31</td><td>61778</td></tr><tr><td>PullRequestReviewCommentEvent</td><td>28</td><td>60960</td></tr><tr><td>IssuesEvent</td><td>9</td><td>61667</td></tr><tr><td>IssuesEvent</td><td>30</td><td>55653</td></tr><tr><td>ForkEvent</td><td>15</td><td>45983</td></tr><tr><td>ForkEvent</td><td>22</td><td>47523</td></tr><tr><td>DeleteEvent</td><td>9</td><td>62352</td></tr><tr><td>PullRequestReviewCommentEvent</td><td>10</td><td>60153</td></tr><tr><td>ForkEvent</td><td>16</td><td>48446</td></tr><tr><td>DeleteEvent</td><td>8</td><td>67934</td></tr><tr><td>IssuesEvent</td><td>23</td><td>61122</td></tr><tr><td>ForkEvent</td><td>8</td><td>46279</td></tr><tr><td>DeleteEvent</td><td>30</td><td>65791</td></tr><tr><td>ForkEvent</td><td>30</td><td>46216</td></tr><tr><td>DeleteEvent</td><td>1</td><td>72318</td></tr><tr><td>PullRequestReviewCommentEvent</td><td>13</td><td>59409</td></tr><tr><td>IssuesEvent</td><td>16</td><td>56142</td></tr><tr><td>ForkEvent</td><td>29</td><td>49022</td></tr><tr><td>PullRequestReviewCommentEvent</td><td>21</td><td>59703</td></tr><tr><td>ForkEvent</td><td>9</td><td>46948</td></tr><tr><td>IssuesEvent</td><td>22</td><td>55775</td></tr><tr><td>PullRequestReviewEvent</td><td>15</td><td>46187</td></tr><tr><td>PullRequestReviewCommentEvent</td><td>5</td><td>55409</td></tr><tr><td>PullRequestReviewCommentEvent</td><td>14</td><td>54760</td></tr><tr><td>PullRequestReviewEvent</td><td>3</td><td>78432</td></tr><tr><td>PullRequestReviewCommentEvent</td><td>17</td><td>54043</td></tr><tr><td>ForkEvent</td><td>2</td><td>41897</td></tr><tr><td>ReleaseEvent</td><td>28</td><td>22041</td></tr><tr><td>ReleaseEvent</td><td>10</td><td>22775</td></tr><tr><td>ReleaseEvent</td><td>19</td><td>23829</td></tr><tr><td>ReleaseEvent</td><td>21</td><td>23208</td></tr><tr><td>DeleteEvent</td><td>2</td><td>60665</td></tr><tr><td>ReleaseEvent</td><td>17</td><td>22664</td></tr><tr><td>ReleaseEvent</td><td>25</td><td>21634</td></tr><tr><td>ReleaseEvent</td><td>7</td><td>23181</td></tr><tr><td>PullRequestReviewEvent</td><td>2</td><td>27124</td></tr><tr><td>ReleaseEvent</td><td>18</td><td>22727</td></tr><tr><td>ReleaseEvent</td><td>26</td><td>22083</td></tr><tr><td>ReleaseEvent</td><td>24</td><td>22261</td></tr><tr><td>ReleaseEvent</td><td>20</td><td>22786</td></tr><tr><td>ReleaseEvent</td><td>5</td><td>22655</td></tr><tr><td>ReleaseEvent</td><td>12</td><td>23936</td></tr><tr><td>ReleaseEvent</td><td>11</td><td>24334</td></tr><tr><td>ReleaseEvent</td><td>13</td><td>23269</td></tr><tr><td>PublicEvent</td><td>26</td><td>11553</td></tr><tr><td>MemberEvent</td><td>24</td><td>11155</td></tr><tr><td>PublicEvent</td><td>19</td><td>11250</td></tr><tr><td>PublicEvent</td><td>31</td><td>11479</td></tr><tr><td>CommitCommentEvent</td><td>14</td><td>16052</td></tr><tr><td>CommitCommentEvent</td><td>6</td><td>15925</td></tr><tr><td>MemberEvent</td><td>18</td><td>11597</td></tr><tr><td>CommitCommentEvent</td><td>21</td><td>17908</td></tr><tr><td>MemberEvent</td><td>20</td><td>11241</td></tr><tr><td>CommitCommentEvent</td><td>12</td><td>16561</td></tr><tr><td>PublicEvent</td><td>10</td><td>11509</td></tr><tr><td>CommitCommentEvent</td><td>18</td><td>17530</td></tr><tr><td>MemberEvent</td><td>31</td><td>10770</td></tr><tr><td>CommitCommentEvent</td><td>19</td><td>17869</td></tr><tr><td>PublicEvent</td><td>17</td><td>11241</td></tr><tr><td>PublicEvent</td><td>18</td><td>11267</td></tr><tr><td>CommitCommentEvent</td><td>11</td><td>16790</td></tr><tr><td>MemberEvent</td><td>19</td><td>11670</td></tr><tr><td>PublicEvent</td><td>25</td><td>11419</td></tr><tr><td>PublicEvent</td><td>12</td><td>11110</td></tr><tr><td>CommitCommentEvent</td><td>20</td><td>17251</td></tr><tr><td>PublicEvent</td><td>24</td><td>11203</td></tr><tr><td>CommitCommentEvent</td><td>10</td><td>17383</td></tr><tr><td>CommitCommentEvent</td><td>13</td><td>16120</td></tr><tr><td>PublicEvent</td><td>11</td><td>11078</td></tr><tr><td>PublicEvent</td><td>27</td><td>11681</td></tr><tr><td>MemberEvent</td><td>27</td><td>10751</td></tr><tr><td>MemberEvent</td><td>25</td><td>11193</td></tr><tr><td>PublicEvent</td><td>20</td><td>11430</td></tr><tr><td>CommitCommentEvent</td><td>17</td><td>16934</td></tr><tr><td>CreateEvent</td><td>21</td><td>546815</td></tr><tr><td>CreateEvent</td><td>13</td><td>886210</td></tr><tr><td>PullRequestEvent</td><td>5</td><td>252040</td></tr><tr><td>PullRequestEvent</td><td>6</td><td>251290</td></tr><tr><td>PushEvent</td><td>1</td><td>1303922</td></tr><tr><td>MemberEvent</td><td>10</td><td>10163</td></tr><tr><td>CommitCommentEvent</td><td>5</td><td>15861</td></tr><tr><td>PublicEvent</td><td>21</td><td>10715</td></tr><tr><td>MemberEvent</td><td>7</td><td>10447</td></tr><tr><td>MemberEvent</td><td>26</td><td>10543</td></tr><tr><td>MemberEvent</td><td>12</td><td>10189</td></tr><tr><td>CommitCommentEvent</td><td>30</td><td>16688</td></tr><tr><td>MemberEvent</td><td>21</td><td>10047</td></tr><tr><td>MemberEvent</td><td>17</td><td>10099</td></tr><tr><td>MemberEvent</td><td>28</td><td>10663</td></tr><tr><td>PublicEvent</td><td>28</td><td>10670</td></tr><tr><td>MemberEvent</td><td>13</td><td>10335</td></tr><tr><td>IssueCommentEvent</td><td>24</td><td>234229</td></tr><tr><td>IssueCommentEvent</td><td>10</td><td>220497</td></tr><tr><td>IssueCommentEvent</td><td>25</td><td>211410</td></tr><tr><td>IssueCommentEvent</td><td>31</td><td>225319</td></tr><tr><td>IssueCommentEvent</td><td>17</td><td>220700</td></tr><tr><td>CommitCommentEvent</td><td>26</td><td>19648</td></tr><tr><td>CommitCommentEvent</td><td>24</td><td>18927</td></tr><tr><td>ReleaseEvent</td><td>2</td><td>17001</td></tr><tr><td>CommitCommentEvent</td><td>25</td><td>19588</td></tr><tr><td>PullRequestReviewCommentEvent</td><td>9</td><td>18703</td></tr><tr><td>CommitCommentEvent</td><td>28</td><td>18925</td></tr><tr><td>PullRequestReviewCommentEvent</td><td>8</td><td>18583</td></tr><tr><td>ReleaseEvent</td><td>29</td><td>14642</td></tr><tr><td>CommitCommentEvent</td><td>27</td><td>19997</td></tr><tr><td>ReleaseEvent</td><td>30</td><td>15709</td></tr><tr><td>CommitCommentEvent</td><td>31</td><td>18665</td></tr><tr><td>ReleaseEvent</td><td>8</td><td>17944</td></tr><tr><td>PullRequestReviewCommentEvent</td><td>2</td><td>13377</td></tr><tr><td>ReleaseEvent</td><td>22</td><td>17311</td></tr><tr><td>ReleaseEvent</td><td>9</td><td>18263</td></tr><tr><td>MemberEvent</td><td>22</td><td>5966</td></tr><tr><td>MemberEvent</td><td>30</td><td>5094</td></tr><tr><td>MemberEvent</td><td>23</td><td>5374</td></tr><tr><td>GollumEvent</td><td>7</td><td>7987</td></tr><tr><td>MemberEvent</td><td>16</td><td>5260</td></tr><tr><td>GollumEvent</td><td>13</td><td>8323</td></tr><tr><td>GollumEvent</td><td>18</td><td>8772</td></tr><tr><td>GollumEvent</td><td>6</td><td>8389</td></tr><tr><td>GollumEvent</td><td>14</td><td>7224</td></tr><tr><td>GollumEvent</td><td>12</td><td>8474</td></tr><tr><td>MemberEvent</td><td>8</td><td>5141</td></tr><tr><td>GollumEvent</td><td>5</td><td>7397</td></tr><tr><td>GollumEvent</td><td>25</td><td>8577</td></tr><tr><td>GollumEvent</td><td>19</td><td>9057</td></tr><tr><td>GollumEvent</td><td>17</td><td>8164</td></tr><tr><td>GollumEvent</td><td>26</td><td>7634</td></tr><tr><td>GollumEvent</td><td>21</td><td>8210</td></tr><tr><td>GollumEvent</td><td>10</td><td>8486</td></tr><tr><td>GollumEvent</td><td>11</td><td>8089</td></tr><tr><td>GollumEvent</td><td>4</td><td>7443</td></tr><tr><td>GollumEvent</td><td>28</td><td>8618</td></tr><tr><td>MemberEvent</td><td>15</td><td>5819</td></tr><tr><td>GollumEvent</td><td>31</td><td>7691</td></tr><tr><td>PullRequestEvent</td><td>12</td><td>292808</td></tr><tr><td>PullRequestEvent</td><td>20</td><td>283202</td></tr><tr><td>WatchEvent</td><td>13</td><td>164433</td></tr><tr><td>WatchEvent</td><td>14</td><td>159537</td></tr><tr><td>IssueCommentEvent</td><td>27</td><td>203501</td></tr><tr><td>WatchEvent</td><td>2</td><td>173832</td></tr><tr><td>IssueCommentEvent</td><td>20</td><td>197632</td></tr><tr><td>WatchEvent</td><td>28</td><td>160240</td></tr><tr><td>PullRequestReviewEvent</td><td>18</td><td>106927</td></tr><tr><td>PullRequestReviewEvent</td><td>27</td><td>104668</td></tr><tr><td>PullRequestReviewEvent</td><td>19</td><td>108525</td></tr><tr><td>PullRequestReviewEvent</td><td>10</td><td>111896</td></tr><tr><td>PullRequestReviewEvent</td><td>24</td><td>105704</td></tr><tr><td>PullRequestReviewEvent</td><td>20</td><td>106912</td></tr><tr><td>IssueCommentEvent</td><td>15</td><td>101895</td></tr><tr><td>IssuesEvent</td><td>21</td><td>83933</td></tr><tr><td>IssuesEvent</td><td>13</td><td>78500</td></tr><tr><td>IssueCommentEvent</td><td>1</td><td>88845</td></tr><tr><td>IssuesEvent</td><td>25</td><td>87933</td></tr><tr><td>IssuesEvent</td><td>27</td><td>82222</td></tr><tr><td>IssuesEvent</td><td>31</td><td>81628</td></tr><tr><td>IssuesEvent</td><td>5</td><td>79511</td></tr><tr><td>IssuesEvent</td><td>24</td><td>85987</td></tr><tr><td>IssuesEvent</td><td>17</td><td>81224</td></tr><tr><td>IssuesEvent</td><td>26</td><td>83798</td></tr><tr><td>IssuesEvent</td><td>11</td><td>87068</td></tr><tr><td>IssuesEvent</td><td>12</td><td>85054</td></tr><tr><td>PullRequestReviewEvent</td><td>17</td><td>92047</td></tr><tr><td>IssuesEvent</td><td>28</td><td>78411</td></tr><tr><td>ForkEvent</td><td>26</td><td>66064</td></tr><tr><td>ForkEvent</td><td>11</td><td>67494</td></tr><tr><td>IssuesEvent</td><td>4</td><td>75568</td></tr><tr><td>IssuesEvent</td><td>6</td><td>77732</td></tr><tr><td>IssuesEvent</td><td>14</td><td>76205</td></tr><tr><td>ForkEvent</td><td>12</td><td>66814</td></tr><tr><td>ForkEvent</td><td>25</td><td>67605</td></tr><tr><td>ForkEvent</td><td>18</td><td>65797</td></tr><tr><td>IssuesEvent</td><td>7</td><td>78849</td></tr><tr><td>ForkEvent</td><td>19</td><td>66760</td></tr><tr><td>ForkEvent</td><td>20</td><td>66812</td></tr><tr><td>ForkEvent</td><td>5</td><td>62806</td></tr><tr><td>ForkEvent</td><td>27</td><td>63883</td></tr><tr><td>ForkEvent</td><td>13</td><td>62007</td></tr><tr><td>ForkEvent</td><td>17</td><td>62844</td></tr><tr><td>ForkEvent</td><td>10</td><td>64402</td></tr><tr><td>ForkEvent</td><td>4</td><td>62597</td></tr><tr><td>ForkEvent</td><td>21</td><td>63027</td></tr><tr><td>PullRequestReviewEvent</td><td>7</td><td>85186</td></tr><tr><td>ForkEvent</td><td>24</td><td>65115</td></tr><tr><td>PullRequestReviewEvent</td><td>6</td><td>90160</td></tr><tr><td>PublicEvent</td><td>3</td><td>9857</td></tr><tr><td>PublicEvent</td><td>14</td><td>9885</td></tr><tr><td>PublicEvent</td><td>7</td><td>9875</td></tr><tr><td>CommitCommentEvent</td><td>29</td><td>16633</td></tr><tr><td>PublicEvent</td><td>13</td><td>10121</td></tr><tr><td>CommitCommentEvent</td><td>16</td><td>15144</td></tr><tr><td>CommitCommentEvent</td><td>22</td><td>15374</td></tr><tr><td>CommitCommentEvent</td><td>23</td><td>15636</td></tr><tr><td>PublicEvent</td><td>6</td><td>10255</td></tr><tr><td>PublicEvent</td><td>4</td><td>10244</td></tr><tr><td>CommitCommentEvent</td><td>3</td><td>15010</td></tr><tr><td>CommitCommentEvent</td><td>4</td><td>15134</td></tr><tr><td>CommitCommentEvent</td><td>7</td><td>15205</td></tr><tr><td>PublicEvent</td><td>5</td><td>9927</td></tr><tr><td>PublicEvent</td><td>16</td><td>8746</td></tr><tr><td>PublicEvent</td><td>9</td><td>8899</td></tr><tr><td>CommitCommentEvent</td><td>8</td><td>13067</td></tr><tr><td>PublicEvent</td><td>30</td><td>9136</td></tr><tr><td>MemberEvent</td><td>4</td><td>8375</td></tr><tr><td>PublicEvent</td><td>22</td><td>8134</td></tr><tr><td>MemberEvent</td><td>14</td><td>8810</td></tr><tr><td>CommitCommentEvent</td><td>9</td><td>13883</td></tr><tr><td>MemberEvent</td><td>6</td><td>8792</td></tr><tr><td>MemberEvent</td><td>5</td><td>8534</td></tr><tr><td>PullRequestReviewEvent</td><td>1</td><td>29841</td></tr><tr><td>MemberEvent</td><td>3</td><td>8088</td></tr><tr><td>CommitCommentEvent</td><td>15</td><td>13573</td></tr><tr><td>PublicEvent</td><td>23</td><td>9028</td></tr><tr><td>MemberEvent</td><td>29</td><td>7017</td></tr><tr><td>PublicEvent</td><td>8</td><td>8139</td></tr><tr><td>PublicEvent</td><td>15</td><td>8018</td></tr><tr><td>GollumEvent</td><td>24</td><td>9116</td></tr><tr><td>PublicEvent</td><td>2</td><td>6907</td></tr><tr><td>GollumEvent</td><td>27</td><td>8932</td></tr><tr><td>CommitCommentEvent</td><td>2</td><td>12454</td></tr><tr><td>PublicEvent</td><td>29</td><td>8234</td></tr><tr><td>GollumEvent</td><td>20</td><td>10326</td></tr><tr><td>CreateEvent</td><td>27</td><td>496991</td></tr><tr><td>CreateEvent</td><td>19</td><td>493131</td></tr><tr><td>IssueCommentEvent</td><td>19</td><td>204498</td></tr><tr><td>IssueCommentEvent</td><td>21</td><td>207969</td></tr><tr><td>IssueCommentEvent</td><td>26</td><td>208014</td></tr><tr><td>DeleteEvent</td><td>15</td><td>77890</td></tr><tr><td>ForkEvent</td><td>28</td><td>60146</td></tr><tr><td>ForkEvent</td><td>6</td><td>60513</td></tr><tr><td>DeleteEvent</td><td>16</td><td>76522</td></tr><tr><td>ForkEvent</td><td>14</td><td>57415</td></tr><tr><td>ForkEvent</td><td>31</td><td>54104</td></tr><tr><td>ForkEvent</td><td>7</td><td>58930</td></tr><tr><td>CreateEvent</td><td>14</td><td>971023</td></tr><tr><td>PullRequestReviewCommentEvent</td><td>23</td><td>20599</td></tr><tr><td>ReleaseEvent</td><td>27</td><td>20555</td></tr><tr><td>ReleaseEvent</td><td>4</td><td>23118</td></tr><tr><td>PullRequestReviewCommentEvent</td><td>22</td><td>19957</td></tr><tr><td>ReleaseEvent</td><td>6</td><td>22158</td></tr><tr><td>ReleaseEvent</td><td>14</td><td>22651</td></tr><tr><td>ForkEvent</td><td>1</td><td>33686</td></tr><tr><td>PullRequestReviewCommentEvent</td><td>16</td><td>21095</td></tr><tr><td>ReleaseEvent</td><td>31</td><td>20110</td></tr><tr><td>ReleaseEvent</td><td>23</td><td>19494</td></tr><tr><td>IssuesEvent</td><td>1</td><td>35029</td></tr><tr><td>MemberEvent</td><td>11</td><td>18014</td></tr><tr><td>ReleaseEvent</td><td>3</td><td>21030</td></tr><tr><td>ReleaseEvent</td><td>15</td><td>18484</td></tr><tr><td>ReleaseEvent</td><td>16</td><td>18607</td></tr><tr><td>PullRequestReviewCommentEvent</td><td>15</td><td>19824</td></tr><tr><td>MemberEvent</td><td>9</td><td>4503</td></tr><tr><td>GollumEvent</td><td>30</td><td>7104</td></tr><tr><td>GollumEvent</td><td>9</td><td>7056</td></tr><tr><td>GollumEvent</td><td>16</td><td>6228</td></tr><tr><td>GollumEvent</td><td>3</td><td>6939</td></tr><tr><td>GollumEvent</td><td>29</td><td>6378</td></tr><tr><td>MemberEvent</td><td>2</td><td>3406</td></tr><tr><td>ReleaseEvent</td><td>1</td><td>13642</td></tr><tr><td>GollumEvent</td><td>23</td><td>7336</td></tr><tr><td>WatchEvent</td><td>4</td><td>184238</td></tr><tr><td>IssueCommentEvent</td><td>13</td><td>255374</td></tr><tr><td>IssuesEvent</td><td>18</td><td>87480</td></tr><tr><td>IssuesEvent</td><td>19</td><td>90020</td></tr><tr><td>IssuesEvent</td><td>10</td><td>99870</td></tr><tr><td>IssuesEvent</td><td>20</td><td>88038</td></tr><tr><td>PullRequestReviewEvent</td><td>28</td><td>98241</td></tr><tr><td>ForkEvent</td><td>3</td><td>52415</td></tr><tr><td>PullRequestReviewCommentEvent</td><td>18</td><td>63661</td></tr><tr><td>PullRequestReviewCommentEvent</td><td>11</td><td>63959</td></tr><tr><td>PullRequestReviewCommentEvent</td><td>12</td><td>63742</td></tr><tr><td>ForkEvent</td><td>23</td><td>49713</td></tr><tr><td>PullRequestReviewCommentEvent</td><td>24</td><td>64803</td></tr></tbody></table></div>"
      ]
     },
     "metadata": {
      "application/vnd.databricks.v1+output": {
       "addedWidgets": {},
       "aggData": [],
       "aggError": "",
       "aggOverflow": false,
       "aggSchema": [],
       "aggSeriesLimitReached": false,
       "aggType": "",
       "arguments": {},
       "columnCustomDisplayInfos": {},
       "data": [
        [
         "PullRequestEvent",
         30,
         145579
        ],
        [
         "CreateEvent",
         1,
         261401
        ],
        [
         "PullRequestEvent",
         23,
         154579
        ],
        [
         "DeleteEvent",
         17,
         152139
        ],
        [
         "PullRequestEvent",
         1,
         159441
        ],
        [
         "DeleteEvent",
         21,
         148339
        ],
        [
         "DeleteEvent",
         24,
         146778
        ],
        [
         "DeleteEvent",
         10,
         136403
        ],
        [
         "DeleteEvent",
         31,
         145307
        ],
        [
         "DeleteEvent",
         25,
         132262
        ],
        [
         "CreateEvent",
         2,
         287560
        ],
        [
         "PushEvent",
         8,
         1410369
        ],
        [
         "PushEvent",
         9,
         1486169
        ],
        [
         "PushEvent",
         30,
         1434326
        ],
        [
         "PushEvent",
         23,
         1458768
        ],
        [
         "PushEvent",
         16,
         1414884
        ],
        [
         "PushEvent",
         2,
         1374665
        ],
        [
         "PushEvent",
         15,
         1332826
        ],
        [
         "PushEvent",
         26,
         1747081
        ],
        [
         "PushEvent",
         21,
         1805406
        ],
        [
         "PushEvent",
         12,
         1753163
        ],
        [
         "PushEvent",
         10,
         1789621
        ],
        [
         "PushEvent",
         27,
         1701862
        ],
        [
         "PushEvent",
         18,
         1721533
        ],
        [
         "PushEvent",
         24,
         1707193
        ],
        [
         "CreateEvent",
         25,
         486124
        ],
        [
         "CreateEvent",
         31,
         492323
        ],
        [
         "CreateEvent",
         10,
         487932
        ],
        [
         "CreateEvent",
         12,
         486589
        ],
        [
         "CreateEvent",
         18,
         478497
        ],
        [
         "CreateEvent",
         26,
         478338
        ],
        [
         "CreateEvent",
         4,
         451279
        ],
        [
         "CreateEvent",
         7,
         460174
        ],
        [
         "CreateEvent",
         3,
         452239
        ],
        [
         "CreateEvent",
         6,
         449570
        ],
        [
         "CreateEvent",
         23,
         352321
        ],
        [
         "PullRequestEvent",
         15,
         419512
        ],
        [
         "CreateEvent",
         30,
         341300
        ],
        [
         "CreateEvent",
         9,
         322263
        ],
        [
         "PullRequestEvent",
         24,
         343540
        ],
        [
         "CreateEvent",
         29,
         337735
        ],
        [
         "PullRequestEvent",
         21,
         379921
        ],
        [
         "PullRequestEvent",
         31,
         343103
        ],
        [
         "PullRequestEvent",
         26,
         284695
        ],
        [
         "PullRequestEvent",
         10,
         320281
        ],
        [
         "PullRequestEvent",
         19,
         286633
        ],
        [
         "PullRequestEvent",
         25,
         290722
        ],
        [
         "PullRequestEvent",
         27,
         307023
        ],
        [
         "PushEvent",
         29,
         1436665
        ],
        [
         "PushEvent",
         3,
         1562422
        ],
        [
         "PushEvent",
         22,
         1477828
        ],
        [
         "IssueCommentEvent",
         14,
         176238
        ],
        [
         "IssueCommentEvent",
         5,
         183828
        ],
        [
         "DeleteEvent",
         22,
         203245
        ],
        [
         "IssueCommentEvent",
         4,
         192178
        ],
        [
         "IssueCommentEvent",
         3,
         189101
        ],
        [
         "DeleteEvent",
         13,
         184757
        ],
        [
         "IssueCommentEvent",
         28,
         190886
        ],
        [
         "DeleteEvent",
         5,
         218429
        ],
        [
         "PushEvent",
         31,
         1652121
        ],
        [
         "PushEvent",
         14,
         1631221
        ],
        [
         "PushEvent",
         13,
         1646287
        ],
        [
         "PushEvent",
         20,
         1873884
        ],
        [
         "PushEvent",
         19,
         1868457
        ],
        [
         "DeleteEvent",
         27,
         122495
        ],
        [
         "DeleteEvent",
         20,
         118021
        ],
        [
         "PullRequestEvent",
         9,
         133739
        ],
        [
         "DeleteEvent",
         3,
         132661
        ],
        [
         "DeleteEvent",
         26,
         124494
        ],
        [
         "DeleteEvent",
         18,
         116518
        ],
        [
         "PullRequestEvent",
         8,
         136320
        ],
        [
         "DeleteEvent",
         4,
         121967
        ],
        [
         "DeleteEvent",
         19,
         120520
        ],
        [
         "PushEvent",
         28,
         1687865
        ],
        [
         "PushEvent",
         4,
         1686532
        ],
        [
         "PushEvent",
         7,
         1668887
        ],
        [
         "PushEvent",
         17,
         1642784
        ],
        [
         "PushEvent",
         6,
         2252348
        ],
        [
         "PullRequestReviewCommentEvent",
         19,
         68539
        ],
        [
         "DeleteEvent",
         29,
         70603
        ],
        [
         "PullRequestReviewCommentEvent",
         27,
         66204
        ],
        [
         "PullRequestEvent",
         2,
         125245
        ],
        [
         "IssuesEvent",
         8,
         70755
        ],
        [
         "PullRequestReviewCommentEvent",
         20,
         66735
        ],
        [
         "IssuesEvent",
         3,
         66554
        ],
        [
         "WatchEvent",
         1,
         111119
        ],
        [
         "PullRequestReviewCommentEvent",
         25,
         69311
        ],
        [
         "DeleteEvent",
         23,
         71333
        ],
        [
         "PullRequestReviewCommentEvent",
         26,
         68900
        ],
        [
         "PushEvent",
         25,
         1744410
        ],
        [
         "CreateEvent",
         20,
         488416
        ],
        [
         "CreateEvent",
         11,
         463121
        ],
        [
         "CreateEvent",
         5,
         471014
        ],
        [
         "PullRequestEvent",
         4,
         266838
        ],
        [
         "PullRequestEvent",
         11,
         272788
        ],
        [
         "PullRequestEvent",
         3,
         300395
        ],
        [
         "PullRequestEvent",
         28,
         270748
        ],
        [
         "PullRequestEvent",
         18,
         278507
        ],
        [
         "PullRequestEvent",
         7,
         274389
        ],
        [
         "WatchEvent",
         11,
         180150
        ],
        [
         "WatchEvent",
         19,
         181443
        ],
        [
         "WatchEvent",
         12,
         177913
        ],
        [
         "WatchEvent",
         18,
         179219
        ],
        [
         "WatchEvent",
         25,
         177203
        ],
        [
         "WatchEvent",
         6,
         176309
        ],
        [
         "IssueCommentEvent",
         11,
         196968
        ],
        [
         "WatchEvent",
         24,
         176771
        ],
        [
         "IssueCommentEvent",
         12,
         194837
        ],
        [
         "IssueCommentEvent",
         18,
         194216
        ],
        [
         "WatchEvent",
         20,
         176544
        ],
        [
         "WatchEvent",
         10,
         178331
        ],
        [
         "WatchEvent",
         5,
         179843
        ],
        [
         "IssueCommentEvent",
         22,
         234925
        ],
        [
         "WatchEvent",
         26,
         175109
        ],
        [
         "WatchEvent",
         17,
         180099
        ],
        [
         "PullRequestReviewEvent",
         21,
         97416
        ],
        [
         "IssueCommentEvent",
         23,
         97383
        ],
        [
         "PullRequestReviewEvent",
         5,
         103220
        ],
        [
         "IssueCommentEvent",
         29,
         98772
        ],
        [
         "PullRequestReviewEvent",
         12,
         104957
        ],
        [
         "PullRequestReviewEvent",
         4,
         101303
        ],
        [
         "DeleteEvent",
         7,
         110774
        ],
        [
         "IssueCommentEvent",
         9,
         95981
        ],
        [
         "DeleteEvent",
         14,
         108302
        ],
        [
         "IssueCommentEvent",
         16,
         95081
        ],
        [
         "PullRequestReviewEvent",
         13,
         106083
        ],
        [
         "PullRequestReviewEvent",
         14,
         100149
        ],
        [
         "DeleteEvent",
         6,
         103195
        ],
        [
         "PullRequestReviewEvent",
         31,
         101630
        ],
        [
         "IssueCommentEvent",
         30,
         95850
        ],
        [
         "IssueCommentEvent",
         8,
         91766
        ],
        [
         "PullRequestReviewEvent",
         8,
         41119
        ],
        [
         "PullRequestReviewEvent",
         29,
         35976
        ],
        [
         "IssueCommentEvent",
         2,
         76383
        ],
        [
         "PullRequestReviewCommentEvent",
         6,
         52355
        ],
        [
         "PullRequestReviewCommentEvent",
         3,
         38705
        ],
        [
         "PullRequestReviewEvent",
         22,
         33816
        ],
        [
         "PullRequestReviewEvent",
         9,
         39555
        ],
        [
         "PullRequestReviewCommentEvent",
         30,
         21366
        ],
        [
         "PullRequestReviewCommentEvent",
         7,
         48361
        ],
        [
         "IssuesEvent",
         15,
         53687
        ],
        [
         "IssuesEvent",
         29,
         52372
        ],
        [
         "PullRequestReviewEvent",
         23,
         31786
        ],
        [
         "IssuesEvent",
         2,
         42321
        ],
        [
         "PullRequestReviewEvent",
         30,
         33556
        ],
        [
         "PullRequestReviewCommentEvent",
         4,
         52688
        ],
        [
         "PullRequestReviewEvent",
         16,
         36624
        ],
        [
         "PullRequestReviewCommentEvent",
         29,
         21635
        ],
        [
         "GollumEvent",
         22,
         5858
        ],
        [
         "MemberEvent",
         1,
         2644
        ],
        [
         "PullRequestReviewCommentEvent",
         1,
         9020
        ],
        [
         "GollumEvent",
         15,
         5818
        ],
        [
         "GollumEvent",
         2,
         4881
        ],
        [
         "GollumEvent",
         1,
         4035
        ],
        [
         "GollumEvent",
         8,
         5785
        ],
        [
         "CommitCommentEvent",
         1,
         10727
        ],
        [
         "PublicEvent",
         1,
         5358
        ],
        [
         "PushEvent",
         5,
         1834574
        ],
        [
         "PushEvent",
         11,
         1787050
        ],
        [
         "CreateEvent",
         24,
         505705
        ],
        [
         "CreateEvent",
         22,
         554746
        ],
        [
         "CreateEvent",
         17,
         507813
        ],
        [
         "CreateEvent",
         15,
         590929
        ],
        [
         "CreateEvent",
         28,
         450680
        ],
        [
         "PullRequestEvent",
         22,
         509367
        ],
        [
         "PullRequestEvent",
         14,
         779582
        ],
        [
         "CreateEvent",
         16,
         343835
        ],
        [
         "CreateEvent",
         8,
         321098
        ],
        [
         "PullRequestEvent",
         17,
         349202
        ],
        [
         "WatchEvent",
         21,
         170216
        ],
        [
         "WatchEvent",
         27,
         170044
        ],
        [
         "WatchEvent",
         7,
         173949
        ],
        [
         "WatchEvent",
         3,
         151790
        ],
        [
         "WatchEvent",
         23,
         143096
        ],
        [
         "WatchEvent",
         31,
         137001
        ],
        [
         "IssueCommentEvent",
         6,
         174542
        ],
        [
         "IssueCommentEvent",
         7,
         170014
        ],
        [
         "WatchEvent",
         16,
         140061
        ],
        [
         "WatchEvent",
         9,
         141753
        ],
        [
         "PullRequestEvent",
         13,
         776045
        ],
        [
         "WatchEvent",
         29,
         136491
        ],
        [
         "PullRequestEvent",
         16,
         164747
        ],
        [
         "WatchEvent",
         15,
         133840
        ],
        [
         "PullRequestEvent",
         29,
         159487
        ],
        [
         "WatchEvent",
         22,
         137718
        ],
        [
         "WatchEvent",
         8,
         138048
        ],
        [
         "WatchEvent",
         30,
         130409
        ],
        [
         "PullRequestReviewEvent",
         26,
         112077
        ],
        [
         "DeleteEvent",
         12,
         121346
        ],
        [
         "PullRequestReviewEvent",
         25,
         111516
        ],
        [
         "DeleteEvent",
         28,
         118534
        ],
        [
         "DeleteEvent",
         11,
         111798
        ],
        [
         "PullRequestReviewEvent",
         11,
         117725
        ],
        [
         "PullRequestReviewCommentEvent",
         31,
         61778
        ],
        [
         "PullRequestReviewCommentEvent",
         28,
         60960
        ],
        [
         "IssuesEvent",
         9,
         61667
        ],
        [
         "IssuesEvent",
         30,
         55653
        ],
        [
         "ForkEvent",
         15,
         45983
        ],
        [
         "ForkEvent",
         22,
         47523
        ],
        [
         "DeleteEvent",
         9,
         62352
        ],
        [
         "PullRequestReviewCommentEvent",
         10,
         60153
        ],
        [
         "ForkEvent",
         16,
         48446
        ],
        [
         "DeleteEvent",
         8,
         67934
        ],
        [
         "IssuesEvent",
         23,
         61122
        ],
        [
         "ForkEvent",
         8,
         46279
        ],
        [
         "DeleteEvent",
         30,
         65791
        ],
        [
         "ForkEvent",
         30,
         46216
        ],
        [
         "DeleteEvent",
         1,
         72318
        ],
        [
         "PullRequestReviewCommentEvent",
         13,
         59409
        ],
        [
         "IssuesEvent",
         16,
         56142
        ],
        [
         "ForkEvent",
         29,
         49022
        ],
        [
         "PullRequestReviewCommentEvent",
         21,
         59703
        ],
        [
         "ForkEvent",
         9,
         46948
        ],
        [
         "IssuesEvent",
         22,
         55775
        ],
        [
         "PullRequestReviewEvent",
         15,
         46187
        ],
        [
         "PullRequestReviewCommentEvent",
         5,
         55409
        ],
        [
         "PullRequestReviewCommentEvent",
         14,
         54760
        ],
        [
         "PullRequestReviewEvent",
         3,
         78432
        ],
        [
         "PullRequestReviewCommentEvent",
         17,
         54043
        ],
        [
         "ForkEvent",
         2,
         41897
        ],
        [
         "ReleaseEvent",
         28,
         22041
        ],
        [
         "ReleaseEvent",
         10,
         22775
        ],
        [
         "ReleaseEvent",
         19,
         23829
        ],
        [
         "ReleaseEvent",
         21,
         23208
        ],
        [
         "DeleteEvent",
         2,
         60665
        ],
        [
         "ReleaseEvent",
         17,
         22664
        ],
        [
         "ReleaseEvent",
         25,
         21634
        ],
        [
         "ReleaseEvent",
         7,
         23181
        ],
        [
         "PullRequestReviewEvent",
         2,
         27124
        ],
        [
         "ReleaseEvent",
         18,
         22727
        ],
        [
         "ReleaseEvent",
         26,
         22083
        ],
        [
         "ReleaseEvent",
         24,
         22261
        ],
        [
         "ReleaseEvent",
         20,
         22786
        ],
        [
         "ReleaseEvent",
         5,
         22655
        ],
        [
         "ReleaseEvent",
         12,
         23936
        ],
        [
         "ReleaseEvent",
         11,
         24334
        ],
        [
         "ReleaseEvent",
         13,
         23269
        ],
        [
         "PublicEvent",
         26,
         11553
        ],
        [
         "MemberEvent",
         24,
         11155
        ],
        [
         "PublicEvent",
         19,
         11250
        ],
        [
         "PublicEvent",
         31,
         11479
        ],
        [
         "CommitCommentEvent",
         14,
         16052
        ],
        [
         "CommitCommentEvent",
         6,
         15925
        ],
        [
         "MemberEvent",
         18,
         11597
        ],
        [
         "CommitCommentEvent",
         21,
         17908
        ],
        [
         "MemberEvent",
         20,
         11241
        ],
        [
         "CommitCommentEvent",
         12,
         16561
        ],
        [
         "PublicEvent",
         10,
         11509
        ],
        [
         "CommitCommentEvent",
         18,
         17530
        ],
        [
         "MemberEvent",
         31,
         10770
        ],
        [
         "CommitCommentEvent",
         19,
         17869
        ],
        [
         "PublicEvent",
         17,
         11241
        ],
        [
         "PublicEvent",
         18,
         11267
        ],
        [
         "CommitCommentEvent",
         11,
         16790
        ],
        [
         "MemberEvent",
         19,
         11670
        ],
        [
         "PublicEvent",
         25,
         11419
        ],
        [
         "PublicEvent",
         12,
         11110
        ],
        [
         "CommitCommentEvent",
         20,
         17251
        ],
        [
         "PublicEvent",
         24,
         11203
        ],
        [
         "CommitCommentEvent",
         10,
         17383
        ],
        [
         "CommitCommentEvent",
         13,
         16120
        ],
        [
         "PublicEvent",
         11,
         11078
        ],
        [
         "PublicEvent",
         27,
         11681
        ],
        [
         "MemberEvent",
         27,
         10751
        ],
        [
         "MemberEvent",
         25,
         11193
        ],
        [
         "PublicEvent",
         20,
         11430
        ],
        [
         "CommitCommentEvent",
         17,
         16934
        ],
        [
         "CreateEvent",
         21,
         546815
        ],
        [
         "CreateEvent",
         13,
         886210
        ],
        [
         "PullRequestEvent",
         5,
         252040
        ],
        [
         "PullRequestEvent",
         6,
         251290
        ],
        [
         "PushEvent",
         1,
         1303922
        ],
        [
         "MemberEvent",
         10,
         10163
        ],
        [
         "CommitCommentEvent",
         5,
         15861
        ],
        [
         "PublicEvent",
         21,
         10715
        ],
        [
         "MemberEvent",
         7,
         10447
        ],
        [
         "MemberEvent",
         26,
         10543
        ],
        [
         "MemberEvent",
         12,
         10189
        ],
        [
         "CommitCommentEvent",
         30,
         16688
        ],
        [
         "MemberEvent",
         21,
         10047
        ],
        [
         "MemberEvent",
         17,
         10099
        ],
        [
         "MemberEvent",
         28,
         10663
        ],
        [
         "PublicEvent",
         28,
         10670
        ],
        [
         "MemberEvent",
         13,
         10335
        ],
        [
         "IssueCommentEvent",
         24,
         234229
        ],
        [
         "IssueCommentEvent",
         10,
         220497
        ],
        [
         "IssueCommentEvent",
         25,
         211410
        ],
        [
         "IssueCommentEvent",
         31,
         225319
        ],
        [
         "IssueCommentEvent",
         17,
         220700
        ],
        [
         "CommitCommentEvent",
         26,
         19648
        ],
        [
         "CommitCommentEvent",
         24,
         18927
        ],
        [
         "ReleaseEvent",
         2,
         17001
        ],
        [
         "CommitCommentEvent",
         25,
         19588
        ],
        [
         "PullRequestReviewCommentEvent",
         9,
         18703
        ],
        [
         "CommitCommentEvent",
         28,
         18925
        ],
        [
         "PullRequestReviewCommentEvent",
         8,
         18583
        ],
        [
         "ReleaseEvent",
         29,
         14642
        ],
        [
         "CommitCommentEvent",
         27,
         19997
        ],
        [
         "ReleaseEvent",
         30,
         15709
        ],
        [
         "CommitCommentEvent",
         31,
         18665
        ],
        [
         "ReleaseEvent",
         8,
         17944
        ],
        [
         "PullRequestReviewCommentEvent",
         2,
         13377
        ],
        [
         "ReleaseEvent",
         22,
         17311
        ],
        [
         "ReleaseEvent",
         9,
         18263
        ],
        [
         "MemberEvent",
         22,
         5966
        ],
        [
         "MemberEvent",
         30,
         5094
        ],
        [
         "MemberEvent",
         23,
         5374
        ],
        [
         "GollumEvent",
         7,
         7987
        ],
        [
         "MemberEvent",
         16,
         5260
        ],
        [
         "GollumEvent",
         13,
         8323
        ],
        [
         "GollumEvent",
         18,
         8772
        ],
        [
         "GollumEvent",
         6,
         8389
        ],
        [
         "GollumEvent",
         14,
         7224
        ],
        [
         "GollumEvent",
         12,
         8474
        ],
        [
         "MemberEvent",
         8,
         5141
        ],
        [
         "GollumEvent",
         5,
         7397
        ],
        [
         "GollumEvent",
         25,
         8577
        ],
        [
         "GollumEvent",
         19,
         9057
        ],
        [
         "GollumEvent",
         17,
         8164
        ],
        [
         "GollumEvent",
         26,
         7634
        ],
        [
         "GollumEvent",
         21,
         8210
        ],
        [
         "GollumEvent",
         10,
         8486
        ],
        [
         "GollumEvent",
         11,
         8089
        ],
        [
         "GollumEvent",
         4,
         7443
        ],
        [
         "GollumEvent",
         28,
         8618
        ],
        [
         "MemberEvent",
         15,
         5819
        ],
        [
         "GollumEvent",
         31,
         7691
        ],
        [
         "PullRequestEvent",
         12,
         292808
        ],
        [
         "PullRequestEvent",
         20,
         283202
        ],
        [
         "WatchEvent",
         13,
         164433
        ],
        [
         "WatchEvent",
         14,
         159537
        ],
        [
         "IssueCommentEvent",
         27,
         203501
        ],
        [
         "WatchEvent",
         2,
         173832
        ],
        [
         "IssueCommentEvent",
         20,
         197632
        ],
        [
         "WatchEvent",
         28,
         160240
        ],
        [
         "PullRequestReviewEvent",
         18,
         106927
        ],
        [
         "PullRequestReviewEvent",
         27,
         104668
        ],
        [
         "PullRequestReviewEvent",
         19,
         108525
        ],
        [
         "PullRequestReviewEvent",
         10,
         111896
        ],
        [
         "PullRequestReviewEvent",
         24,
         105704
        ],
        [
         "PullRequestReviewEvent",
         20,
         106912
        ],
        [
         "IssueCommentEvent",
         15,
         101895
        ],
        [
         "IssuesEvent",
         21,
         83933
        ],
        [
         "IssuesEvent",
         13,
         78500
        ],
        [
         "IssueCommentEvent",
         1,
         88845
        ],
        [
         "IssuesEvent",
         25,
         87933
        ],
        [
         "IssuesEvent",
         27,
         82222
        ],
        [
         "IssuesEvent",
         31,
         81628
        ],
        [
         "IssuesEvent",
         5,
         79511
        ],
        [
         "IssuesEvent",
         24,
         85987
        ],
        [
         "IssuesEvent",
         17,
         81224
        ],
        [
         "IssuesEvent",
         26,
         83798
        ],
        [
         "IssuesEvent",
         11,
         87068
        ],
        [
         "IssuesEvent",
         12,
         85054
        ],
        [
         "PullRequestReviewEvent",
         17,
         92047
        ],
        [
         "IssuesEvent",
         28,
         78411
        ],
        [
         "ForkEvent",
         26,
         66064
        ],
        [
         "ForkEvent",
         11,
         67494
        ],
        [
         "IssuesEvent",
         4,
         75568
        ],
        [
         "IssuesEvent",
         6,
         77732
        ],
        [
         "IssuesEvent",
         14,
         76205
        ],
        [
         "ForkEvent",
         12,
         66814
        ],
        [
         "ForkEvent",
         25,
         67605
        ],
        [
         "ForkEvent",
         18,
         65797
        ],
        [
         "IssuesEvent",
         7,
         78849
        ],
        [
         "ForkEvent",
         19,
         66760
        ],
        [
         "ForkEvent",
         20,
         66812
        ],
        [
         "ForkEvent",
         5,
         62806
        ],
        [
         "ForkEvent",
         27,
         63883
        ],
        [
         "ForkEvent",
         13,
         62007
        ],
        [
         "ForkEvent",
         17,
         62844
        ],
        [
         "ForkEvent",
         10,
         64402
        ],
        [
         "ForkEvent",
         4,
         62597
        ],
        [
         "ForkEvent",
         21,
         63027
        ],
        [
         "PullRequestReviewEvent",
         7,
         85186
        ],
        [
         "ForkEvent",
         24,
         65115
        ],
        [
         "PullRequestReviewEvent",
         6,
         90160
        ],
        [
         "PublicEvent",
         3,
         9857
        ],
        [
         "PublicEvent",
         14,
         9885
        ],
        [
         "PublicEvent",
         7,
         9875
        ],
        [
         "CommitCommentEvent",
         29,
         16633
        ],
        [
         "PublicEvent",
         13,
         10121
        ],
        [
         "CommitCommentEvent",
         16,
         15144
        ],
        [
         "CommitCommentEvent",
         22,
         15374
        ],
        [
         "CommitCommentEvent",
         23,
         15636
        ],
        [
         "PublicEvent",
         6,
         10255
        ],
        [
         "PublicEvent",
         4,
         10244
        ],
        [
         "CommitCommentEvent",
         3,
         15010
        ],
        [
         "CommitCommentEvent",
         4,
         15134
        ],
        [
         "CommitCommentEvent",
         7,
         15205
        ],
        [
         "PublicEvent",
         5,
         9927
        ],
        [
         "PublicEvent",
         16,
         8746
        ],
        [
         "PublicEvent",
         9,
         8899
        ],
        [
         "CommitCommentEvent",
         8,
         13067
        ],
        [
         "PublicEvent",
         30,
         9136
        ],
        [
         "MemberEvent",
         4,
         8375
        ],
        [
         "PublicEvent",
         22,
         8134
        ],
        [
         "MemberEvent",
         14,
         8810
        ],
        [
         "CommitCommentEvent",
         9,
         13883
        ],
        [
         "MemberEvent",
         6,
         8792
        ],
        [
         "MemberEvent",
         5,
         8534
        ],
        [
         "PullRequestReviewEvent",
         1,
         29841
        ],
        [
         "MemberEvent",
         3,
         8088
        ],
        [
         "CommitCommentEvent",
         15,
         13573
        ],
        [
         "PublicEvent",
         23,
         9028
        ],
        [
         "MemberEvent",
         29,
         7017
        ],
        [
         "PublicEvent",
         8,
         8139
        ],
        [
         "PublicEvent",
         15,
         8018
        ],
        [
         "GollumEvent",
         24,
         9116
        ],
        [
         "PublicEvent",
         2,
         6907
        ],
        [
         "GollumEvent",
         27,
         8932
        ],
        [
         "CommitCommentEvent",
         2,
         12454
        ],
        [
         "PublicEvent",
         29,
         8234
        ],
        [
         "GollumEvent",
         20,
         10326
        ],
        [
         "CreateEvent",
         27,
         496991
        ],
        [
         "CreateEvent",
         19,
         493131
        ],
        [
         "IssueCommentEvent",
         19,
         204498
        ],
        [
         "IssueCommentEvent",
         21,
         207969
        ],
        [
         "IssueCommentEvent",
         26,
         208014
        ],
        [
         "DeleteEvent",
         15,
         77890
        ],
        [
         "ForkEvent",
         28,
         60146
        ],
        [
         "ForkEvent",
         6,
         60513
        ],
        [
         "DeleteEvent",
         16,
         76522
        ],
        [
         "ForkEvent",
         14,
         57415
        ],
        [
         "ForkEvent",
         31,
         54104
        ],
        [
         "ForkEvent",
         7,
         58930
        ],
        [
         "CreateEvent",
         14,
         971023
        ],
        [
         "PullRequestReviewCommentEvent",
         23,
         20599
        ],
        [
         "ReleaseEvent",
         27,
         20555
        ],
        [
         "ReleaseEvent",
         4,
         23118
        ],
        [
         "PullRequestReviewCommentEvent",
         22,
         19957
        ],
        [
         "ReleaseEvent",
         6,
         22158
        ],
        [
         "ReleaseEvent",
         14,
         22651
        ],
        [
         "ForkEvent",
         1,
         33686
        ],
        [
         "PullRequestReviewCommentEvent",
         16,
         21095
        ],
        [
         "ReleaseEvent",
         31,
         20110
        ],
        [
         "ReleaseEvent",
         23,
         19494
        ],
        [
         "IssuesEvent",
         1,
         35029
        ],
        [
         "MemberEvent",
         11,
         18014
        ],
        [
         "ReleaseEvent",
         3,
         21030
        ],
        [
         "ReleaseEvent",
         15,
         18484
        ],
        [
         "ReleaseEvent",
         16,
         18607
        ],
        [
         "PullRequestReviewCommentEvent",
         15,
         19824
        ],
        [
         "MemberEvent",
         9,
         4503
        ],
        [
         "GollumEvent",
         30,
         7104
        ],
        [
         "GollumEvent",
         9,
         7056
        ],
        [
         "GollumEvent",
         16,
         6228
        ],
        [
         "GollumEvent",
         3,
         6939
        ],
        [
         "GollumEvent",
         29,
         6378
        ],
        [
         "MemberEvent",
         2,
         3406
        ],
        [
         "ReleaseEvent",
         1,
         13642
        ],
        [
         "GollumEvent",
         23,
         7336
        ],
        [
         "WatchEvent",
         4,
         184238
        ],
        [
         "IssueCommentEvent",
         13,
         255374
        ],
        [
         "IssuesEvent",
         18,
         87480
        ],
        [
         "IssuesEvent",
         19,
         90020
        ],
        [
         "IssuesEvent",
         10,
         99870
        ],
        [
         "IssuesEvent",
         20,
         88038
        ],
        [
         "PullRequestReviewEvent",
         28,
         98241
        ],
        [
         "ForkEvent",
         3,
         52415
        ],
        [
         "PullRequestReviewCommentEvent",
         18,
         63661
        ],
        [
         "PullRequestReviewCommentEvent",
         11,
         63959
        ],
        [
         "PullRequestReviewCommentEvent",
         12,
         63742
        ],
        [
         "ForkEvent",
         23,
         49713
        ],
        [
         "PullRequestReviewCommentEvent",
         24,
         64803
        ]
       ],
       "datasetInfos": [],
       "dbfsResultPath": null,
       "isJsonSchema": true,
       "metadata": {},
       "overflow": false,
       "plotOptions": {
        "customPlotOptions": {},
        "displayType": "table",
        "pivotAggregation": null,
        "pivotColumns": null,
        "xColumns": null,
        "yColumns": null
       },
       "removedWidgets": [],
       "schema": [
        {
         "metadata": "{}",
         "name": "type",
         "type": "\"string\""
        },
        {
         "metadata": "{}",
         "name": "day",
         "type": "\"integer\""
        },
        {
         "metadata": "{}",
         "name": "count",
         "type": "\"long\""
        }
       ],
       "type": "table"
      }
     },
     "output_type": "display_data"
    },
    {
     "output_type": "display_data",
     "data": {
      "text/plain": [
       "Databricks visualization. Run in Databricks to view."
      ]
     },
     "metadata": {
      "application/vnd.databricks.v1.subcommand+json": {
       "bindings": {},
       "collapsed": false,
       "command": "%python\n__backend_agg_display_orig = display\n__backend_agg_dfs = []\ndef __backend_agg_display_new(df):\n    __backend_agg_df_modules = [\"pandas.core.frame\", \"databricks.koalas.frame\", \"pyspark.sql.dataframe\", \"pyspark.pandas.frame\", \"pyspark.sql.connect.dataframe\"]\n    if (type(df).__module__ in __backend_agg_df_modules and type(df).__name__ == 'DataFrame') or isinstance(df, list):\n        __backend_agg_dfs.append(df)\n\ndisplay = __backend_agg_display_new\n\ndef __backend_agg_user_code_fn():\n    import base64\n    exec(base64.standard_b64decode(\"ZXZlbnRzX3Blcl9kYXkuZGlzcGxheSgp\").decode())\n\ntry:\n    # run user code\n    __backend_agg_user_code_fn()\n\n    #reset display function\n    display = __backend_agg_display_orig\n\n    if len(__backend_agg_dfs) > 0:\n        # create a temp view\n        if type(__backend_agg_dfs[0]).__module__ == \"databricks.koalas.frame\":\n            # koalas dataframe\n            __backend_agg_dfs[0].to_spark().createOrReplaceTempView(\"DatabricksView161f0a0\")\n        elif type(__backend_agg_dfs[0]).__module__ == \"pandas.core.frame\" or isinstance(__backend_agg_dfs[0], list):\n            # pandas dataframe\n            spark.createDataFrame(__backend_agg_dfs[0]).createOrReplaceTempView(\"DatabricksView161f0a0\")\n        else:\n            __backend_agg_dfs[0].createOrReplaceTempView(\"DatabricksView161f0a0\")\n        #run backend agg\n        display(spark.sql(\"\"\"WITH q AS (select * from DatabricksView161f0a0) SELECT `day`,`count`,`type` FROM q\"\"\"))\n    else:\n        displayHTML(\"dataframe no longer exists. If you're using dataframe.display(), use display(dataframe) instead.\")\n\n\nfinally:\n    spark.sql(\"drop view if exists DatabricksView161f0a0\")\n    display = __backend_agg_display_orig\n    del __backend_agg_display_new\n    del __backend_agg_display_orig\n    del __backend_agg_dfs\n    del __backend_agg_user_code_fn\n\n",
       "commandTitle": "Visualization 1",
       "commandType": "auto",
       "commandVersion": 0,
       "commentThread": [],
       "commentsVisible": false,
       "contentSha256Hex": null,
       "customPlotOptions": {
        "redashChart": [
         {
          "key": "type",
          "value": "CHART"
         },
         {
          "key": "options",
          "value": {
           "alignYAxesAtZero": true,
           "coefficient": 1,
           "columnConfigurationMap": {
            "series": {
             "column": "type",
             "id": "column_77be630d8"
            },
            "x": {
             "column": "day",
             "id": "column_77be630d6"
            },
            "y": [
             {
              "column": "count",
              "id": "column_77be630d7"
             }
            ]
           },
           "dateTimeFormat": "DD/MM/YYYY HH:mm",
           "direction": {
            "type": "counterclockwise"
           },
           "error_y": {
            "type": "data",
            "visible": true
           },
           "globalSeriesType": "scatter",
           "legend": {
            "traceorder": "normal"
           },
           "missingValuesAsZero": true,
           "numberFormat": "0,0.[00000]",
           "percentFormat": "0[.]00%",
           "series": {
            "error_y": {
             "type": "data",
             "visible": true
            },
            "stacking": null
           },
           "seriesOptions": {
            "column_77be630d7": {
             "name": "count",
             "yAxis": 0
            }
           },
           "showDataLabels": false,
           "sizemode": "diameter",
           "sortX": true,
           "sortY": true,
           "swappedAxes": false,
           "textFormat": "",
           "useAggregationsUi": true,
           "valuesOptions": {},
           "version": 2,
           "xAxis": {
            "labels": {
             "enabled": true
            },
            "type": "-"
           },
           "yAxis": [
            {
             "type": "-"
            },
            {
             "opposite": true,
             "type": "-"
            }
           ]
          }
         }
        ]
       },
       "datasetPreviewNameToCmdIdMap": {},
       "diffDeletes": [],
       "diffInserts": [],
       "displayType": "redashChart",
       "error": null,
       "errorDetails": null,
       "errorSummary": null,
       "errorTraceType": null,
       "finishTime": 0,
       "globalVars": {},
       "guid": "",
       "height": "auto",
       "hideCommandCode": false,
       "hideCommandResult": false,
       "iPythonMetadata": null,
       "inputWidgets": {},
       "isLockedInExamMode": false,
       "latestUser": "a user",
       "latestUserId": null,
       "listResultMetadata": null,
       "metadata": {},
       "nuid": "fea747d8-4a32-4ddb-b1d7-9eb30486df08",
       "origId": 0,
       "parentHierarchy": [],
       "pivotAggregation": null,
       "pivotColumns": null,
       "position": 3.97509765625,
       "resultDbfsErrorMessage": null,
       "resultDbfsStatus": "INLINED_IN_TREE",
       "results": null,
       "showCommandTitle": false,
       "startTime": 0,
       "state": "input",
       "streamStates": {},
       "subcommandOptions": {
        "queryPlan": {
         "selects": [
          {
           "column": "day",
           "type": "column"
          },
          {
           "column": "count",
           "type": "column"
          },
          {
           "column": "type",
           "type": "column"
          }
         ]
        }
       },
       "submitTime": 0,
       "subtype": "tableResultSubCmd.visualization",
       "tableResultIndex": 0,
       "useConsistentColors": false,
       "version": "CommandV1",
       "width": "auto",
       "workflows": [],
       "xColumns": null,
       "yColumns": null
      }
     },
     "output_type": "display_data"
    }
   ],
   "source": [
    "events_per_day.display()"
   ]
  },
  {
   "cell_type": "markdown",
   "metadata": {
    "application/vnd.databricks.v1+cell": {
     "cellMetadata": {
      "byteLimit": 2048000,
      "rowLimit": 10000
     },
     "inputWidgets": {},
     "nuid": "652aeddf-c044-461e-bc57-25929d374d58",
     "showTitle": false,
     "title": ""
    }
   },
   "source": [
    "\n",
    "## PushEvent data aggregated by ref type – whether the commit is on the main branch"
   ]
  },
  {
   "cell_type": "code",
   "execution_count": 0,
   "metadata": {
    "application/vnd.databricks.v1+cell": {
     "cellMetadata": {
      "byteLimit": 2048000,
      "rowLimit": 10000
     },
     "inputWidgets": {},
     "nuid": "9c5c8181-b5a5-404e-bf1c-42e8490bc9c7",
     "showTitle": false,
     "title": ""
    }
   },
   "outputs": [
    {
     "output_type": "display_data",
     "data": {
      "text/html": [
       "<style scoped>\n",
       "  .table-result-container {\n",
       "    max-height: 300px;\n",
       "    overflow: auto;\n",
       "  }\n",
       "  table, th, td {\n",
       "    border: 1px solid black;\n",
       "    border-collapse: collapse;\n",
       "  }\n",
       "  th, td {\n",
       "    padding: 5px;\n",
       "  }\n",
       "  th {\n",
       "    text-align: left;\n",
       "  }\n",
       "</style><div class='table-result-container'><table class='table-result'><thead style='background-color: white'><tr><th>on_main_branch</th><th>count</th></tr></thead><tbody><tr><td>Not On Main Branch</td><td>13241898</td></tr><tr><td>On Main Branch</td><td>37653225</td></tr></tbody></table></div>"
      ]
     },
     "metadata": {
      "application/vnd.databricks.v1+output": {
       "addedWidgets": {},
       "aggData": [],
       "aggError": "",
       "aggOverflow": false,
       "aggSchema": [],
       "aggSeriesLimitReached": false,
       "aggType": "",
       "arguments": {},
       "columnCustomDisplayInfos": {},
       "data": [
        [
         "Not On Main Branch",
         13241898
        ],
        [
         "On Main Branch",
         37653225
        ]
       ],
       "datasetInfos": [],
       "dbfsResultPath": null,
       "isJsonSchema": true,
       "metadata": {},
       "overflow": false,
       "plotOptions": {
        "customPlotOptions": {},
        "displayType": "table",
        "pivotAggregation": null,
        "pivotColumns": null,
        "xColumns": null,
        "yColumns": null
       },
       "removedWidgets": [],
       "schema": [
        {
         "metadata": "{}",
         "name": "on_main_branch",
         "type": "\"string\""
        },
        {
         "metadata": "{}",
         "name": "count",
         "type": "\"long\""
        }
       ],
       "type": "table"
      }
     },
     "output_type": "display_data"
    },
    {
     "output_type": "display_data",
     "data": {
      "text/plain": [
       "Databricks visualization. Run in Databricks to view."
      ]
     },
     "metadata": {
      "application/vnd.databricks.v1.subcommand+json": {
       "bindings": {},
       "collapsed": false,
       "command": "%python\n__backend_agg_display_orig = display\n__backend_agg_dfs = []\ndef __backend_agg_display_new(df):\n    __backend_agg_df_modules = [\"pandas.core.frame\", \"databricks.koalas.frame\", \"pyspark.sql.dataframe\", \"pyspark.pandas.frame\", \"pyspark.sql.connect.dataframe\"]\n    if (type(df).__module__ in __backend_agg_df_modules and type(df).__name__ == 'DataFrame') or isinstance(df, list):\n        __backend_agg_dfs.append(df)\n\ndisplay = __backend_agg_display_new\n\ndef __backend_agg_user_code_fn():\n    import base64\n    exec(base64.standard_b64decode(\"I3NsaWdodCBjaGFuZ2UKZmlsdGVyZWRfcHVzaF9ldmVudHMgPSBwdXNoX2V2ZW50X2RmLndpdGhDb2x1bW4oCiAgICAib25fbWFpbl9icmFuY2giLAogICAgRi53aGVuKAogICAgICAgIChGLmNvbCgicGF5bG9hZF9yZWYiKS5lbmRzd2l0aCgibWFpbiIpKSB8IChGLmNvbCgicGF5bG9hZF9yZWYiKS5lbmRzd2l0aCgibWFzdGVyIikpLAogICAgICAgICJPbiBNYWluIEJyYW5jaCIKICAgICkub3RoZXJ3aXNlKCJOb3QgT24gTWFpbiBCcmFuY2giKQopCmFnZ19jb3VudHMgPSBmaWx0ZXJlZF9wdXNoX2V2ZW50cy5ncm91cEJ5KCJvbl9tYWluX2JyYW5jaCIpLmNvdW50KCkKZGlzcGxheShhZ2dfY291bnRzKQ==\").decode())\n\ntry:\n    # run user code\n    __backend_agg_user_code_fn()\n\n    #reset display function\n    display = __backend_agg_display_orig\n\n    if len(__backend_agg_dfs) > 0:\n        # create a temp view\n        if type(__backend_agg_dfs[0]).__module__ == \"databricks.koalas.frame\":\n            # koalas dataframe\n            __backend_agg_dfs[0].to_spark().createOrReplaceTempView(\"DatabricksView622d4fa\")\n        elif type(__backend_agg_dfs[0]).__module__ == \"pandas.core.frame\" or isinstance(__backend_agg_dfs[0], list):\n            # pandas dataframe\n            spark.createDataFrame(__backend_agg_dfs[0]).createOrReplaceTempView(\"DatabricksView622d4fa\")\n        else:\n            __backend_agg_dfs[0].createOrReplaceTempView(\"DatabricksView622d4fa\")\n        #run backend agg\n        display(spark.sql(\"\"\"WITH q AS (select * from DatabricksView622d4fa) SELECT `on_main_branch`,SUM(`count`) `column_fc243ba32` FROM q GROUP BY `on_main_branch`\"\"\"))\n    else:\n        displayHTML(\"dataframe no longer exists. If you're using dataframe.display(), use display(dataframe) instead.\")\n\n\nfinally:\n    spark.sql(\"drop view if exists DatabricksView622d4fa\")\n    display = __backend_agg_display_orig\n    del __backend_agg_display_new\n    del __backend_agg_display_orig\n    del __backend_agg_dfs\n    del __backend_agg_user_code_fn\n\n",
       "commandTitle": "Visualization 1",
       "commandType": "auto",
       "commandVersion": 0,
       "commentThread": [],
       "commentsVisible": false,
       "contentSha256Hex": null,
       "customPlotOptions": {
        "redashChart": [
         {
          "key": "type",
          "value": "CHART"
         },
         {
          "key": "options",
          "value": {
           "alignYAxesAtZero": true,
           "coefficient": 1,
           "columnConfigurationMap": {
            "x": {
             "column": "on_main_branch",
             "id": "column_fc243ba31"
            },
            "y": [
             {
              "column": "count",
              "id": "column_77be630d2",
              "transform": "SUM"
             }
            ]
           },
           "dateTimeFormat": "DD/MM/YYYY HH:mm",
           "direction": {
            "type": "counterclockwise"
           },
           "error_y": {
            "type": "data",
            "visible": true
           },
           "globalSeriesType": "column",
           "hideYAxes": false,
           "isAggregationOn": true,
           "legend": {
            "traceorder": "normal"
           },
           "missingValuesAsZero": true,
           "numberFormat": "0,0.[00000]",
           "percentFormat": "0[.]00%",
           "series": {
            "error_y": {
             "type": "data",
             "visible": true
            },
            "stacking": null
           },
           "seriesOptions": {
            "column_77be630d2": {
             "type": "column",
             "yAxis": 0
            },
            "column_fc243ba32": {
             "color": null,
             "name": "count",
             "yAxis": 0
            }
           },
           "showDataLabels": false,
           "sizemode": "diameter",
           "sortX": true,
           "sortY": true,
           "swappedAxes": false,
           "textFormat": "",
           "useAggregationsUi": true,
           "valuesOptions": {},
           "version": 2,
           "xAxis": {
            "labels": {
             "enabled": true
            },
            "title": {
             "text": "On Main Branch"
            },
            "type": "-"
           },
           "yAxis": [
            {
             "title": {
              "text": "# Of Push Events"
             },
             "type": "-"
            },
            {
             "opposite": true,
             "type": "-"
            }
           ]
          }
         }
        ]
       },
       "datasetPreviewNameToCmdIdMap": {},
       "diffDeletes": [],
       "diffInserts": [],
       "displayType": "redashChart",
       "error": null,
       "errorDetails": null,
       "errorSummary": null,
       "errorTraceType": null,
       "finishTime": 0,
       "globalVars": {},
       "guid": "",
       "height": "802",
       "hideCommandCode": false,
       "hideCommandResult": false,
       "iPythonMetadata": null,
       "inputWidgets": {},
       "isLockedInExamMode": false,
       "latestUser": "a user",
       "latestUserId": null,
       "listResultMetadata": null,
       "metadata": {},
       "nuid": "d175db16-9e3e-4b5e-a3be-7ea6003c598d",
       "origId": 0,
       "parentHierarchy": [],
       "pivotAggregation": null,
       "pivotColumns": null,
       "position": 3.976318359375,
       "resultDbfsErrorMessage": null,
       "resultDbfsStatus": "INLINED_IN_TREE",
       "results": null,
       "showCommandTitle": false,
       "startTime": 0,
       "state": "input",
       "streamStates": {},
       "subcommandOptions": {
        "queryPlan": {
         "groups": [
          {
           "column": "on_main_branch",
           "type": "column"
          }
         ],
         "selects": [
          {
           "column": "on_main_branch",
           "type": "column"
          },
          {
           "alias": "column_77be630d2",
           "args": [
            {
             "column": "count",
             "type": "column"
            }
           ],
           "function": "SUM",
           "type": "function"
          }
         ]
        }
       },
       "submitTime": 0,
       "subtype": "tableResultSubCmd.visualization",
       "tableResultIndex": 0,
       "useConsistentColors": false,
       "version": "CommandV1",
       "width": "auto",
       "workflows": [],
       "xColumns": null,
       "yColumns": null
      }
     },
     "output_type": "display_data"
    }
   ],
   "source": [
    "filtered_push_events = push_event_df.withColumn(\n",
    "    \"on_main_branch\",\n",
    "    F.when(\n",
    "        (F.col(\"payload_ref\").endswith(\"main\")) | (F.col(\"payload_ref\").endswith(\"master\")),\n",
    "        \"On Main Branch\"\n",
    "    ).otherwise(\"Not On Main Branch\")\n",
    ")\n",
    "agg_counts = filtered_push_events.groupBy(\"on_main_branch\").count()\n",
    "display(agg_counts)"
   ]
  },
  {
   "cell_type": "markdown",
   "metadata": {
    "application/vnd.databricks.v1+cell": {
     "cellMetadata": {
      "byteLimit": 2048000,
      "rowLimit": 10000
     },
     "inputWidgets": {},
     "nuid": "e3bff921-b427-4054-a0da-4cbdf86a2911",
     "showTitle": false,
     "title": ""
    }
   },
   "source": [
    "\n",
    "## Breakdown of events by type"
   ]
  },
  {
   "cell_type": "code",
   "execution_count": 0,
   "metadata": {
    "application/vnd.databricks.v1+cell": {
     "cellMetadata": {
      "byteLimit": 2048000,
      "rowLimit": 10000
     },
     "inputWidgets": {},
     "nuid": "75800471-85fe-4c41-b02c-812c878bc04d",
     "showTitle": false,
     "title": ""
    }
   },
   "outputs": [],
   "source": [
    "events_by_type = main_df.groupBy(\"type\").count()"
   ]
  },
  {
   "cell_type": "code",
   "execution_count": 0,
   "metadata": {
    "application/vnd.databricks.v1+cell": {
     "cellMetadata": {
      "byteLimit": 2048000,
      "rowLimit": 10000
     },
     "inputWidgets": {},
     "nuid": "f10f6764-29c5-48be-a557-c5de3fc4e731",
     "showTitle": false,
     "title": ""
    }
   },
   "outputs": [
    {
     "output_type": "display_data",
     "data": {
      "text/html": [
       "<style scoped>\n",
       "  .table-result-container {\n",
       "    max-height: 300px;\n",
       "    overflow: auto;\n",
       "  }\n",
       "  table, th, td {\n",
       "    border: 1px solid black;\n",
       "    border-collapse: collapse;\n",
       "  }\n",
       "  th, td {\n",
       "    padding: 5px;\n",
       "  }\n",
       "  th {\n",
       "    text-align: left;\n",
       "  }\n",
       "</style><div class='table-result-container'><table class='table-result'><thead style='background-color: white'><tr><th>type</th><th>count</th></tr></thead><tbody><tr><td>PushEvent</td><td>50895123</td></tr><tr><td>CreateEvent</td><td>14717172</td></tr><tr><td>PullRequestEvent</td><td>9311768</td></tr><tr><td>IssueCommentEvent</td><td>5328832</td></tr><tr><td>WatchEvent</td><td>4996749</td></tr><tr><td>DeleteEvent</td><td>3623692</td></tr><tr><td>PullRequestReviewEvent</td><td>2500358</td></tr><tr><td>IssuesEvent</td><td>2280108</td></tr><tr><td>ForkEvent</td><td>1773263</td></tr><tr><td>PullRequestReviewCommentEvent</td><td>1438337</td></tr><tr><td>ReleaseEvent</td><td>644102</td></tr><tr><td>CommitCommentEvent</td><td>506462</td></tr><tr><td>PublicEvent</td><td>308368</td></tr><tr><td>MemberEvent</td><td>271700</td></tr><tr><td>GollumEvent</td><td>234327</td></tr></tbody></table></div>"
      ]
     },
     "metadata": {
      "application/vnd.databricks.v1+output": {
       "addedWidgets": {},
       "aggData": [],
       "aggError": "",
       "aggOverflow": false,
       "aggSchema": [],
       "aggSeriesLimitReached": false,
       "aggType": "",
       "arguments": {},
       "columnCustomDisplayInfos": {},
       "data": [
        [
         "PushEvent",
         50895123
        ],
        [
         "CreateEvent",
         14717172
        ],
        [
         "PullRequestEvent",
         9311768
        ],
        [
         "IssueCommentEvent",
         5328832
        ],
        [
         "WatchEvent",
         4996749
        ],
        [
         "DeleteEvent",
         3623692
        ],
        [
         "PullRequestReviewEvent",
         2500358
        ],
        [
         "IssuesEvent",
         2280108
        ],
        [
         "ForkEvent",
         1773263
        ],
        [
         "PullRequestReviewCommentEvent",
         1438337
        ],
        [
         "ReleaseEvent",
         644102
        ],
        [
         "CommitCommentEvent",
         506462
        ],
        [
         "PublicEvent",
         308368
        ],
        [
         "MemberEvent",
         271700
        ],
        [
         "GollumEvent",
         234327
        ]
       ],
       "datasetInfos": [],
       "dbfsResultPath": null,
       "isJsonSchema": true,
       "metadata": {},
       "overflow": false,
       "plotOptions": {
        "customPlotOptions": {},
        "displayType": "table",
        "pivotAggregation": null,
        "pivotColumns": null,
        "xColumns": null,
        "yColumns": null
       },
       "removedWidgets": [],
       "schema": [
        {
         "metadata": "{}",
         "name": "type",
         "type": "\"string\""
        },
        {
         "metadata": "{}",
         "name": "count",
         "type": "\"long\""
        }
       ],
       "type": "table"
      }
     },
     "output_type": "display_data"
    },
    {
     "output_type": "display_data",
     "data": {
      "text/plain": [
       "Databricks visualization. Run in Databricks to view."
      ]
     },
     "metadata": {
      "application/vnd.databricks.v1.subcommand+json": {
       "bindings": {},
       "collapsed": false,
       "command": "%python\n__backend_agg_display_orig = display\n__backend_agg_dfs = []\ndef __backend_agg_display_new(df):\n    __backend_agg_df_modules = [\"pandas.core.frame\", \"databricks.koalas.frame\", \"pyspark.sql.dataframe\", \"pyspark.pandas.frame\", \"pyspark.sql.connect.dataframe\"]\n    if (type(df).__module__ in __backend_agg_df_modules and type(df).__name__ == 'DataFrame') or isinstance(df, list):\n        __backend_agg_dfs.append(df)\n\ndisplay = __backend_agg_display_new\n\ndef __backend_agg_user_code_fn():\n    import base64\n    exec(base64.standard_b64decode(\"ZXZlbnRzX2J5X3R5cGUuZGlzcGxheSgp\").decode())\n\ntry:\n    # run user code\n    __backend_agg_user_code_fn()\n\n    #reset display function\n    display = __backend_agg_display_orig\n\n    if len(__backend_agg_dfs) > 0:\n        # create a temp view\n        if type(__backend_agg_dfs[0]).__module__ == \"databricks.koalas.frame\":\n            # koalas dataframe\n            __backend_agg_dfs[0].to_spark().createOrReplaceTempView(\"DatabricksViewf123bc3\")\n        elif type(__backend_agg_dfs[0]).__module__ == \"pandas.core.frame\" or isinstance(__backend_agg_dfs[0], list):\n            # pandas dataframe\n            spark.createDataFrame(__backend_agg_dfs[0]).createOrReplaceTempView(\"DatabricksViewf123bc3\")\n        else:\n            __backend_agg_dfs[0].createOrReplaceTempView(\"DatabricksViewf123bc3\")\n        #run backend agg\n        display(spark.sql(\"\"\"WITH q AS (select * from DatabricksViewf123bc3) SELECT `type`,SUM(`count`) `column_77be630d10` FROM q GROUP BY `type`\"\"\"))\n    else:\n        displayHTML(\"dataframe no longer exists. If you're using dataframe.display(), use display(dataframe) instead.\")\n\n\nfinally:\n    spark.sql(\"drop view if exists DatabricksViewf123bc3\")\n    display = __backend_agg_display_orig\n    del __backend_agg_display_new\n    del __backend_agg_display_orig\n    del __backend_agg_dfs\n    del __backend_agg_user_code_fn\n\n",
       "commandTitle": "Visualization 1",
       "commandType": "auto",
       "commandVersion": 0,
       "commentThread": [],
       "commentsVisible": false,
       "contentSha256Hex": null,
       "customPlotOptions": {
        "redashChart": [
         {
          "key": "type",
          "value": "CHART"
         },
         {
          "key": "options",
          "value": {
           "alignYAxesAtZero": true,
           "coefficient": 1,
           "columnConfigurationMap": {
            "x": {
             "column": "type",
             "id": "column_77be630d9"
            },
            "y": [
             {
              "column": "count",
              "id": "column_77be630d10",
              "transform": "SUM"
             }
            ]
           },
           "dateTimeFormat": "DD/MM/YYYY HH:mm",
           "direction": {
            "type": "counterclockwise"
           },
           "error_y": {
            "type": "data",
            "visible": true
           },
           "globalSeriesType": "pie",
           "isAggregationOn": true,
           "legend": {
            "traceorder": "normal"
           },
           "missingValuesAsZero": true,
           "numberFormat": "0,0.[00000]",
           "percentFormat": "0[.]00%",
           "series": {
            "error_y": {
             "type": "data",
             "visible": true
            },
            "stacking": null
           },
           "seriesOptions": {
            "column_77be630d10": {
             "name": "% of GitHub Event",
             "type": "pie",
             "yAxis": 0
            }
           },
           "showDataLabels": true,
           "sizemode": "diameter",
           "sortX": true,
           "sortY": true,
           "swappedAxes": false,
           "textFormat": "",
           "useAggregationsUi": true,
           "valuesOptions": {},
           "version": 2,
           "xAxis": {
            "labels": {
             "enabled": true
            },
            "type": "-"
           },
           "yAxis": [
            {
             "type": "-"
            },
            {
             "opposite": true,
             "type": "-"
            }
           ]
          }
         }
        ]
       },
       "datasetPreviewNameToCmdIdMap": {},
       "diffDeletes": [],
       "diffInserts": [],
       "displayType": "redashChart",
       "error": null,
       "errorDetails": null,
       "errorSummary": null,
       "errorTraceType": null,
       "finishTime": 0,
       "globalVars": {},
       "guid": "",
       "height": "auto",
       "hideCommandCode": false,
       "hideCommandResult": false,
       "iPythonMetadata": null,
       "inputWidgets": {},
       "isLockedInExamMode": false,
       "latestUser": "a user",
       "latestUserId": null,
       "listResultMetadata": null,
       "metadata": {},
       "nuid": "d68578c9-9a7a-4332-8c33-3d0478377603",
       "origId": 0,
       "parentHierarchy": [],
       "pivotAggregation": null,
       "pivotColumns": null,
       "position": 3.982421875,
       "resultDbfsErrorMessage": null,
       "resultDbfsStatus": "INLINED_IN_TREE",
       "results": null,
       "showCommandTitle": false,
       "startTime": 0,
       "state": "input",
       "streamStates": {},
       "subcommandOptions": {
        "queryPlan": {
         "groups": [
          {
           "column": "type",
           "type": "column"
          }
         ],
         "selects": [
          {
           "column": "type",
           "type": "column"
          },
          {
           "alias": "column_77be630d10",
           "args": [
            {
             "column": "count",
             "type": "column"
            }
           ],
           "function": "SUM",
           "type": "function"
          }
         ]
        }
       },
       "submitTime": 0,
       "subtype": "tableResultSubCmd.visualization",
       "tableResultIndex": 0,
       "useConsistentColors": false,
       "version": "CommandV1",
       "width": "auto",
       "workflows": [],
       "xColumns": null,
       "yColumns": null
      }
     },
     "output_type": "display_data"
    }
   ],
   "source": [
    "events_by_type = events_by_type.orderBy(\"count\", ascending = False)\n",
    "events_by_type.display()"
   ]
  },
  {
   "cell_type": "markdown",
   "metadata": {
    "application/vnd.databricks.v1+cell": {
     "cellMetadata": {},
     "inputWidgets": {},
     "nuid": "f8e215ce-5010-486c-b49d-177173e52341",
     "showTitle": false,
     "title": ""
    }
   },
   "source": [
    "\n",
    "## Number of commits per push event stats"
   ]
  },
  {
   "cell_type": "code",
   "execution_count": 0,
   "metadata": {
    "application/vnd.databricks.v1+cell": {
     "cellMetadata": {
      "byteLimit": 2048000,
      "rowLimit": 10000
     },
     "inputWidgets": {},
     "nuid": "89118441-511b-4d18-a51a-1c3e423fea48",
     "showTitle": false,
     "title": ""
    }
   },
   "outputs": [],
   "source": [
    "commit_stats = push_event_df.describe(\"num_commits\")"
   ]
  },
  {
   "cell_type": "code",
   "execution_count": 0,
   "metadata": {
    "application/vnd.databricks.v1+cell": {
     "cellMetadata": {
      "byteLimit": 2048000,
      "rowLimit": 10000
     },
     "inputWidgets": {},
     "nuid": "6202e89a-1cd6-4d00-9cc2-81dd473ae1ab",
     "showTitle": false,
     "title": ""
    }
   },
   "outputs": [
    {
     "output_type": "display_data",
     "data": {
      "text/html": [
       "<style scoped>\n",
       "  .table-result-container {\n",
       "    max-height: 300px;\n",
       "    overflow: auto;\n",
       "  }\n",
       "  table, th, td {\n",
       "    border: 1px solid black;\n",
       "    border-collapse: collapse;\n",
       "  }\n",
       "  th, td {\n",
       "    padding: 5px;\n",
       "  }\n",
       "  th {\n",
       "    text-align: left;\n",
       "  }\n",
       "</style><div class='table-result-container'><table class='table-result'><thead style='background-color: white'><tr><th>summary</th><th>num_commits</th></tr></thead><tbody><tr><td>count</td><td>50895123</td></tr><tr><td>mean</td><td>3.7137377583309896</td></tr><tr><td>stddev</td><td>40.37395330248807</td></tr><tr><td>min</td><td>0</td></tr><tr><td>max</td><td>1000</td></tr></tbody></table></div>"
      ]
     },
     "metadata": {
      "application/vnd.databricks.v1+output": {
       "addedWidgets": {},
       "aggData": [],
       "aggError": "",
       "aggOverflow": false,
       "aggSchema": [],
       "aggSeriesLimitReached": false,
       "aggType": "",
       "arguments": {},
       "columnCustomDisplayInfos": {},
       "data": [
        [
         "count",
         "50895123"
        ],
        [
         "mean",
         "3.7137377583309896"
        ],
        [
         "stddev",
         "40.37395330248807"
        ],
        [
         "min",
         "0"
        ],
        [
         "max",
         "1000"
        ]
       ],
       "datasetInfos": [],
       "dbfsResultPath": null,
       "isJsonSchema": true,
       "metadata": {},
       "overflow": false,
       "plotOptions": {
        "customPlotOptions": {},
        "displayType": "table",
        "pivotAggregation": null,
        "pivotColumns": null,
        "xColumns": null,
        "yColumns": null
       },
       "removedWidgets": [],
       "schema": [
        {
         "metadata": "{}",
         "name": "summary",
         "type": "\"string\""
        },
        {
         "metadata": "{}",
         "name": "num_commits",
         "type": "\"string\""
        }
       ],
       "type": "table"
      }
     },
     "output_type": "display_data"
    }
   ],
   "source": [
    "commit_stats.display()"
   ]
  },
  {
   "cell_type": "markdown",
   "metadata": {
    "application/vnd.databricks.v1+cell": {
     "cellMetadata": {
      "byteLimit": 2048000,
      "rowLimit": 10000
     },
     "inputWidgets": {},
     "nuid": "ae5e51f6-e295-4b8b-87ab-8c2d4092b16f",
     "showTitle": false,
     "title": ""
    }
   },
   "source": [
    "\n",
    "## User activity should be aggregated so that a filterable chart can be populated with breakdowns of user activity by week or month."
   ]
  },
  {
   "cell_type": "code",
   "execution_count": 0,
   "metadata": {
    "application/vnd.databricks.v1+cell": {
     "cellMetadata": {
      "byteLimit": 2048000,
      "rowLimit": 10000
     },
     "inputWidgets": {},
     "nuid": "043ea700-bd10-421c-89f4-21f9d48a54bb",
     "showTitle": false,
     "title": ""
    }
   },
   "outputs": [],
   "source": [
    "joined_df = main_df.join(date_df, main_df.date_id == date_df.date_id)"
   ]
  },
  {
   "cell_type": "code",
   "execution_count": 0,
   "metadata": {
    "application/vnd.databricks.v1+cell": {
     "cellMetadata": {
      "byteLimit": 2048000,
      "rowLimit": 10000
     },
     "inputWidgets": {},
     "nuid": "20b99df3-2132-4e7f-ac6c-631929943686",
     "showTitle": false,
     "title": ""
    }
   },
   "outputs": [],
   "source": [
    "activity_with_type = (joined_df.alias(\"d\")\n",
    "                      .join(actor_df.alias(\"a\"), \"actor_id\")\n",
    "                      .groupBy(\"a.actor_id\", \"a.actor_login\", \"d.type\",\n",
    "                               F.weekofyear(\"d.created_at\").alias(\"week\"), \n",
    "                               F.month(\"d.created_at\").alias(\"month\"))\n",
    "                      .count().withColumnRenamed(\"count\", \"activity_count\"))"
   ]
  },
  {
   "cell_type": "markdown",
   "metadata": {
    "application/vnd.databricks.v1+cell": {
     "cellMetadata": {},
     "inputWidgets": {},
     "nuid": "68285540-05ee-4bf4-acf8-32c70432f7f2",
     "showTitle": false,
     "title": ""
    }
   },
   "source": [
    "\n",
    "## Top 5 Users By Activity"
   ]
  },
  {
   "cell_type": "code",
   "execution_count": 0,
   "metadata": {
    "application/vnd.databricks.v1+cell": {
     "cellMetadata": {
      "byteLimit": 2048000,
      "rowLimit": 10000
     },
     "inputWidgets": {},
     "nuid": "fe44d90d-ed2a-4e69-9700-fc06fd478906",
     "showTitle": false,
     "title": ""
    }
   },
   "outputs": [],
   "source": [
    "total_activity_per_user = activity_with_type.groupBy(\"actor_login\").sum(\"activity_count\").withColumnRenamed(\"sum(activity_count)\", \"total_activity\")\n",
    "window_spec = Window.orderBy(F.desc(\"total_activity\"))\n",
    "top_5_users = total_activity_per_user.withColumn(\"rank\", F.rank().over(window_spec)).filter(\"rank <= 5\")\n",
    "top_5_users_list = [row['actor_login'] for row in top_5_users.select(\"actor_login\").collect()]"
   ]
  },
  {
   "cell_type": "code",
   "execution_count": 0,
   "metadata": {
    "application/vnd.databricks.v1+cell": {
     "cellMetadata": {
      "byteLimit": 2048000,
      "rowLimit": 10000
     },
     "inputWidgets": {},
     "nuid": "127dcf3b-f888-45d0-ac42-bd32448d6eb6",
     "showTitle": false,
     "title": ""
    }
   },
   "outputs": [],
   "source": [
    "top_5_activity = activity_with_type.filter(activity_with_type.actor_login.isin(top_5_users_list))"
   ]
  },
  {
   "cell_type": "code",
   "execution_count": 0,
   "metadata": {
    "application/vnd.databricks.v1+cell": {
     "cellMetadata": {
      "byteLimit": 2048000,
      "rowLimit": 10000
     },
     "inputWidgets": {},
     "nuid": "56c5f80a-8d60-4c6b-b931-46fe5640e70e",
     "showTitle": false,
     "title": ""
    }
   },
   "outputs": [
    {
     "output_type": "display_data",
     "data": {
      "text/html": [
       "<style scoped>\n",
       "  .table-result-container {\n",
       "    max-height: 300px;\n",
       "    overflow: auto;\n",
       "  }\n",
       "  table, th, td {\n",
       "    border: 1px solid black;\n",
       "    border-collapse: collapse;\n",
       "  }\n",
       "  th, td {\n",
       "    padding: 5px;\n",
       "  }\n",
       "  th {\n",
       "    text-align: left;\n",
       "  }\n",
       "</style><div class='table-result-container'><table class='table-result'><thead style='background-color: white'><tr><th>actor_id</th><th>actor_login</th><th>type</th><th>week</th><th>month</th><th>activity_count</th></tr></thead><tbody><tr><td>39814207</td><td>pull[bot]</td><td>PushEvent</td><td>1</td><td>1</td><td>56807328160</td></tr><tr><td>39814207</td><td>pull[bot]</td><td>PushEvent</td><td>3</td><td>1</td><td>62586340487</td></tr><tr><td>39814207</td><td>pull[bot]</td><td>PushEvent</td><td>4</td><td>1</td><td>58488704659</td></tr><tr><td>39814207</td><td>pull[bot]</td><td>PushEvent</td><td>2</td><td>1</td><td>63290234282</td></tr><tr><td>39814207</td><td>pull[bot]</td><td>PushEvent</td><td>5</td><td>1</td><td>8966455927</td></tr><tr><td>39814207</td><td>pull[bot]</td><td>PullRequestEvent</td><td>2</td><td>1</td><td>129584634157</td></tr><tr><td>39814207</td><td>pull[bot]</td><td>PullRequestEvent</td><td>3</td><td>1</td><td>127118792372</td></tr><tr><td>39814207</td><td>pull[bot]</td><td>PullRequestEvent</td><td>4</td><td>1</td><td>110590126504</td></tr><tr><td>39814207</td><td>pull[bot]</td><td>PullRequestEvent</td><td>1</td><td>1</td><td>116529396412</td></tr><tr><td>39814207</td><td>pull[bot]</td><td>PushEvent</td><td>52</td><td>1</td><td>10111279420</td></tr><tr><td>39814207</td><td>pull[bot]</td><td>GollumEvent</td><td>3</td><td>1</td><td>885401</td></tr><tr><td>39814207</td><td>pull[bot]</td><td>PullRequestEvent</td><td>52</td><td>1</td><td>21900393735</td></tr><tr><td>39814207</td><td>pull[bot]</td><td>PullRequestEvent</td><td>5</td><td>1</td><td>17960359285</td></tr><tr><td>49699333</td><td>dependabot[bot]</td><td>PushEvent</td><td>1</td><td>1</td><td>422631174690</td></tr><tr><td>49699333</td><td>dependabot[bot]</td><td>PushEvent</td><td>2</td><td>1</td><td>487755734715</td></tr><tr><td>49699333</td><td>dependabot[bot]</td><td>PushEvent</td><td>52</td><td>1</td><td>104304925395</td></tr><tr><td>49699333</td><td>dependabot[bot]</td><td>CreateEvent</td><td>2</td><td>1</td><td>11781817003350</td></tr><tr><td>49699333</td><td>dependabot[bot]</td><td>PushEvent</td><td>3</td><td>1</td><td>510815435445</td></tr><tr><td>49699333</td><td>dependabot[bot]</td><td>CreateEvent</td><td>3</td><td>1</td><td>4186651986765</td></tr><tr><td>49699333</td><td>dependabot[bot]</td><td>CreateEvent</td><td>1</td><td>1</td><td>1899475813620</td></tr><tr><td>49699333</td><td>dependabot[bot]</td><td>PullRequestEvent</td><td>3</td><td>1</td><td>6512919146595</td></tr><tr><td>49699333</td><td>dependabot[bot]</td><td>PullRequestEvent</td><td>4</td><td>1</td><td>3035673908010</td></tr><tr><td>49699333</td><td>dependabot[bot]</td><td>PullRequestEvent</td><td>5</td><td>1</td><td>987463837215</td></tr><tr><td>49699333</td><td>dependabot[bot]</td><td>CreateEvent</td><td>52</td><td>1</td><td>341385950025</td></tr><tr><td>49699333</td><td>dependabot[bot]</td><td>PullRequestEvent</td><td>2</td><td>1</td><td>13366135448325</td></tr><tr><td>49699333</td><td>dependabot[bot]</td><td>PushEvent</td><td>4</td><td>1</td><td>500821273395</td></tr><tr><td>49699333</td><td>dependabot[bot]</td><td>PushEvent</td><td>5</td><td>1</td><td>110650812030</td></tr><tr><td>49699333</td><td>dependabot[bot]</td><td>IssueCommentEvent</td><td>2</td><td>1</td><td>1802004294960</td></tr><tr><td>49699333</td><td>dependabot[bot]</td><td>IssueCommentEvent</td><td>3</td><td>1</td><td>2587041661320</td></tr><tr><td>49699333</td><td>dependabot[bot]</td><td>PullRequestEvent</td><td>1</td><td>1</td><td>2929548907575</td></tr><tr><td>49699333</td><td>dependabot[bot]</td><td>IssueCommentEvent</td><td>4</td><td>1</td><td>1409128097040</td></tr><tr><td>49699333</td><td>dependabot[bot]</td><td>CreateEvent</td><td>4</td><td>1</td><td>1900207093770</td></tr><tr><td>49699333</td><td>dependabot[bot]</td><td>CreateEvent</td><td>5</td><td>1</td><td>610838309295</td></tr><tr><td>49699333</td><td>dependabot[bot]</td><td>IssueCommentEvent</td><td>5</td><td>1</td><td>444195813780</td></tr><tr><td>49699333</td><td>dependabot[bot]</td><td>IssueCommentEvent</td><td>52</td><td>1</td><td>275473232505</td></tr><tr><td>49699333</td><td>dependabot[bot]</td><td>DeleteEvent</td><td>52</td><td>1</td><td>261635787000</td></tr><tr><td>49699333</td><td>dependabot[bot]</td><td>IssueCommentEvent</td><td>1</td><td>1</td><td>1251789110100</td></tr><tr><td>49699333</td><td>dependabot[bot]</td><td>DeleteEvent</td><td>2</td><td>1</td><td>1897753242600</td></tr><tr><td>49699333</td><td>dependabot[bot]</td><td>DeleteEvent</td><td>1</td><td>1</td><td>1278789598305</td></tr><tr><td>49699333</td><td>dependabot[bot]</td><td>DeleteEvent</td><td>3</td><td>1</td><td>2674405263240</td></tr><tr><td>49699333</td><td>dependabot[bot]</td><td>DeleteEvent</td><td>4</td><td>1</td><td>1455531885225</td></tr><tr><td>49699333</td><td>dependabot[bot]</td><td>PullRequestEvent</td><td>52</td><td>1</td><td>560339352270</td></tr><tr><td>49699333</td><td>dependabot[bot]</td><td>DeleteEvent</td><td>5</td><td>1</td><td>433884763665</td></tr><tr><td>29139614</td><td>renovate[bot]</td><td>PushEvent</td><td>1</td><td>1</td><td>54054387873</td></tr><tr><td>29139614</td><td>renovate[bot]</td><td>PushEvent</td><td>2</td><td>1</td><td>55806464925</td></tr><tr><td>29139614</td><td>renovate[bot]</td><td>PushEvent</td><td>4</td><td>1</td><td>53641353666</td></tr><tr><td>29139614</td><td>renovate[bot]</td><td>PushEvent</td><td>3</td><td>1</td><td>67917190038</td></tr><tr><td>29139614</td><td>renovate[bot]</td><td>PullRequestEvent</td><td>2</td><td>1</td><td>34347424953</td></tr><tr><td>29139614</td><td>renovate[bot]</td><td>PullRequestEvent</td><td>1</td><td>1</td><td>33238713093</td></tr><tr><td>29139614</td><td>renovate[bot]</td><td>IssueCommentEvent</td><td>2</td><td>1</td><td>1453037163</td></tr><tr><td>29139614</td><td>renovate[bot]</td><td>IssueCommentEvent</td><td>4</td><td>1</td><td>1431175239</td></tr><tr><td>29139614</td><td>renovate[bot]</td><td>IssuesEvent</td><td>3</td><td>1</td><td>542644185</td></tr><tr><td>29139614</td><td>renovate[bot]</td><td>IssuesEvent</td><td>1</td><td>1</td><td>592614297</td></tr><tr><td>29139614</td><td>renovate[bot]</td><td>IssuesEvent</td><td>4</td><td>1</td><td>427088301</td></tr><tr><td>29139614</td><td>renovate[bot]</td><td>IssuesEvent</td><td>2</td><td>1</td><td>447388659</td></tr><tr><td>29139614</td><td>renovate[bot]</td><td>IssuesEvent</td><td>52</td><td>1</td><td>118679016</td></tr><tr><td>29139614</td><td>renovate[bot]</td><td>CreateEvent</td><td>4</td><td>1</td><td>22227330444</td></tr><tr><td>29139614</td><td>renovate[bot]</td><td>CreateEvent</td><td>3</td><td>1</td><td>29607291360</td></tr><tr><td>29139614</td><td>renovate[bot]</td><td>CreateEvent</td><td>2</td><td>1</td><td>25140431817</td></tr><tr><td>29139614</td><td>renovate[bot]</td><td>CreateEvent</td><td>1</td><td>1</td><td>23998927071</td></tr><tr><td>29139614</td><td>renovate[bot]</td><td>PullRequestEvent</td><td>3</td><td>1</td><td>41963963118</td></tr><tr><td>29139614</td><td>renovate[bot]</td><td>PullRequestEvent</td><td>4</td><td>1</td><td>31022850939</td></tr><tr><td>29139614</td><td>renovate[bot]</td><td>IssueCommentEvent</td><td>3</td><td>1</td><td>1207871301</td></tr><tr><td>29139614</td><td>renovate[bot]</td><td>IssueCommentEvent</td><td>1</td><td>1</td><td>841684074</td></tr><tr><td>29139614</td><td>renovate[bot]</td><td>PullRequestEvent</td><td>52</td><td>1</td><td>8872037229</td></tr><tr><td>29139614</td><td>renovate[bot]</td><td>DeleteEvent</td><td>4</td><td>1</td><td>16177823760</td></tr><tr><td>29139614</td><td>renovate[bot]</td><td>DeleteEvent</td><td>3</td><td>1</td><td>21588649950</td></tr><tr><td>29139614</td><td>renovate[bot]</td><td>DeleteEvent</td><td>5</td><td>1</td><td>3278507817</td></tr><tr><td>29139614</td><td>renovate[bot]</td><td>DeleteEvent</td><td>2</td><td>1</td><td>16527614544</td></tr><tr><td>29139614</td><td>renovate[bot]</td><td>DeleteEvent</td><td>1</td><td>1</td><td>17238907857</td></tr><tr><td>29139614</td><td>renovate[bot]</td><td>IssuesEvent</td><td>5</td><td>1</td><td>168649128</td></tr><tr><td>29139614</td><td>renovate[bot]</td><td>IssueCommentEvent</td><td>52</td><td>1</td><td>191291835</td></tr><tr><td>29139614</td><td>renovate[bot]</td><td>PushEvent</td><td>52</td><td>1</td><td>12768144399</td></tr><tr><td>29139614</td><td>renovate[bot]</td><td>PushEvent</td><td>5</td><td>1</td><td>10091620275</td></tr><tr><td>29139614</td><td>renovate[bot]</td><td>CreateEvent</td><td>5</td><td>1</td><td>5089924377</td></tr><tr><td>29139614</td><td>renovate[bot]</td><td>IssueCommentEvent</td><td>5</td><td>1</td><td>259219956</td></tr><tr><td>29139614</td><td>renovate[bot]</td><td>DeleteEvent</td><td>52</td><td>1</td><td>3864095067</td></tr><tr><td>29139614</td><td>renovate[bot]</td><td>CreateEvent</td><td>52</td><td>1</td><td>6695214225</td></tr><tr><td>29139614</td><td>renovate[bot]</td><td>PullRequestEvent</td><td>5</td><td>1</td><td>6781881138</td></tr><tr><td>41898282</td><td>github-actions[bot]</td><td>PushEvent</td><td>1</td><td>1</td><td>8067954689452</td></tr><tr><td>41898282</td><td>github-actions[bot]</td><td>PushEvent</td><td>2</td><td>1</td><td>8201971454180</td></tr><tr><td>41898282</td><td>github-actions[bot]</td><td>PushEvent</td><td>52</td><td>1</td><td>2188724757772</td></tr><tr><td>41898282</td><td>github-actions[bot]</td><td>CreateEvent</td><td>2</td><td>1</td><td>324106261248</td></tr><tr><td>41898282</td><td>github-actions[bot]</td><td>PushEvent</td><td>3</td><td>1</td><td>8866557427868</td></tr><tr><td>41898282</td><td>github-actions[bot]</td><td>CreateEvent</td><td>3</td><td>1</td><td>337950968348</td></tr><tr><td>41898282</td><td>github-actions[bot]</td><td>CreateEvent</td><td>1</td><td>1</td><td>311649360932</td></tr><tr><td>41898282</td><td>github-actions[bot]</td><td>PullRequestEvent</td><td>3</td><td>1</td><td>246195589052</td></tr><tr><td>41898282</td><td>github-actions[bot]</td><td>PullRequestEvent</td><td>4</td><td>1</td><td>242772777128</td></tr><tr><td>41898282</td><td>github-actions[bot]</td><td>PullRequestEvent</td><td>5</td><td>1</td><td>40546643396</td></tr><tr><td>41898282</td><td>github-actions[bot]</td><td>CreateEvent</td><td>52</td><td>1</td><td>78204246708</td></tr><tr><td>41898282</td><td>github-actions[bot]</td><td>PullRequestEvent</td><td>2</td><td>1</td><td>236347498604</td></tr><tr><td>41898282</td><td>github-actions[bot]</td><td>IssuesEvent</td><td>1</td><td>1</td><td>39906117188</td></tr><tr><td>41898282</td><td>github-actions[bot]</td><td>IssuesEvent</td><td>2</td><td>1</td><td>56052715348</td></tr><tr><td>41898282</td><td>github-actions[bot]</td><td>PullRequestReviewEvent</td><td>1</td><td>1</td><td>62958388528</td></tr><tr><td>41898282</td><td>github-actions[bot]</td><td>PushEvent</td><td>4</td><td>1</td><td>9259146616188</td></tr><tr><td>41898282</td><td>github-actions[bot]</td><td>PushEvent</td><td>5</td><td>1</td><td>1348828095384</td></tr><tr><td>41898282</td><td>github-actions[bot]</td><td>IssueCommentEvent</td><td>2</td><td>1</td><td>317507506876</td></tr><tr><td>41898282</td><td>github-actions[bot]</td><td>IssueCommentEvent</td><td>3</td><td>1</td><td>337096933404</td></tr><tr><td>41898282</td><td>github-actions[bot]</td><td>PullRequestEvent</td><td>1</td><td>1</td><td>246108851128</td></tr><tr><td>41898282</td><td>github-actions[bot]</td><td>IssueCommentEvent</td><td>4</td><td>1</td><td>336903441112</td></tr><tr><td>41898282</td><td>github-actions[bot]</td><td>IssuesEvent</td><td>3</td><td>1</td><td>38431572480</td></tr><tr><td>41898282</td><td>github-actions[bot]</td><td>PullRequestReviewCommentEvent</td><td>2</td><td>1</td><td>12363490244</td></tr><tr><td>41898282</td><td>github-actions[bot]</td><td>PullRequestReviewCommentEvent</td><td>4</td><td>1</td><td>11482766708</td></tr><tr><td>41898282</td><td>github-actions[bot]</td><td>PullRequestReviewCommentEvent</td><td>5</td><td>1</td><td>1774791368</td></tr><tr><td>41898282</td><td>github-actions[bot]</td><td>PullRequestReviewCommentEvent</td><td>3</td><td>1</td><td>11442733820</td></tr><tr><td>41898282</td><td>github-actions[bot]</td><td>IssuesEvent</td><td>4</td><td>1</td><td>34481660864</td></tr><tr><td>41898282</td><td>github-actions[bot]</td><td>PullRequestReviewEvent</td><td>2</td><td>1</td><td>66848250812</td></tr><tr><td>41898282</td><td>github-actions[bot]</td><td>PullRequestReviewCommentEvent</td><td>1</td><td>1</td><td>8393562184</td></tr><tr><td>41898282</td><td>github-actions[bot]</td><td>IssuesEvent</td><td>52</td><td>1</td><td>9741336080</td></tr><tr><td>41898282</td><td>github-actions[bot]</td><td>ReleaseEvent</td><td>2</td><td>1</td><td>266312115272</td></tr><tr><td>41898282</td><td>github-actions[bot]</td><td>ReleaseEvent</td><td>3</td><td>1</td><td>277541340356</td></tr><tr><td>41898282</td><td>github-actions[bot]</td><td>ReleaseEvent</td><td>4</td><td>1</td><td>278321981672</td></tr><tr><td>41898282</td><td>github-actions[bot]</td><td>ReleaseEvent</td><td>1</td><td>1</td><td>261801743224</td></tr><tr><td>41898282</td><td>github-actions[bot]</td><td>ReleaseEvent</td><td>5</td><td>1</td><td>40393183992</td></tr><tr><td>41898282</td><td>github-actions[bot]</td><td>PullRequestReviewCommentEvent</td><td>52</td><td>1</td><td>1587971224</td></tr><tr><td>41898282</td><td>github-actions[bot]</td><td>CommitCommentEvent</td><td>2</td><td>1</td><td>29624337120</td></tr><tr><td>41898282</td><td>github-actions[bot]</td><td>CommitCommentEvent</td><td>3</td><td>1</td><td>35402417288</td></tr><tr><td>41898282</td><td>github-actions[bot]</td><td>PullRequestReviewEvent</td><td>52</td><td>1</td><td>12757146976</td></tr><tr><td>41898282</td><td>github-actions[bot]</td><td>CommitCommentEvent</td><td>1</td><td>1</td><td>31732735888</td></tr><tr><td>41898282</td><td>github-actions[bot]</td><td>CreateEvent</td><td>4</td><td>1</td><td>341086877908</td></tr><tr><td>41898282</td><td>github-actions[bot]</td><td>CreateEvent</td><td>5</td><td>1</td><td>50027765704</td></tr><tr><td>41898282</td><td>github-actions[bot]</td><td>IssueCommentEvent</td><td>5</td><td>1</td><td>52456427576</td></tr><tr><td>41898282</td><td>github-actions[bot]</td><td>PullRequestReviewEvent</td><td>4</td><td>1</td><td>81900616700</td></tr><tr><td>41898282</td><td>github-actions[bot]</td><td>PullRequestReviewEvent</td><td>3</td><td>1</td><td>77777229236</td></tr><tr><td>41898282</td><td>github-actions[bot]</td><td>IssuesEvent</td><td>5</td><td>1</td><td>7686314496</td></tr><tr><td>41898282</td><td>github-actions[bot]</td><td>IssueCommentEvent</td><td>52</td><td>1</td><td>51522326856</td></tr><tr><td>41898282</td><td>github-actions[bot]</td><td>DeleteEvent</td><td>52</td><td>1</td><td>50454783176</td></tr><tr><td>41898282</td><td>github-actions[bot]</td><td>ReleaseEvent</td><td>52</td><td>1</td><td>64426261088</td></tr><tr><td>41898282</td><td>github-actions[bot]</td><td>CommitCommentEvent</td><td>4</td><td>1</td><td>31178947604</td></tr><tr><td>41898282</td><td>github-actions[bot]</td><td>CommitCommentEvent</td><td>5</td><td>1</td><td>6351884896</td></tr><tr><td>41898282</td><td>github-actions[bot]</td><td>GollumEvent</td><td>3</td><td>1</td><td>180147996</td></tr><tr><td>41898282</td><td>github-actions[bot]</td><td>GollumEvent</td><td>1</td><td>1</td><td>206836588</td></tr><tr><td>41898282</td><td>github-actions[bot]</td><td>GollumEvent</td><td>4</td><td>1</td><td>200164440</td></tr><tr><td>41898282</td><td>github-actions[bot]</td><td>GollumEvent</td><td>2</td><td>1</td><td>140115108</td></tr><tr><td>41898282</td><td>github-actions[bot]</td><td>GollumEvent</td><td>52</td><td>1</td><td>46705036</td></tr><tr><td>41898282</td><td>github-actions[bot]</td><td>DeleteEvent</td><td>2</td><td>1</td><td>169299083352</td></tr><tr><td>41898282</td><td>github-actions[bot]</td><td>DeleteEvent</td><td>3</td><td>1</td><td>175771066912</td></tr><tr><td>41898282</td><td>github-actions[bot]</td><td>DeleteEvent</td><td>1</td><td>1</td><td>174616785308</td></tr><tr><td>41898282</td><td>github-actions[bot]</td><td>DeleteEvent</td><td>4</td><td>1</td><td>172061352624</td></tr><tr><td>41898282</td><td>github-actions[bot]</td><td>IssueCommentEvent</td><td>1</td><td>1</td><td>311295737088</td></tr><tr><td>41898282</td><td>github-actions[bot]</td><td>PullRequestEvent</td><td>52</td><td>1</td><td>70504587916</td></tr><tr><td>41898282</td><td>github-actions[bot]</td><td>DeleteEvent</td><td>5</td><td>1</td><td>26361656748</td></tr><tr><td>41898282</td><td>github-actions[bot]</td><td>CommitCommentEvent</td><td>52</td><td>1</td><td>6331868452</td></tr><tr><td>41898282</td><td>github-actions[bot]</td><td>PullRequestReviewEvent</td><td>5</td><td>1</td><td>17707880792</td></tr><tr><td>41898282</td><td>github-actions[bot]</td><td>GollumEvent</td><td>5</td><td>1</td><td>40032888</td></tr><tr><td>8517910</td><td>LombiqBot</td><td>PushEvent</td><td>4</td><td>1</td><td>461487063695</td></tr><tr><td>8517910</td><td>LombiqBot</td><td>PushEvent</td><td>2</td><td>1</td><td>944642614115</td></tr><tr><td>8517910</td><td>LombiqBot</td><td>PushEvent</td><td>3</td><td>1</td><td>674385351139</td></tr><tr><td>8517910</td><td>LombiqBot</td><td>PushEvent</td><td>1</td><td>1</td><td>1071872823674</td></tr><tr><td>8517910</td><td>LombiqBot</td><td>PushEvent</td><td>52</td><td>1</td><td>316869421144</td></tr><tr><td>8517910</td><td>LombiqBot</td><td>PushEvent</td><td>5</td><td>1</td><td>65625902745</td></tr><tr><td>8517910</td><td>LombiqBot</td><td>CreateEvent</td><td>2</td><td>1</td><td>1880129</td></tr></tbody></table></div>"
      ]
     },
     "metadata": {
      "application/vnd.databricks.v1+output": {
       "addedWidgets": {},
       "aggData": [],
       "aggError": "",
       "aggOverflow": false,
       "aggSchema": [],
       "aggSeriesLimitReached": false,
       "aggType": "",
       "arguments": {},
       "columnCustomDisplayInfos": {},
       "data": [
        [
         39814207,
         "pull[bot]",
         "PushEvent",
         1,
         1,
         56807328160
        ],
        [
         39814207,
         "pull[bot]",
         "PushEvent",
         3,
         1,
         62586340487
        ],
        [
         39814207,
         "pull[bot]",
         "PushEvent",
         4,
         1,
         58488704659
        ],
        [
         39814207,
         "pull[bot]",
         "PushEvent",
         2,
         1,
         63290234282
        ],
        [
         39814207,
         "pull[bot]",
         "PushEvent",
         5,
         1,
         8966455927
        ],
        [
         39814207,
         "pull[bot]",
         "PullRequestEvent",
         2,
         1,
         129584634157
        ],
        [
         39814207,
         "pull[bot]",
         "PullRequestEvent",
         3,
         1,
         127118792372
        ],
        [
         39814207,
         "pull[bot]",
         "PullRequestEvent",
         4,
         1,
         110590126504
        ],
        [
         39814207,
         "pull[bot]",
         "PullRequestEvent",
         1,
         1,
         116529396412
        ],
        [
         39814207,
         "pull[bot]",
         "PushEvent",
         52,
         1,
         10111279420
        ],
        [
         39814207,
         "pull[bot]",
         "GollumEvent",
         3,
         1,
         885401
        ],
        [
         39814207,
         "pull[bot]",
         "PullRequestEvent",
         52,
         1,
         21900393735
        ],
        [
         39814207,
         "pull[bot]",
         "PullRequestEvent",
         5,
         1,
         17960359285
        ],
        [
         49699333,
         "dependabot[bot]",
         "PushEvent",
         1,
         1,
         422631174690
        ],
        [
         49699333,
         "dependabot[bot]",
         "PushEvent",
         2,
         1,
         487755734715
        ],
        [
         49699333,
         "dependabot[bot]",
         "PushEvent",
         52,
         1,
         104304925395
        ],
        [
         49699333,
         "dependabot[bot]",
         "CreateEvent",
         2,
         1,
         11781817003350
        ],
        [
         49699333,
         "dependabot[bot]",
         "PushEvent",
         3,
         1,
         510815435445
        ],
        [
         49699333,
         "dependabot[bot]",
         "CreateEvent",
         3,
         1,
         4186651986765
        ],
        [
         49699333,
         "dependabot[bot]",
         "CreateEvent",
         1,
         1,
         1899475813620
        ],
        [
         49699333,
         "dependabot[bot]",
         "PullRequestEvent",
         3,
         1,
         6512919146595
        ],
        [
         49699333,
         "dependabot[bot]",
         "PullRequestEvent",
         4,
         1,
         3035673908010
        ],
        [
         49699333,
         "dependabot[bot]",
         "PullRequestEvent",
         5,
         1,
         987463837215
        ],
        [
         49699333,
         "dependabot[bot]",
         "CreateEvent",
         52,
         1,
         341385950025
        ],
        [
         49699333,
         "dependabot[bot]",
         "PullRequestEvent",
         2,
         1,
         13366135448325
        ],
        [
         49699333,
         "dependabot[bot]",
         "PushEvent",
         4,
         1,
         500821273395
        ],
        [
         49699333,
         "dependabot[bot]",
         "PushEvent",
         5,
         1,
         110650812030
        ],
        [
         49699333,
         "dependabot[bot]",
         "IssueCommentEvent",
         2,
         1,
         1802004294960
        ],
        [
         49699333,
         "dependabot[bot]",
         "IssueCommentEvent",
         3,
         1,
         2587041661320
        ],
        [
         49699333,
         "dependabot[bot]",
         "PullRequestEvent",
         1,
         1,
         2929548907575
        ],
        [
         49699333,
         "dependabot[bot]",
         "IssueCommentEvent",
         4,
         1,
         1409128097040
        ],
        [
         49699333,
         "dependabot[bot]",
         "CreateEvent",
         4,
         1,
         1900207093770
        ],
        [
         49699333,
         "dependabot[bot]",
         "CreateEvent",
         5,
         1,
         610838309295
        ],
        [
         49699333,
         "dependabot[bot]",
         "IssueCommentEvent",
         5,
         1,
         444195813780
        ],
        [
         49699333,
         "dependabot[bot]",
         "IssueCommentEvent",
         52,
         1,
         275473232505
        ],
        [
         49699333,
         "dependabot[bot]",
         "DeleteEvent",
         52,
         1,
         261635787000
        ],
        [
         49699333,
         "dependabot[bot]",
         "IssueCommentEvent",
         1,
         1,
         1251789110100
        ],
        [
         49699333,
         "dependabot[bot]",
         "DeleteEvent",
         2,
         1,
         1897753242600
        ],
        [
         49699333,
         "dependabot[bot]",
         "DeleteEvent",
         1,
         1,
         1278789598305
        ],
        [
         49699333,
         "dependabot[bot]",
         "DeleteEvent",
         3,
         1,
         2674405263240
        ],
        [
         49699333,
         "dependabot[bot]",
         "DeleteEvent",
         4,
         1,
         1455531885225
        ],
        [
         49699333,
         "dependabot[bot]",
         "PullRequestEvent",
         52,
         1,
         560339352270
        ],
        [
         49699333,
         "dependabot[bot]",
         "DeleteEvent",
         5,
         1,
         433884763665
        ],
        [
         29139614,
         "renovate[bot]",
         "PushEvent",
         1,
         1,
         54054387873
        ],
        [
         29139614,
         "renovate[bot]",
         "PushEvent",
         2,
         1,
         55806464925
        ],
        [
         29139614,
         "renovate[bot]",
         "PushEvent",
         4,
         1,
         53641353666
        ],
        [
         29139614,
         "renovate[bot]",
         "PushEvent",
         3,
         1,
         67917190038
        ],
        [
         29139614,
         "renovate[bot]",
         "PullRequestEvent",
         2,
         1,
         34347424953
        ],
        [
         29139614,
         "renovate[bot]",
         "PullRequestEvent",
         1,
         1,
         33238713093
        ],
        [
         29139614,
         "renovate[bot]",
         "IssueCommentEvent",
         2,
         1,
         1453037163
        ],
        [
         29139614,
         "renovate[bot]",
         "IssueCommentEvent",
         4,
         1,
         1431175239
        ],
        [
         29139614,
         "renovate[bot]",
         "IssuesEvent",
         3,
         1,
         542644185
        ],
        [
         29139614,
         "renovate[bot]",
         "IssuesEvent",
         1,
         1,
         592614297
        ],
        [
         29139614,
         "renovate[bot]",
         "IssuesEvent",
         4,
         1,
         427088301
        ],
        [
         29139614,
         "renovate[bot]",
         "IssuesEvent",
         2,
         1,
         447388659
        ],
        [
         29139614,
         "renovate[bot]",
         "IssuesEvent",
         52,
         1,
         118679016
        ],
        [
         29139614,
         "renovate[bot]",
         "CreateEvent",
         4,
         1,
         22227330444
        ],
        [
         29139614,
         "renovate[bot]",
         "CreateEvent",
         3,
         1,
         29607291360
        ],
        [
         29139614,
         "renovate[bot]",
         "CreateEvent",
         2,
         1,
         25140431817
        ],
        [
         29139614,
         "renovate[bot]",
         "CreateEvent",
         1,
         1,
         23998927071
        ],
        [
         29139614,
         "renovate[bot]",
         "PullRequestEvent",
         3,
         1,
         41963963118
        ],
        [
         29139614,
         "renovate[bot]",
         "PullRequestEvent",
         4,
         1,
         31022850939
        ],
        [
         29139614,
         "renovate[bot]",
         "IssueCommentEvent",
         3,
         1,
         1207871301
        ],
        [
         29139614,
         "renovate[bot]",
         "IssueCommentEvent",
         1,
         1,
         841684074
        ],
        [
         29139614,
         "renovate[bot]",
         "PullRequestEvent",
         52,
         1,
         8872037229
        ],
        [
         29139614,
         "renovate[bot]",
         "DeleteEvent",
         4,
         1,
         16177823760
        ],
        [
         29139614,
         "renovate[bot]",
         "DeleteEvent",
         3,
         1,
         21588649950
        ],
        [
         29139614,
         "renovate[bot]",
         "DeleteEvent",
         5,
         1,
         3278507817
        ],
        [
         29139614,
         "renovate[bot]",
         "DeleteEvent",
         2,
         1,
         16527614544
        ],
        [
         29139614,
         "renovate[bot]",
         "DeleteEvent",
         1,
         1,
         17238907857
        ],
        [
         29139614,
         "renovate[bot]",
         "IssuesEvent",
         5,
         1,
         168649128
        ],
        [
         29139614,
         "renovate[bot]",
         "IssueCommentEvent",
         52,
         1,
         191291835
        ],
        [
         29139614,
         "renovate[bot]",
         "PushEvent",
         52,
         1,
         12768144399
        ],
        [
         29139614,
         "renovate[bot]",
         "PushEvent",
         5,
         1,
         10091620275
        ],
        [
         29139614,
         "renovate[bot]",
         "CreateEvent",
         5,
         1,
         5089924377
        ],
        [
         29139614,
         "renovate[bot]",
         "IssueCommentEvent",
         5,
         1,
         259219956
        ],
        [
         29139614,
         "renovate[bot]",
         "DeleteEvent",
         52,
         1,
         3864095067
        ],
        [
         29139614,
         "renovate[bot]",
         "CreateEvent",
         52,
         1,
         6695214225
        ],
        [
         29139614,
         "renovate[bot]",
         "PullRequestEvent",
         5,
         1,
         6781881138
        ],
        [
         41898282,
         "github-actions[bot]",
         "PushEvent",
         1,
         1,
         8067954689452
        ],
        [
         41898282,
         "github-actions[bot]",
         "PushEvent",
         2,
         1,
         8201971454180
        ],
        [
         41898282,
         "github-actions[bot]",
         "PushEvent",
         52,
         1,
         2188724757772
        ],
        [
         41898282,
         "github-actions[bot]",
         "CreateEvent",
         2,
         1,
         324106261248
        ],
        [
         41898282,
         "github-actions[bot]",
         "PushEvent",
         3,
         1,
         8866557427868
        ],
        [
         41898282,
         "github-actions[bot]",
         "CreateEvent",
         3,
         1,
         337950968348
        ],
        [
         41898282,
         "github-actions[bot]",
         "CreateEvent",
         1,
         1,
         311649360932
        ],
        [
         41898282,
         "github-actions[bot]",
         "PullRequestEvent",
         3,
         1,
         246195589052
        ],
        [
         41898282,
         "github-actions[bot]",
         "PullRequestEvent",
         4,
         1,
         242772777128
        ],
        [
         41898282,
         "github-actions[bot]",
         "PullRequestEvent",
         5,
         1,
         40546643396
        ],
        [
         41898282,
         "github-actions[bot]",
         "CreateEvent",
         52,
         1,
         78204246708
        ],
        [
         41898282,
         "github-actions[bot]",
         "PullRequestEvent",
         2,
         1,
         236347498604
        ],
        [
         41898282,
         "github-actions[bot]",
         "IssuesEvent",
         1,
         1,
         39906117188
        ],
        [
         41898282,
         "github-actions[bot]",
         "IssuesEvent",
         2,
         1,
         56052715348
        ],
        [
         41898282,
         "github-actions[bot]",
         "PullRequestReviewEvent",
         1,
         1,
         62958388528
        ],
        [
         41898282,
         "github-actions[bot]",
         "PushEvent",
         4,
         1,
         9259146616188
        ],
        [
         41898282,
         "github-actions[bot]",
         "PushEvent",
         5,
         1,
         1348828095384
        ],
        [
         41898282,
         "github-actions[bot]",
         "IssueCommentEvent",
         2,
         1,
         317507506876
        ],
        [
         41898282,
         "github-actions[bot]",
         "IssueCommentEvent",
         3,
         1,
         337096933404
        ],
        [
         41898282,
         "github-actions[bot]",
         "PullRequestEvent",
         1,
         1,
         246108851128
        ],
        [
         41898282,
         "github-actions[bot]",
         "IssueCommentEvent",
         4,
         1,
         336903441112
        ],
        [
         41898282,
         "github-actions[bot]",
         "IssuesEvent",
         3,
         1,
         38431572480
        ],
        [
         41898282,
         "github-actions[bot]",
         "PullRequestReviewCommentEvent",
         2,
         1,
         12363490244
        ],
        [
         41898282,
         "github-actions[bot]",
         "PullRequestReviewCommentEvent",
         4,
         1,
         11482766708
        ],
        [
         41898282,
         "github-actions[bot]",
         "PullRequestReviewCommentEvent",
         5,
         1,
         1774791368
        ],
        [
         41898282,
         "github-actions[bot]",
         "PullRequestReviewCommentEvent",
         3,
         1,
         11442733820
        ],
        [
         41898282,
         "github-actions[bot]",
         "IssuesEvent",
         4,
         1,
         34481660864
        ],
        [
         41898282,
         "github-actions[bot]",
         "PullRequestReviewEvent",
         2,
         1,
         66848250812
        ],
        [
         41898282,
         "github-actions[bot]",
         "PullRequestReviewCommentEvent",
         1,
         1,
         8393562184
        ],
        [
         41898282,
         "github-actions[bot]",
         "IssuesEvent",
         52,
         1,
         9741336080
        ],
        [
         41898282,
         "github-actions[bot]",
         "ReleaseEvent",
         2,
         1,
         266312115272
        ],
        [
         41898282,
         "github-actions[bot]",
         "ReleaseEvent",
         3,
         1,
         277541340356
        ],
        [
         41898282,
         "github-actions[bot]",
         "ReleaseEvent",
         4,
         1,
         278321981672
        ],
        [
         41898282,
         "github-actions[bot]",
         "ReleaseEvent",
         1,
         1,
         261801743224
        ],
        [
         41898282,
         "github-actions[bot]",
         "ReleaseEvent",
         5,
         1,
         40393183992
        ],
        [
         41898282,
         "github-actions[bot]",
         "PullRequestReviewCommentEvent",
         52,
         1,
         1587971224
        ],
        [
         41898282,
         "github-actions[bot]",
         "CommitCommentEvent",
         2,
         1,
         29624337120
        ],
        [
         41898282,
         "github-actions[bot]",
         "CommitCommentEvent",
         3,
         1,
         35402417288
        ],
        [
         41898282,
         "github-actions[bot]",
         "PullRequestReviewEvent",
         52,
         1,
         12757146976
        ],
        [
         41898282,
         "github-actions[bot]",
         "CommitCommentEvent",
         1,
         1,
         31732735888
        ],
        [
         41898282,
         "github-actions[bot]",
         "CreateEvent",
         4,
         1,
         341086877908
        ],
        [
         41898282,
         "github-actions[bot]",
         "CreateEvent",
         5,
         1,
         50027765704
        ],
        [
         41898282,
         "github-actions[bot]",
         "IssueCommentEvent",
         5,
         1,
         52456427576
        ],
        [
         41898282,
         "github-actions[bot]",
         "PullRequestReviewEvent",
         4,
         1,
         81900616700
        ],
        [
         41898282,
         "github-actions[bot]",
         "PullRequestReviewEvent",
         3,
         1,
         77777229236
        ],
        [
         41898282,
         "github-actions[bot]",
         "IssuesEvent",
         5,
         1,
         7686314496
        ],
        [
         41898282,
         "github-actions[bot]",
         "IssueCommentEvent",
         52,
         1,
         51522326856
        ],
        [
         41898282,
         "github-actions[bot]",
         "DeleteEvent",
         52,
         1,
         50454783176
        ],
        [
         41898282,
         "github-actions[bot]",
         "ReleaseEvent",
         52,
         1,
         64426261088
        ],
        [
         41898282,
         "github-actions[bot]",
         "CommitCommentEvent",
         4,
         1,
         31178947604
        ],
        [
         41898282,
         "github-actions[bot]",
         "CommitCommentEvent",
         5,
         1,
         6351884896
        ],
        [
         41898282,
         "github-actions[bot]",
         "GollumEvent",
         3,
         1,
         180147996
        ],
        [
         41898282,
         "github-actions[bot]",
         "GollumEvent",
         1,
         1,
         206836588
        ],
        [
         41898282,
         "github-actions[bot]",
         "GollumEvent",
         4,
         1,
         200164440
        ],
        [
         41898282,
         "github-actions[bot]",
         "GollumEvent",
         2,
         1,
         140115108
        ],
        [
         41898282,
         "github-actions[bot]",
         "GollumEvent",
         52,
         1,
         46705036
        ],
        [
         41898282,
         "github-actions[bot]",
         "DeleteEvent",
         2,
         1,
         169299083352
        ],
        [
         41898282,
         "github-actions[bot]",
         "DeleteEvent",
         3,
         1,
         175771066912
        ],
        [
         41898282,
         "github-actions[bot]",
         "DeleteEvent",
         1,
         1,
         174616785308
        ],
        [
         41898282,
         "github-actions[bot]",
         "DeleteEvent",
         4,
         1,
         172061352624
        ],
        [
         41898282,
         "github-actions[bot]",
         "IssueCommentEvent",
         1,
         1,
         311295737088
        ],
        [
         41898282,
         "github-actions[bot]",
         "PullRequestEvent",
         52,
         1,
         70504587916
        ],
        [
         41898282,
         "github-actions[bot]",
         "DeleteEvent",
         5,
         1,
         26361656748
        ],
        [
         41898282,
         "github-actions[bot]",
         "CommitCommentEvent",
         52,
         1,
         6331868452
        ],
        [
         41898282,
         "github-actions[bot]",
         "PullRequestReviewEvent",
         5,
         1,
         17707880792
        ],
        [
         41898282,
         "github-actions[bot]",
         "GollumEvent",
         5,
         1,
         40032888
        ],
        [
         8517910,
         "LombiqBot",
         "PushEvent",
         4,
         1,
         461487063695
        ],
        [
         8517910,
         "LombiqBot",
         "PushEvent",
         2,
         1,
         944642614115
        ],
        [
         8517910,
         "LombiqBot",
         "PushEvent",
         3,
         1,
         674385351139
        ],
        [
         8517910,
         "LombiqBot",
         "PushEvent",
         1,
         1,
         1071872823674
        ],
        [
         8517910,
         "LombiqBot",
         "PushEvent",
         52,
         1,
         316869421144
        ],
        [
         8517910,
         "LombiqBot",
         "PushEvent",
         5,
         1,
         65625902745
        ],
        [
         8517910,
         "LombiqBot",
         "CreateEvent",
         2,
         1,
         1880129
        ]
       ],
       "datasetInfos": [],
       "dbfsResultPath": null,
       "isJsonSchema": true,
       "metadata": {},
       "overflow": false,
       "plotOptions": {
        "customPlotOptions": {},
        "displayType": "table",
        "pivotAggregation": null,
        "pivotColumns": null,
        "xColumns": null,
        "yColumns": null
       },
       "removedWidgets": [],
       "schema": [
        {
         "metadata": "{\"__metadata_col\":\"actor_id\"}",
         "name": "actor_id",
         "type": "\"long\""
        },
        {
         "metadata": "{}",
         "name": "actor_login",
         "type": "\"string\""
        },
        {
         "metadata": "{}",
         "name": "type",
         "type": "\"string\""
        },
        {
         "metadata": "{}",
         "name": "week",
         "type": "\"integer\""
        },
        {
         "metadata": "{}",
         "name": "month",
         "type": "\"integer\""
        },
        {
         "metadata": "{}",
         "name": "activity_count",
         "type": "\"long\""
        }
       ],
       "type": "table"
      }
     },
     "output_type": "display_data"
    },
    {
     "output_type": "display_data",
     "data": {
      "text/plain": [
       "Databricks visualization. Run in Databricks to view."
      ]
     },
     "metadata": {
      "application/vnd.databricks.v1.subcommand+json": {
       "bindings": {},
       "collapsed": false,
       "command": "%python\n__backend_agg_display_orig = display\n__backend_agg_dfs = []\ndef __backend_agg_display_new(df):\n    __backend_agg_df_modules = [\"pandas.core.frame\", \"databricks.koalas.frame\", \"pyspark.sql.dataframe\", \"pyspark.pandas.frame\", \"pyspark.sql.connect.dataframe\"]\n    if (type(df).__module__ in __backend_agg_df_modules and type(df).__name__ == 'DataFrame') or isinstance(df, list):\n        __backend_agg_dfs.append(df)\n\ndisplay = __backend_agg_display_new\n\ndef __backend_agg_user_code_fn():\n    import base64\n    exec(base64.standard_b64decode(\"ZGlzcGxheSh0b3BfNV9hY3Rpdml0eSk=\").decode())\n\ntry:\n    # run user code\n    __backend_agg_user_code_fn()\n\n    #reset display function\n    display = __backend_agg_display_orig\n\n    if len(__backend_agg_dfs) > 0:\n        # create a temp view\n        if type(__backend_agg_dfs[0]).__module__ == \"databricks.koalas.frame\":\n            # koalas dataframe\n            __backend_agg_dfs[0].to_spark().createOrReplaceTempView(\"DatabricksView1f6d346\")\n        elif type(__backend_agg_dfs[0]).__module__ == \"pandas.core.frame\" or isinstance(__backend_agg_dfs[0], list):\n            # pandas dataframe\n            spark.createDataFrame(__backend_agg_dfs[0]).createOrReplaceTempView(\"DatabricksView1f6d346\")\n        else:\n            __backend_agg_dfs[0].createOrReplaceTempView(\"DatabricksView1f6d346\")\n        #run backend agg\n        display(spark.sql(\"\"\"WITH q AS (select * from DatabricksView1f6d346) SELECT `week`,SUM(`activity_count`) `column_46b27b3446`,`type` FROM q GROUP BY `type`,`week`\"\"\"))\n    else:\n        displayHTML(\"dataframe no longer exists. If you're using dataframe.display(), use display(dataframe) instead.\")\n\n\nfinally:\n    spark.sql(\"drop view if exists DatabricksView1f6d346\")\n    display = __backend_agg_display_orig\n    del __backend_agg_display_new\n    del __backend_agg_display_orig\n    del __backend_agg_dfs\n    del __backend_agg_user_code_fn\n\n",
       "commandTitle": "Top 5 User Activity Breakdown",
       "commandType": "auto",
       "commandVersion": 0,
       "commentThread": [],
       "commentsVisible": false,
       "contentSha256Hex": null,
       "customPlotOptions": {
        "redashChart": [
         {
          "key": "type",
          "value": "CHART"
         },
         {
          "key": "options",
          "value": {
           "alignYAxesAtZero": true,
           "coefficient": 1,
           "columnConfigurationMap": {
            "series": {
             "column": "type",
             "id": "column_46b27b3459"
            },
            "x": {
             "column": "actor_login",
             "id": "column_46b27b3458"
            },
            "y": [
             {
              "column": "activity_count",
              "id": "column_46b27b3446",
              "transform": "SUM"
             }
            ]
           },
           "dateTimeFormat": "DD/MM/YYYY HH:mm",
           "direction": {
            "type": "counterclockwise"
           },
           "error_y": {
            "type": "data",
            "visible": true
           },
           "globalSeriesType": "column",
           "hideXAxis": false,
           "isAggregationOn": true,
           "legend": {
            "traceorder": "normal"
           },
           "missingValuesAsZero": true,
           "numberFormat": "0,0.[00000]",
           "percentFormat": "0[.]00%",
           "series": {
            "error_y": {
             "type": "data",
             "visible": true
            },
            "percentValues": true,
            "stacking": ""
           },
           "seriesOptions": {
            "column_46b27b3446": {
             "type": "column",
             "yAxis": 0
            },
            "column_46b27b3448": {
             "type": "column",
             "yAxis": 0
            }
           },
           "showDataLabels": false,
           "sizemode": "diameter",
           "sortX": true,
           "sortY": true,
           "swappedAxes": false,
           "textFormat": "",
           "useAggregationsUi": true,
           "valuesOptions": {},
           "version": 2,
           "xAxis": {
            "labels": {
             "enabled": true
            },
            "title": {
             "text": "Username"
            },
            "type": "-"
           },
           "yAxis": [
            {
             "title": {
              "text": "Activity Count (%)"
             },
             "type": "-"
            },
            {
             "opposite": true,
             "type": "-"
            }
           ]
          }
         }
        ]
       },
       "datasetPreviewNameToCmdIdMap": {},
       "diffDeletes": [],
       "diffInserts": [],
       "displayType": "redashChart",
       "error": null,
       "errorDetails": null,
       "errorSummary": null,
       "errorTraceType": null,
       "finishTime": 0,
       "globalVars": {},
       "guid": "",
       "height": "auto",
       "hideCommandCode": false,
       "hideCommandResult": false,
       "iPythonMetadata": null,
       "inputWidgets": {},
       "isLockedInExamMode": false,
       "latestUser": "a user",
       "latestUserId": null,
       "listResultMetadata": null,
       "metadata": {},
       "nuid": "a67fced4-0607-44c3-b39b-0de0965387d4",
       "origId": 0,
       "parentHierarchy": [],
       "pivotAggregation": null,
       "pivotColumns": null,
       "position": 8.677734375,
       "resultDbfsErrorMessage": null,
       "resultDbfsStatus": "INLINED_IN_TREE",
       "results": null,
       "showCommandTitle": false,
       "startTime": 0,
       "state": "input",
       "streamStates": {},
       "subcommandOptions": {
        "queryPlan": {
         "groups": [
          {
           "column": "actor_login",
           "type": "column"
          },
          {
           "column": "type",
           "type": "column"
          }
         ],
         "selects": [
          {
           "column": "actor_login",
           "type": "column"
          },
          {
           "alias": "column_46b27b3446",
           "args": [
            {
             "column": "activity_count",
             "type": "column"
            }
           ],
           "function": "SUM",
           "type": "function"
          },
          {
           "column": "type",
           "type": "column"
          }
         ]
        }
       },
       "submitTime": 0,
       "subtype": "tableResultSubCmd.visualization",
       "tableResultIndex": 0,
       "useConsistentColors": false,
       "version": "CommandV1",
       "width": "auto",
       "workflows": [],
       "xColumns": null,
       "yColumns": null
      }
     },
     "output_type": "display_data"
    },
    {
     "output_type": "display_data",
     "data": {
      "text/plain": [
       "Databricks visualization. Run in Databricks to view."
      ]
     },
     "metadata": {
      "application/vnd.databricks.v1.subcommand+json": {
       "bindings": {},
       "collapsed": false,
       "command": "%python\n__backend_agg_display_orig = display\n__backend_agg_dfs = []\ndef __backend_agg_display_new(df):\n    __backend_agg_df_modules = [\"pandas.core.frame\", \"databricks.koalas.frame\", \"pyspark.sql.dataframe\", \"pyspark.pandas.frame\", \"pyspark.sql.connect.dataframe\"]\n    if (type(df).__module__ in __backend_agg_df_modules and type(df).__name__ == 'DataFrame') or isinstance(df, list):\n        __backend_agg_dfs.append(df)\n\ndisplay = __backend_agg_display_new\n\ndef __backend_agg_user_code_fn():\n    import base64\n    exec(base64.standard_b64decode(\"ZGlzcGxheSh0b3BfNV9hY3Rpdml0eSk=\").decode())\n\ntry:\n    # run user code\n    __backend_agg_user_code_fn()\n\n    #reset display function\n    display = __backend_agg_display_orig\n\n    if len(__backend_agg_dfs) > 0:\n        # create a temp view\n        if type(__backend_agg_dfs[0]).__module__ == \"databricks.koalas.frame\":\n            # koalas dataframe\n            __backend_agg_dfs[0].to_spark().createOrReplaceTempView(\"DatabricksViewcedb387\")\n        elif type(__backend_agg_dfs[0]).__module__ == \"pandas.core.frame\" or isinstance(__backend_agg_dfs[0], list):\n            # pandas dataframe\n            spark.createDataFrame(__backend_agg_dfs[0]).createOrReplaceTempView(\"DatabricksViewcedb387\")\n        else:\n            __backend_agg_dfs[0].createOrReplaceTempView(\"DatabricksViewcedb387\")\n        #run backend agg\n        display(spark.sql(\"\"\"WITH q AS (select * from DatabricksViewcedb387) SELECT `week`,SUM(`activity_count`) `column_46b27b3462`,`actor_login` FROM q GROUP BY `actor_login`,`week`\"\"\"))\n    else:\n        displayHTML(\"dataframe no longer exists. If you're using dataframe.display(), use display(dataframe) instead.\")\n\n\nfinally:\n    spark.sql(\"drop view if exists DatabricksViewcedb387\")\n    display = __backend_agg_display_orig\n    del __backend_agg_display_new\n    del __backend_agg_display_orig\n    del __backend_agg_dfs\n    del __backend_agg_user_code_fn\n\n",
       "commandTitle": "Top 5 User's Activity By Week",
       "commandType": "auto",
       "commandVersion": 0,
       "commentThread": [],
       "commentsVisible": false,
       "contentSha256Hex": null,
       "customPlotOptions": {
        "redashChart": [
         {
          "key": "type",
          "value": "CHART"
         },
         {
          "key": "options",
          "value": {
           "alignYAxesAtZero": true,
           "coefficient": 1,
           "columnConfigurationMap": {
            "series": {
             "column": "actor_login",
             "id": "column_46b27b3463"
            },
            "x": {
             "column": "week",
             "id": "column_46b27b3460"
            },
            "y": [
             {
              "column": "activity_count",
              "id": "column_46b27b3462",
              "transform": "SUM"
             }
            ]
           },
           "dateTimeFormat": "DD/MM/YYYY HH:mm",
           "direction": {
            "type": "counterclockwise"
           },
           "error_y": {
            "type": "data",
            "visible": true
           },
           "globalSeriesType": "column",
           "isAggregationOn": true,
           "legend": {
            "traceorder": "normal"
           },
           "missingValuesAsZero": true,
           "numberFormat": "0,0.[00000]",
           "percentFormat": "0[.]00%",
           "reverseX": false,
           "series": {
            "error_y": {
             "type": "data",
             "visible": true
            },
            "percentValues": false,
            "stacking": null
           },
           "seriesOptions": {
            "column_46b27b3462": {
             "type": "column",
             "yAxis": 0
            }
           },
           "showDataLabels": false,
           "sizemode": "diameter",
           "sortX": true,
           "sortY": true,
           "swappedAxes": false,
           "textFormat": "",
           "useAggregationsUi": true,
           "valuesOptions": {},
           "version": 2,
           "xAxis": {
            "labels": {
             "enabled": true
            },
            "title": {
             "text": "Week"
            },
            "type": "category"
           },
           "yAxis": [
            {
             "title": {
              "text": "Activity Count"
             },
             "type": "-"
            },
            {
             "opposite": true,
             "type": "-"
            }
           ]
          }
         }
        ]
       },
       "datasetPreviewNameToCmdIdMap": {},
       "diffDeletes": [],
       "diffInserts": [],
       "displayType": "redashChart",
       "error": null,
       "errorDetails": null,
       "errorSummary": null,
       "errorTraceType": null,
       "finishTime": 0,
       "globalVars": {},
       "guid": "",
       "height": "auto",
       "hideCommandCode": false,
       "hideCommandResult": false,
       "iPythonMetadata": null,
       "inputWidgets": {},
       "isLockedInExamMode": false,
       "latestUser": "a user",
       "latestUserId": null,
       "listResultMetadata": null,
       "metadata": {},
       "nuid": "032a03dd-4d35-4e0b-9916-de55db97c455",
       "origId": 0,
       "parentHierarchy": [],
       "pivotAggregation": null,
       "pivotColumns": null,
       "position": 9.677734375,
       "resultDbfsErrorMessage": null,
       "resultDbfsStatus": "INLINED_IN_TREE",
       "results": null,
       "showCommandTitle": false,
       "startTime": 0,
       "state": "input",
       "streamStates": {},
       "subcommandOptions": {
        "queryPlan": {
         "groups": [
          {
           "column": "week",
           "type": "column"
          },
          {
           "column": "actor_login",
           "type": "column"
          }
         ],
         "selects": [
          {
           "column": "week",
           "type": "column"
          },
          {
           "alias": "column_46b27b3462",
           "args": [
            {
             "column": "activity_count",
             "type": "column"
            }
           ],
           "function": "SUM",
           "type": "function"
          },
          {
           "column": "actor_login",
           "type": "column"
          }
         ]
        }
       },
       "submitTime": 0,
       "subtype": "tableResultSubCmd.visualization",
       "tableResultIndex": 0,
       "useConsistentColors": false,
       "version": "CommandV1",
       "width": "auto",
       "workflows": [],
       "xColumns": null,
       "yColumns": null
      }
     },
     "output_type": "display_data"
    }
   ],
   "source": [
    "display(top_5_activity)"
   ]
  },
  {
   "cell_type": "markdown",
   "metadata": {
    "application/vnd.databricks.v1+cell": {
     "cellMetadata": {
      "byteLimit": 2048000,
      "rowLimit": 10000
     },
     "inputWidgets": {},
     "nuid": "eac5bb02-a977-4906-b1d6-61d21a6ec159",
     "showTitle": false,
     "title": ""
    }
   },
   "source": [
    "\n",
    "## Breakdown of activity by project"
   ]
  },
  {
   "cell_type": "code",
   "execution_count": 0,
   "metadata": {
    "application/vnd.databricks.v1+cell": {
     "cellMetadata": {
      "byteLimit": 2048000,
      "rowLimit": 10000
     },
     "inputWidgets": {},
     "nuid": "00432951-9813-47cf-afe1-b86a90b70dd9",
     "showTitle": false,
     "title": ""
    }
   },
   "outputs": [],
   "source": [
    "activity_by_repo_and_type = (main_df\n",
    "                             .groupBy(\"repo_id\", \"type\")\n",
    "                             .count()\n",
    "                             .withColumnRenamed(\"count\", \"activity_count\")\n",
    "                             .orderBy(\"repo_id\", \"activity_count\"))\n",
    "\n",
    "total_activity_per_repo = (activity_by_repo_and_type\n",
    "                           .groupBy(\"repo_id\")\n",
    "                           .sum(\"activity_count\")\n",
    "                           .withColumnRenamed(\"sum(activity_count)\", \"total_activity\"))\n",
    "\n",
    "activity_threshold = 1000\n",
    "filtered_by_threshold = total_activity_per_repo.filter(F.col(\"total_activity\") > activity_threshold)"
   ]
  },
  {
   "cell_type": "code",
   "execution_count": 0,
   "metadata": {
    "application/vnd.databricks.v1+cell": {
     "cellMetadata": {
      "byteLimit": 2048000,
      "rowLimit": 10000
     },
     "inputWidgets": {},
     "nuid": "5c0eb41e-2f3d-49e7-9a8b-176ca4522844",
     "showTitle": false,
     "title": ""
    }
   },
   "outputs": [],
   "source": [
    "\n",
    "sampled_repos = filtered_by_threshold.orderBy(rand()).limit(2)\n",
    "sampled_repo_ids = [row['repo_id'] for row in sampled_repos.collect()]\n",
    "\n",
    "filtered_activity_for_sampled_repos = activity_by_repo_and_type.filter(activity_by_repo_and_type.repo_id.isin(sampled_repo_ids))\n",
    "\n",
    "activity_breakdown = (filtered_activity_for_sampled_repos\n",
    "                      .groupBy(\"repo_id\", \"type\")\n",
    "                      .sum(\"activity_count\")\n",
    "                      .withColumnRenamed(\"sum(activity_count)\", \"activity_count\")\n",
    "                      .orderBy(\"repo_id\", \"type\"))"
   ]
  },
  {
   "cell_type": "code",
   "execution_count": 0,
   "metadata": {
    "application/vnd.databricks.v1+cell": {
     "cellMetadata": {
      "byteLimit": 2048000,
      "rowLimit": 10000
     },
     "inputWidgets": {},
     "nuid": "75caf87a-2b45-4014-9603-11533d2d5e96",
     "showTitle": false,
     "title": ""
    }
   },
   "outputs": [
    {
     "output_type": "display_data",
     "data": {
      "text/html": [
       "<style scoped>\n",
       "  .table-result-container {\n",
       "    max-height: 300px;\n",
       "    overflow: auto;\n",
       "  }\n",
       "  table, th, td {\n",
       "    border: 1px solid black;\n",
       "    border-collapse: collapse;\n",
       "  }\n",
       "  th, td {\n",
       "    padding: 5px;\n",
       "  }\n",
       "  th {\n",
       "    text-align: left;\n",
       "  }\n",
       "</style><div class='table-result-container'><table class='table-result'><thead style='background-color: white'><tr><th>repo_id</th><th>type</th><th>activity_count</th></tr></thead><tbody><tr><td>443589975</td><td>CreateEvent</td><td>2</td></tr><tr><td>443589975</td><td>PushEvent</td><td>1432</td></tr><tr><td>443946633</td><td>CreateEvent</td><td>2</td></tr><tr><td>443946633</td><td>ForkEvent</td><td>2</td></tr><tr><td>443946633</td><td>PullRequestEvent</td><td>2</td></tr><tr><td>443946633</td><td>PushEvent</td><td>29435</td></tr><tr><td>443946633</td><td>WatchEvent</td><td>7</td></tr></tbody></table></div>"
      ]
     },
     "metadata": {
      "application/vnd.databricks.v1+output": {
       "addedWidgets": {},
       "aggData": [],
       "aggError": "",
       "aggOverflow": false,
       "aggSchema": [],
       "aggSeriesLimitReached": false,
       "aggType": "",
       "arguments": {},
       "columnCustomDisplayInfos": {},
       "data": [
        [
         443589975,
         "CreateEvent",
         2
        ],
        [
         443589975,
         "PushEvent",
         1432
        ],
        [
         443946633,
         "CreateEvent",
         2
        ],
        [
         443946633,
         "ForkEvent",
         2
        ],
        [
         443946633,
         "PullRequestEvent",
         2
        ],
        [
         443946633,
         "PushEvent",
         29435
        ],
        [
         443946633,
         "WatchEvent",
         7
        ]
       ],
       "datasetInfos": [],
       "dbfsResultPath": null,
       "isJsonSchema": true,
       "metadata": {},
       "overflow": false,
       "plotOptions": {
        "customPlotOptions": {},
        "displayType": "table",
        "pivotAggregation": null,
        "pivotColumns": null,
        "xColumns": null,
        "yColumns": null
       },
       "removedWidgets": [],
       "schema": [
        {
         "metadata": "{}",
         "name": "repo_id",
         "type": "\"long\""
        },
        {
         "metadata": "{}",
         "name": "type",
         "type": "\"string\""
        },
        {
         "metadata": "{}",
         "name": "activity_count",
         "type": "\"long\""
        }
       ],
       "type": "table"
      }
     },
     "output_type": "display_data"
    },
    {
     "output_type": "display_data",
     "data": {
      "text/plain": [
       "Databricks visualization. Run in Databricks to view."
      ]
     },
     "metadata": {
      "application/vnd.databricks.v1.subcommand+json": {
       "bindings": {},
       "collapsed": false,
       "command": "%python\n__backend_agg_display_orig = display\n__backend_agg_dfs = []\ndef __backend_agg_display_new(df):\n    __backend_agg_df_modules = [\"pandas.core.frame\", \"databricks.koalas.frame\", \"pyspark.sql.dataframe\", \"pyspark.pandas.frame\", \"pyspark.sql.connect.dataframe\"]\n    if (type(df).__module__ in __backend_agg_df_modules and type(df).__name__ == 'DataFrame') or isinstance(df, list):\n        __backend_agg_dfs.append(df)\n\ndisplay = __backend_agg_display_new\n\ndef __backend_agg_user_code_fn():\n    import base64\n    exec(base64.standard_b64decode(\"ZGlzcGxheShmaWx0ZXJlZF9hY3Rpdml0eSk=\").decode())\n\ntry:\n    # run user code\n    __backend_agg_user_code_fn()\n\n    #reset display function\n    display = __backend_agg_display_orig\n\n    if len(__backend_agg_dfs) > 0:\n        # create a temp view\n        if type(__backend_agg_dfs[0]).__module__ == \"databricks.koalas.frame\":\n            # koalas dataframe\n            __backend_agg_dfs[0].to_spark().createOrReplaceTempView(\"DatabricksView0bf5c71\")\n        elif type(__backend_agg_dfs[0]).__module__ == \"pandas.core.frame\" or isinstance(__backend_agg_dfs[0], list):\n            # pandas dataframe\n            spark.createDataFrame(__backend_agg_dfs[0]).createOrReplaceTempView(\"DatabricksView0bf5c71\")\n        else:\n            __backend_agg_dfs[0].createOrReplaceTempView(\"DatabricksView0bf5c71\")\n        #run backend agg\n        display(spark.sql(\"\"\"WITH q AS (select * from DatabricksView0bf5c71) SELECT `repo_id`,SUM(`activity_count`) `column_46b27b3477`,`type` FROM q GROUP BY `repo_id`,`type`\"\"\"))\n    else:\n        displayHTML(\"dataframe no longer exists. If you're using dataframe.display(), use display(dataframe) instead.\")\n\n\nfinally:\n    spark.sql(\"drop view if exists DatabricksView0bf5c71\")\n    display = __backend_agg_display_orig\n    del __backend_agg_display_new\n    del __backend_agg_display_orig\n    del __backend_agg_dfs\n    del __backend_agg_user_code_fn\n\n",
       "commandTitle": "Comparing Activity Count Of 2 Repos",
       "commandType": "auto",
       "commandVersion": 0,
       "commentThread": [],
       "commentsVisible": false,
       "contentSha256Hex": null,
       "customPlotOptions": {
        "redashChart": [
         {
          "key": "type",
          "value": "CHART"
         },
         {
          "key": "options",
          "value": {
           "alignYAxesAtZero": true,
           "coefficient": 1,
           "columnConfigurationMap": {
            "series": {
             "column": "type",
             "id": "column_46b27b3478"
            },
            "x": {
             "column": "repo_id",
             "id": "column_46b27b3476"
            },
            "y": [
             {
              "column": "activity_count",
              "id": "column_46b27b3477",
              "transform": "SUM"
             }
            ]
           },
           "dateTimeFormat": "DD/MM/YYYY HH:mm",
           "direction": {
            "type": "counterclockwise"
           },
           "error_y": {
            "type": "data",
            "visible": true
           },
           "globalSeriesType": "column",
           "isAggregationOn": true,
           "legend": {
            "traceorder": "normal"
           },
           "missingValuesAsZero": true,
           "numberFormat": "0,0.[00000]",
           "percentFormat": "0[.]00%",
           "series": {
            "error_y": {
             "type": "data",
             "visible": true
            },
            "percentValues": false,
            "stacking": "stack"
           },
           "seriesOptions": {
            "column_46b27b3477": {
             "name": "activity_count",
             "type": "column",
             "yAxis": 0
            }
           },
           "showDataLabels": false,
           "sizemode": "diameter",
           "sortX": true,
           "sortY": true,
           "swappedAxes": false,
           "textFormat": "",
           "useAggregationsUi": true,
           "valuesOptions": {},
           "version": 2,
           "xAxis": {
            "labels": {
             "enabled": true
            },
            "title": {
             "text": "Repository"
            },
            "type": "category"
           },
           "yAxis": [
            {
             "title": {
              "text": "Activity Count"
             },
             "type": "-"
            },
            {
             "opposite": true,
             "type": "-"
            }
           ]
          }
         }
        ]
       },
       "datasetPreviewNameToCmdIdMap": {},
       "diffDeletes": [],
       "diffInserts": [],
       "displayType": "redashChart",
       "error": null,
       "errorDetails": null,
       "errorSummary": null,
       "errorTraceType": null,
       "finishTime": 0,
       "globalVars": {},
       "guid": "",
       "height": "auto",
       "hideCommandCode": false,
       "hideCommandResult": false,
       "iPythonMetadata": null,
       "inputWidgets": {},
       "isLockedInExamMode": false,
       "latestUser": "a user",
       "latestUserId": null,
       "listResultMetadata": null,
       "metadata": {},
       "nuid": "4c37f365-f404-4746-9c10-5752ccc3a910",
       "origId": 0,
       "parentHierarchy": [],
       "pivotAggregation": null,
       "pivotColumns": null,
       "position": 11.03125,
       "resultDbfsErrorMessage": null,
       "resultDbfsStatus": "INLINED_IN_TREE",
       "results": null,
       "showCommandTitle": false,
       "startTime": 0,
       "state": "input",
       "streamStates": {},
       "subcommandOptions": {
        "queryPlan": {
         "groups": [
          {
           "column": "repo_id",
           "type": "column"
          },
          {
           "column": "type",
           "type": "column"
          }
         ],
         "selects": [
          {
           "column": "repo_id",
           "type": "column"
          },
          {
           "alias": "column_46b27b3477",
           "args": [
            {
             "column": "activity_count",
             "type": "column"
            }
           ],
           "function": "SUM",
           "type": "function"
          },
          {
           "column": "type",
           "type": "column"
          }
         ]
        }
       },
       "submitTime": 0,
       "subtype": "tableResultSubCmd.visualization",
       "tableResultIndex": 0,
       "useConsistentColors": false,
       "version": "CommandV1",
       "width": "auto",
       "workflows": [],
       "xColumns": null,
       "yColumns": null
      }
     },
     "output_type": "display_data"
    }
   ],
   "source": [
    "display(activity_breakdown)"
   ]
  }
 ],
 "metadata": {
  "application/vnd.databricks.v1+notebook": {
   "dashboards": [],
   "language": "python",
   "notebookMetadata": {
    "pythonIndentUnit": 4
   },
   "notebookName": "Data_analysis",
   "widgets": {}
  }
 },
 "nbformat": 4,
 "nbformat_minor": 0
}
