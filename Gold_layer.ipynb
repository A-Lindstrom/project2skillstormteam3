{
 "cells": [
  {
   "cell_type": "markdown",
   "metadata": {
    "application/vnd.databricks.v1+cell": {
     "cellMetadata": {
      "byteLimit": 2048000,
      "rowLimit": 10000
     },
     "inputWidgets": {},
     "nuid": "28983dac-7259-4849-a09f-5e64038d0853",
     "showTitle": false,
     "title": ""
    }
   },
   "source": [
    "# Gold Layer"
   ]
  },
  {
   "cell_type": "code",
   "execution_count": 0,
   "metadata": {
    "application/vnd.databricks.v1+cell": {
     "cellMetadata": {
      "byteLimit": 2048000,
      "rowLimit": 10000
     },
     "inputWidgets": {},
     "nuid": "3b70b70d-ee8e-4f93-8a15-a5d502d6ebc4",
     "showTitle": false,
     "title": ""
    }
   },
   "outputs": [
    {
     "output_type": "display_data",
     "data": {
      "text/html": [
       "<div class = \"ansiout\">\n",
       "Provides utilities for leveraging secrets within notebooks.\n",
       "Databricks documentation for more info.\n",
       "    <h3></h3><b>get(scope: String, key: String): String</b> -> Gets the string representation of a secret value with scope and key<br /><b>getBytes(scope: String, key: String): byte[]</b> -> Gets the bytes representation of a secret value with scope and key<br /><b>list(scope: String): Seq</b> -> Lists secret metadata for secrets within a scope<br /><b>listScopes: Seq</b> -> Lists secret scopes<br /><br /></div>"
      ]
     },
     "metadata": {},
     "output_type": "display_data"
    }
   ],
   "source": [
    "%run \"/Shared/20231023 Demos/ADLS Setup Variables_SP\""
   ]
  },
  {
   "cell_type": "code",
   "execution_count": 0,
   "metadata": {
    "application/vnd.databricks.v1+cell": {
     "cellMetadata": {
      "byteLimit": 2048000,
      "rowLimit": 10000
     },
     "inputWidgets": {},
     "nuid": "46140706-724a-4d35-8f88-967e6a774aa5",
     "showTitle": false,
     "title": ""
    }
   },
   "outputs": [
    {
     "output_type": "execute_result",
     "data": {
      "text/plain": [
       "[SecretScope(name='20231023 ADLS Access'),\n",
       " SecretScope(name='better-scope'),\n",
       " SecretScope(name='databricks-app-kv'),\n",
       " SecretScope(name='databricks-application'),\n",
       " SecretScope(name=\"Jordan's Access\"),\n",
       " SecretScope(name='SecretScopeTeam2'),\n",
       " SecretScope(name='team1-keyvault'),\n",
       " SecretScope(name='tobedeleted')]"
      ]
     },
     "execution_count": 2,
     "metadata": {},
     "output_type": "execute_result"
    }
   ],
   "source": [
    "from pyspark.sql.types import StructType, StructField, LongType, IntegerType, StringType, BooleanType, DateType, TimestampType, ArrayType\n",
    "from pyspark.sql.functions import col, explode, expr\n",
    "from langdetect import detect\n",
    "from sparknlp.base import *\n",
    "from sparknlp.annotator import *"
   ]
  },
  {
   "cell_type": "markdown",
   "metadata": {
    "application/vnd.databricks.v1+cell": {
     "cellMetadata": {
      "byteLimit": 2048000,
      "rowLimit": 10000
     },
     "inputWidgets": {},
     "nuid": "bc37997f-f28e-4f52-b855-e33c4a7397f1",
     "showTitle": false,
     "title": ""
    }
   },
   "source": [
    "### Connect to Azure Data Lake Storage"
   ]
  },
  {
   "cell_type": "code",
   "execution_count": 0,
   "metadata": {
    "application/vnd.databricks.v1+cell": {
     "cellMetadata": {
      "byteLimit": 2048000,
      "rowLimit": 10000
     },
     "inputWidgets": {},
     "nuid": "22e0b806-11a3-4599-a5c3-b2fee62c723d",
     "showTitle": false,
     "title": ""
    }
   },
   "outputs": [],
   "source": [
    "storage_account = '20231023desa'\n",
    "container_name = \"team3-project2\"\n",
    "paths=[f'abfss://{container_name}@{storage_account}.dfs.core.windows.net/SilverLayer/actor', \n",
    "       f'abfss://{container_name}@{storage_account}.dfs.core.windows.net/SilverLayer/org', \n",
    "       f'abfss://{container_name}@{storage_account}.dfs.core.windows.net/SilverLayer/repo', \n",
    "       f'abfss://{container_name}@{storage_account}.dfs.core.windows.net/SilverLayer/commit_comment_event', \n",
    "       f'abfss://{container_name}@{storage_account}.dfs.core.windows.net/SilverLayer/sponsorship_event', \n",
    "       f'abfss://{container_name}@{storage_account}.dfs.core.windows.net/SilverLayer/create_event', \n",
    "       f'abfss://{container_name}@{storage_account}.dfs.core.windows.net/SilverLayer/delete_event', \n",
    "       f'abfss://{container_name}@{storage_account}.dfs.core.windows.net/SilverLayer/fork_event', \n",
    "       f'abfss://{container_name}@{storage_account}.dfs.core.windows.net/SilverLayer/push_event', \n",
    "       f'abfss://{container_name}@{storage_account}.dfs.core.windows.net/SilverLayer/pull_request_review_thread_event', \n",
    "       f'abfss://{container_name}@{storage_account}.dfs.core.windows.net/SilverLayer/pull_request_review_comment_event', \n",
    "       f'abfss://{container_name}@{storage_account}.dfs.core.windows.net/SilverLayer/pull_request_review_event', \n",
    "       f'abfss://{container_name}@{storage_account}.dfs.core.windows.net/SilverLayer/pull_request_event', \n",
    "       f'abfss://{container_name}@{storage_account}.dfs.core.windows.net/SilverLayer/gollum_event', \n",
    "       f'abfss://{container_name}@{storage_account}.dfs.core.windows.net/SilverLayer/issue_comment_event',\n",
    "       f'abfss://{container_name}@{storage_account}.dfs.core.windows.net/SilverLayer/issues_event',\n",
    "       f'abfss://{container_name}@{storage_account}.dfs.core.windows.net/SilverLayer/member_event',\n",
    "       f'abfss://{container_name}@{storage_account}.dfs.core.windows.net/SilverLayer/public_event',\n",
    "       f'abfss://{container_name}@{storage_account}.dfs.core.windows.net/SilverLayer/release_event',\n",
    "       f'abfss://{container_name}@{storage_account}.dfs.core.windows.net/SilverLayer/watch_event']"
   ]
  },
  {
   "cell_type": "markdown",
   "metadata": {
    "application/vnd.databricks.v1+cell": {
     "cellMetadata": {
      "byteLimit": 2048000,
      "rowLimit": 10000
     },
     "inputWidgets": {},
     "nuid": "cbbf154e-2e71-4483-9d85-dceaba252949",
     "showTitle": false,
     "title": ""
    }
   },
   "source": [
    "### Set Azure Service Principal"
   ]
  },
  {
   "cell_type": "code",
   "execution_count": 0,
   "metadata": {
    "application/vnd.databricks.v1+cell": {
     "cellMetadata": {
      "byteLimit": 2048000,
      "rowLimit": 10000
     },
     "inputWidgets": {},
     "nuid": "6176a6c2-856f-4f46-9f02-20c5daa89870",
     "showTitle": false,
     "title": ""
    }
   },
   "outputs": [],
   "source": [
    "spark.conf.set(f\"fs.azure.account.auth.type.{storage_account}.dfs.core.windows.net\", \"OAuth\")\n",
    "spark.conf.set(f\"fs.azure.account.oauth.provider.type.{storage_account}.dfs.core.windows.net\", \"org.apache.hadoop.fs.azurebfs.oauth2.ClientCredsTokenProvider\")\n",
    "spark.conf.set(f\"fs.azure.account.oauth2.client.id.{storage_account}.dfs.core.windows.net\", client_id)\n",
    "spark.conf.set(f\"fs.azure.account.oauth2.client.secret.{storage_account}.dfs.core.windows.net\", client_secret)\n",
    "spark.conf.set(f\"fs.azure.account.oauth2.client.endpoint.{storage_account}.dfs.core.windows.net\", f\"https://login.microsoftonline.com/{tenant_id}/oauth2/token\")"
   ]
  },
  {
   "cell_type": "markdown",
   "metadata": {
    "application/vnd.databricks.v1+cell": {
     "cellMetadata": {
      "byteLimit": 2048000,
      "rowLimit": 10000
     },
     "inputWidgets": {},
     "nuid": "d92b73d2-61ba-47d7-8cb3-98272ecbd8e5",
     "showTitle": false,
     "title": ""
    }
   },
   "source": [
    "### Applying Schemas\n"
   ]
  },
  {
   "cell_type": "code",
   "execution_count": 0,
   "metadata": {
    "application/vnd.databricks.v1+cell": {
     "cellMetadata": {
      "byteLimit": 2048000,
      "rowLimit": 10000
     },
     "inputWidgets": {},
     "nuid": "61b4762c-c47a-48d7-bfce-2230c6856ac8",
     "showTitle": false,
     "title": ""
    }
   },
   "outputs": [],
   "source": [
    "event_schema_basic = StructType([\n",
    "     StructField(\"event_id\", LongType(), False), \n",
    "     StructField(\"type\", StringType(), True),\n",
    "     StructField(\"actor_id\", LongType(), True),\n",
    "     StructField(\"org_id\", LongType(), True),\n",
    "     StructField(\"repo_id\", LongType(), True),\n",
    "     StructField(\"public\", BooleanType(), True),\n",
    "     StructField(\"created_at\", TimestampType(), True),\n",
    "])\n",
    "\n",
    "event_schema_with_action = StructType([\n",
    "    StructField(\"event_id\", LongType(), False), \n",
    "    StructField(\"type\", StringType(), True),\n",
    "    StructField(\"actor_id\", LongType(), True),\n",
    "    StructField(\"org_id\", LongType(), True),\n",
    "    StructField(\"repo_id\", LongType(), True),\n",
    "    StructField(\"public\", BooleanType(), True),\n",
    "    StructField(\"created_at\", TimestampType(), True),\n",
    "    StructField(\"action\", StringType(), True)  \n",
    "])\n",
    "\n",
    "event_schema_with_ref_type = StructType([\n",
    "    StructField(\"event_id\", LongType(), False), \n",
    "    StructField(\"type\", StringType(), True),\n",
    "    StructField(\"actor_id\", LongType(), True),\n",
    "    StructField(\"org_id\", LongType(), True),\n",
    "    StructField(\"repo_id\", LongType(), True),\n",
    "    StructField(\"public\", BooleanType(), True),\n",
    "    StructField(\"created_at\", TimestampType(), True),\n",
    "    StructField(\"ref_type\", StringType(), True)  \n",
    "])\n",
    "\n",
    "push_event_schema = StructType([\n",
    "    StructField(\"event_id\", LongType(), False), \n",
    "    StructField(\"type\", StringType(), True),\n",
    "    StructField(\"actor_id\", LongType(), True),\n",
    "    StructField(\"org_id\", LongType(), True),\n",
    "    StructField(\"repo_id\", LongType(), True),\n",
    "    StructField(\"public\", BooleanType(), True),\n",
    "    StructField(\"created_at\", TimestampType(), True),\n",
    "    StructField(\"num_commits\", IntegerType(), True),\n",
    "    StructField(\"payload_ref\", StringType(), True),\n",
    "    StructField(\"author_email\", StringType(), True),\n",
    "    StructField(\"author_name\", StringType(), True),\n",
    "    StructField(\"message\", ArrayType(StringType(), True), True)\n",
    "])\n",
    "repo_schema = StructType([\n",
    "    StructField(\"repo_id\", LongType(), False), \n",
    "    StructField(\"repo_name\", StringType(), False),\n",
    "    StructField(\"created_at\", TimestampType(), True)\n",
    "])\n",
    "org_schema = StructType([\n",
    "    StructField(\"org_id\", LongType(), False), \n",
    "    StructField(\"org_login\", StringType(), False),\n",
    "    StructField(\"created_at\", TimestampType(), True)\n",
    "])\n",
    "actor_schema = StructType([\n",
    "    StructField(\"actor_id\", LongType(), False), \n",
    "    StructField(\"actor_login\", StringType(), False),\n",
    "    StructField(\"created_at\", TimestampType(), True)\n",
    "])\n",
    "\n"
   ]
  },
  {
   "cell_type": "markdown",
   "metadata": {
    "application/vnd.databricks.v1+cell": {
     "cellMetadata": {
      "byteLimit": 2048000,
      "rowLimit": 10000
     },
     "inputWidgets": {},
     "nuid": "aac1bd4d-a589-42c1-8eb9-3cdbbda1bf08",
     "showTitle": false,
     "title": ""
    }
   },
   "source": [
    "### Read to DataFrames from silver layer"
   ]
  },
  {
   "cell_type": "code",
   "execution_count": 0,
   "metadata": {
    "application/vnd.databricks.v1+cell": {
     "cellMetadata": {
      "byteLimit": 2048000,
      "rowLimit": 10000
     },
     "inputWidgets": {},
     "nuid": "61888dfb-06b3-43b9-8aa5-34772bac2cd9",
     "showTitle": false,
     "title": ""
    }
   },
   "outputs": [],
   "source": [
    "actor_df = spark.read.format('parquet').schema(actor_schema).load(paths[0])\n",
    "org_df = spark.read.format('parquet').schema(org_schema).load(paths[1])\n",
    "repo_df = spark.read.format('parquet').schema(repo_schema).load(paths[2])\n",
    "commit_comment_event_df = spark.read.format('parquet').schema(event_schema_with_action).load(paths[3])\n",
    "#sponsorship_event_df = spark.read.format('parquet').schema(event_schema_with_action).load(paths[4])\n",
    "create_event_df = spark.read.format('parquet').schema(event_schema_with_ref_type).load(paths[5])\n",
    "delete_event_df = spark.read.format('parquet').schema(event_schema_with_ref_type).load(paths[6])\n",
    "fork_event_df = spark.read.format('parquet').schema(event_schema_basic).load(paths[7])\n",
    "push_event_df = spark.read.format('parquet').schema(push_event_schema).load(paths[8])\n",
    "#pull_review_request_thread_event_df = spark.read.format('parquet').load(paths[9])\n",
    "pull_review_request_comment_df = spark.read.format('parquet').schema(event_schema_with_action).load(paths[10])\n",
    "pull_review_request_df = spark.read.format('parquet').schema(event_schema_with_action).load(paths[11])\n",
    "pull_request_event_df = spark.read.format('parquet').schema(event_schema_with_action).load(paths[12])\n",
    "gollum_event_df = spark.read.format('parquet').schema(event_schema_basic).load(paths[13])\n",
    "issue_comment_event_df = spark.read.format('parquet').schema(event_schema_with_action).load(paths[14])\n",
    "issues_event_df = spark.read.format('parquet').schema(event_schema_with_action).load(paths[15])\n",
    "member_event_df = spark.read.format('parquet').schema(event_schema_with_action).load(paths[16])\n",
    "public_event_df = spark.read.format('parquet').schema(event_schema_basic).load(paths[17])\n",
    "release_event_df = spark.read.format('parquet').schema(event_schema_with_action).load(paths[18])\n",
    "watch_event_df = spark.read.format('parquet').schema(event_schema_with_action).load(paths[19])\n",
    "\n",
    "#commented out certain dfs since there were no rows for that event type, thus directory has no contents and cannot be loaded"
   ]
  },
  {
   "cell_type": "markdown",
   "metadata": {
    "application/vnd.databricks.v1+cell": {
     "cellMetadata": {
      "byteLimit": 2048000,
      "rowLimit": 10000
     },
     "inputWidgets": {},
     "nuid": "3a9198c5-54b1-4709-9a25-da552e716db3",
     "showTitle": false,
     "title": ""
    }
   },
   "source": [
    "### Exploding Message Array in push_event_df"
   ]
  },
  {
   "cell_type": "code",
   "execution_count": 0,
   "metadata": {
    "application/vnd.databricks.v1+cell": {
     "cellMetadata": {
      "byteLimit": 2048000,
      "rowLimit": 10000
     },
     "inputWidgets": {},
     "nuid": "70643642-e5d5-4681-9ba4-727408c997d5",
     "showTitle": false,
     "title": ""
    }
   },
   "outputs": [],
   "source": [
    "push_event_df_exploded = push_event_df.select(\n",
    "    \"event_id\", \"type\", \"actor_id\", \"org_id\", \"repo_id\", \"public\",\n",
    "    \"created_at\", \"num_commits\", \"payload_ref\", \"author_email\", \"author_name\",\n",
    "    explode(\"message\").alias(\"full_message\")\n",
    ")"
   ]
  },
  {
   "cell_type": "markdown",
   "metadata": {
    "application/vnd.databricks.v1+cell": {
     "cellMetadata": {
      "byteLimit": 2048000,
      "rowLimit": 10000
     },
     "inputWidgets": {},
     "nuid": "9bcfa442-8c3a-4bff-8e97-71f81bb8505c",
     "showTitle": false,
     "title": ""
    }
   },
   "source": [
    "### Creating main table"
   ]
  },
  {
   "cell_type": "code",
   "execution_count": 0,
   "metadata": {
    "application/vnd.databricks.v1+cell": {
     "cellMetadata": {
      "byteLimit": 2048000,
      "rowLimit": 10000
     },
     "inputWidgets": {},
     "nuid": "9c344dc3-0fdb-46ab-9896-ddba664dca80",
     "showTitle": false,
     "title": ""
    }
   },
   "outputs": [],
   "source": [
    "main_df = (commit_comment_event_df\n",
    "           .select(\"actor_id\", \"org_id\", \"repo_id\", \"event_id\", \"type\", \"created_at\")\n",
    "           .union(create_event_df\n",
    "                  .select(\"actor_id\", \"org_id\", \"repo_id\", \"event_id\", \"type\", \"created_at\"))\n",
    "           .union(delete_event_df\n",
    "                  .select(\"actor_id\", \"org_id\", \"repo_id\", \"event_id\", \"type\", \"created_at\"))\n",
    "           .union(fork_event_df\n",
    "                  .select(\"actor_id\", \"org_id\", \"repo_id\", \"event_id\", \"type\", \"created_at\"))\n",
    "           .union(push_event_df\n",
    "                  .select(\"actor_id\", \"org_id\", \"repo_id\", \"event_id\", \"type\", \"created_at\"))\n",
    "           .union(pull_review_request_comment_df\n",
    "                  .select(\"actor_id\", \"org_id\", \"repo_id\", \"event_id\", \"type\", \"created_at\"))\n",
    "           .union(pull_review_request_df\n",
    "                  .select(\"actor_id\", \"org_id\", \"repo_id\", \"event_id\", \"type\", \"created_at\"))\n",
    "           .union(pull_request_event_df\n",
    "                  .select(\"actor_id\", \"org_id\", \"repo_id\", \"event_id\", \"type\", \"created_at\"))\n",
    "           .union(gollum_event_df\n",
    "                  .select(\"actor_id\", \"org_id\", \"repo_id\", \"event_id\", \"type\", \"created_at\"))\n",
    "           .union(issue_comment_event_df\n",
    "                  .select(\"actor_id\", \"org_id\", \"repo_id\", \"event_id\", \"type\", \"created_at\"))\n",
    "           .union(issues_event_df\n",
    "                  .select(\"actor_id\", \"org_id\", \"repo_id\", \"event_id\", \"type\", \"created_at\"))\n",
    "           .union(member_event_df\n",
    "                  .select(\"actor_id\", \"org_id\", \"repo_id\", \"event_id\", \"type\", \"created_at\"))\n",
    "           .union(public_event_df\n",
    "                  .select(\"actor_id\", \"org_id\", \"repo_id\", \"event_id\", \"type\", \"created_at\"))\n",
    "           .union(release_event_df\n",
    "                  .select(\"actor_id\", \"org_id\", \"repo_id\", \"event_id\", \"type\", \"created_at\"))\n",
    "           .union(watch_event_df\n",
    "                  .select(\"actor_id\", \"org_id\", \"repo_id\", \"event_id\", \"type\", \"created_at\"))\n",
    "          )\n"
   ]
  },
  {
   "cell_type": "markdown",
   "metadata": {
    "application/vnd.databricks.v1+cell": {
     "cellMetadata": {
      "byteLimit": 2048000,
      "rowLimit": 10000
     },
     "inputWidgets": {},
     "nuid": "4cb3516b-d9fd-4735-9157-71b37f72c857",
     "showTitle": false,
     "title": ""
    }
   },
   "source": [
    "### Creating date table"
   ]
  },
  {
   "cell_type": "code",
   "execution_count": 0,
   "metadata": {
    "application/vnd.databricks.v1+cell": {
     "cellMetadata": {
      "byteLimit": 2048000,
      "rowLimit": 10000
     },
     "inputWidgets": {},
     "nuid": "aeb60fa0-f3d2-4f2b-b89d-9c6ca3bac6c5",
     "showTitle": false,
     "title": ""
    }
   },
   "outputs": [],
   "source": [
    "from pyspark.sql.functions import col, monotonically_increasing_id\n",
    "\n",
    "date_df = main_df.select(\"created_at\").distinct()\n",
    "date_df = date_df.orderBy(\"created_at\")\n",
    "date_df = date_df.withColumn(\"date_id\", monotonically_increasing_id())\n",
    "main_df = main_df.join(date_df, on=\"created_at\", how=\"left_outer\")"
   ]
  },
  {
   "cell_type": "markdown",
   "metadata": {
    "application/vnd.databricks.v1+cell": {
     "cellMetadata": {
      "byteLimit": 2048000,
      "rowLimit": 10000
     },
     "inputWidgets": {},
     "nuid": "741c9d45-f228-4703-af33-4d768d9a7d2c",
     "showTitle": false,
     "title": ""
    }
   },
   "source": [
    "### Creating commits table"
   ]
  },
  {
   "cell_type": "code",
   "execution_count": 0,
   "metadata": {
    "application/vnd.databricks.v1+cell": {
     "cellMetadata": {
      "byteLimit": 2048000,
      "rowLimit": 10000
     },
     "inputWidgets": {},
     "nuid": "77a97b07-ccd0-414a-8151-ed64e9b81e68",
     "showTitle": false,
     "title": ""
    }
   },
   "outputs": [],
   "source": [
    "commits_df = push_event_df_exploded.select(\"event_id\", \"full_message\")"
   ]
  },
  {
   "cell_type": "markdown",
   "metadata": {
    "application/vnd.databricks.v1+cell": {
     "cellMetadata": {
      "byteLimit": 2048000,
      "rowLimit": 10000
     },
     "inputWidgets": {},
     "nuid": "33a79198-c4c2-40dc-baaf-acf470f18922",
     "showTitle": false,
     "title": ""
    }
   },
   "source": [
    "### Creating push_event table"
   ]
  },
  {
   "cell_type": "code",
   "execution_count": 0,
   "metadata": {
    "application/vnd.databricks.v1+cell": {
     "cellMetadata": {
      "byteLimit": 2048000,
      "rowLimit": 10000
     },
     "inputWidgets": {},
     "nuid": "75071f7c-060f-42dc-85a0-a1555242f725",
     "showTitle": false,
     "title": ""
    }
   },
   "outputs": [],
   "source": [
    "push_event_df = push_event_df.select(\"event_id\", \"num_commits\", \"payload_ref\")"
   ]
  },
  {
   "cell_type": "markdown",
   "metadata": {
    "application/vnd.databricks.v1+cell": {
     "cellMetadata": {
      "byteLimit": 2048000,
      "rowLimit": 10000
     },
     "inputWidgets": {},
     "nuid": "f43766f1-95e2-455e-8cd5-efcd581bc13f",
     "showTitle": false,
     "title": ""
    }
   },
   "source": [
    "### Writing to Gold Layer"
   ]
  },
  {
   "cell_type": "code",
   "execution_count": 0,
   "metadata": {
    "application/vnd.databricks.v1+cell": {
     "cellMetadata": {
      "byteLimit": 2048000,
      "rowLimit": 10000
     },
     "inputWidgets": {},
     "nuid": "c4f58d9a-f5da-4971-834b-006ac9519f7a",
     "showTitle": false,
     "title": ""
    }
   },
   "outputs": [],
   "source": [
    "gold_client_id = dbutils.secrets.get('20231023 ADLS Access', 'client-id')\n",
    "gold_tenant_id = dbutils.secrets.get('20231023 ADLS Access', 'tenant-id')\n",
    "gold_sp_secret = dbutils.secrets.get('20231023 ADLS Access', 'sp-secret')"
   ]
  },
  {
   "cell_type": "code",
   "execution_count": 0,
   "metadata": {
    "application/vnd.databricks.v1+cell": {
     "cellMetadata": {
      "byteLimit": 2048000,
      "rowLimit": 10000
     },
     "inputWidgets": {},
     "nuid": "2d1a54f1-35c4-43bc-9b42-e5fc0115c1fe",
     "showTitle": false,
     "title": ""
    }
   },
   "outputs": [],
   "source": [
    "gold_conn_str = f'abfss://{container_name}@{storage_account}.dfs.core.windows.net/GoldLayer'"
   ]
  },
  {
   "cell_type": "code",
   "execution_count": 0,
   "metadata": {
    "application/vnd.databricks.v1+cell": {
     "cellMetadata": {
      "byteLimit": 2048000,
      "rowLimit": 10000
     },
     "inputWidgets": {},
     "nuid": "47488b32-d91c-4460-a368-8f9a4f3e8b3d",
     "showTitle": false,
     "title": ""
    }
   },
   "outputs": [],
   "source": [
    "spark.conf.set(f\"fs.azure.account.auth.type.{storage_account}.dfs.core.windows.net\", \"OAuth\")\n",
    "spark.conf.set(f\"fs.azure.account.oauth.provider.type.{storage_account}.dfs.core.windows.net\", \"org.apache.hadoop.fs.azurebfs.oauth2.ClientCredsTokenProvider\")\n",
    "spark.conf.set(f\"fs.azure.account.oauth2.client.id.{storage_account}.dfs.core.windows.net\", gold_client_id)\n",
    "spark.conf.set(f\"fs.azure.account.oauth2.client.secret.{storage_account}.dfs.core.windows.net\", gold_sp_secret)\n",
    "spark.conf.set(f\"fs.azure.account.oauth2.client.endpoint.{storage_account}.dfs.core.windows.net\", f\"https://login.microsoftonline.com/{gold_tenant_id}/oauth2/token\")"
   ]
  },
  {
   "cell_type": "code",
   "execution_count": 0,
   "metadata": {
    "application/vnd.databricks.v1+cell": {
     "cellMetadata": {
      "byteLimit": 2048000,
      "rowLimit": 10000
     },
     "inputWidgets": {},
     "nuid": "8c9592fe-1c53-46a8-871a-aeb67fbcba0e",
     "showTitle": false,
     "title": ""
    }
   },
   "outputs": [],
   "source": [
    "def save_to_gold (df, event_name):\n",
    "    df.write.format(\"parquet\")\\\n",
    "    .option(\"header\", True)\\\n",
    "    .mode(\"overwrite\")\\\n",
    "    .save(gold_conn_str + f\"/{event_name}\")\n"
   ]
  },
  {
   "cell_type": "code",
   "execution_count": 0,
   "metadata": {
    "application/vnd.databricks.v1+cell": {
     "cellMetadata": {
      "byteLimit": 2048000,
      "rowLimit": 10000
     },
     "inputWidgets": {},
     "nuid": "659410e9-69d6-424a-bfa5-f6f8b9314917",
     "showTitle": false,
     "title": ""
    }
   },
   "outputs": [],
   "source": [
    "save_to_gold(main_df, \"main\")\n",
    "save_to_gold(date_df, \"date\")\n",
    "save_to_gold(commits_df, \"commits\")\n",
    "save_to_gold(push_event_df, \"push_event\")\n",
    "save_to_gold(actor_df, \"actor\")\n",
    "save_to_gold(repo_df, \"repo\")"
   ]
  }
 ],
 "metadata": {
  "application/vnd.databricks.v1+notebook": {
   "dashboards": [],
   "language": "python",
   "notebookMetadata": {
    "mostRecentlyExecutedCommandWithImplicitDF": {
     "commandId": 3887852657584373,
     "dataframes": [
      "_sqldf"
     ]
    },
    "pythonIndentUnit": 4
   },
   "notebookName": "Gold_layer",
   "widgets": {}
  }
 },
 "nbformat": 4,
 "nbformat_minor": 0
}
