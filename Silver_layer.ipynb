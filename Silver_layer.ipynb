{
 "cells": [
  {
   "cell_type": "markdown",
   "metadata": {
    "application/vnd.databricks.v1+cell": {
     "cellMetadata": {
      "byteLimit": 2048000,
      "rowLimit": 10000
     },
     "inputWidgets": {},
     "nuid": "3037a3b1-2b7a-4f3d-9f35-ece46045e74a",
     "showTitle": false,
     "title": ""
    }
   },
   "source": [
    "# Silver Layer\n",
    "---"
   ]
  },
  {
   "cell_type": "code",
   "execution_count": 0,
   "metadata": {
    "application/vnd.databricks.v1+cell": {
     "cellMetadata": {
      "byteLimit": 2048000,
      "rowLimit": 10000
     },
     "inputWidgets": {},
     "nuid": "f02bfa22-c359-4af4-877c-71de585cbf2a",
     "showTitle": false,
     "title": ""
    }
   },
   "outputs": [],
   "source": [
    "%run \"/Shared/20231023 Demos/ADLS Setup Variables_SP\""
   ]
  },
  {
   "cell_type": "code",
   "execution_count": 0,
   "metadata": {
    "application/vnd.databricks.v1+cell": {
     "cellMetadata": {
      "byteLimit": 2048000,
      "rowLimit": 10000
     },
     "inputWidgets": {},
     "nuid": "7b3d740d-fb8b-4e4d-b359-3cd40ea77a80",
     "showTitle": false,
     "title": ""
    }
   },
   "outputs": [],
   "source": [
    "from pyspark.sql.functions import col, explode\n",
    "from pyspark.sql.types import StructType, StructField, LongType, IntegerType, StringType, BooleanType, DateType, TimestampType"
   ]
  },
  {
   "cell_type": "markdown",
   "metadata": {
    "application/vnd.databricks.v1+cell": {
     "cellMetadata": {
      "byteLimit": 2048000,
      "rowLimit": 10000
     },
     "inputWidgets": {},
     "nuid": "5f894209-72e4-48c0-b80c-cc9e882e2462",
     "showTitle": false,
     "title": ""
    }
   },
   "source": [
    "### Connect to Azure Data Lake Storage"
   ]
  },
  {
   "cell_type": "code",
   "execution_count": 0,
   "metadata": {
    "application/vnd.databricks.v1+cell": {
     "cellMetadata": {
      "byteLimit": 2048000,
      "rowLimit": 10000
     },
     "inputWidgets": {},
     "nuid": "2863faac-5e6a-4771-a49a-bbbbd9805c72",
     "showTitle": false,
     "title": ""
    }
   },
   "outputs": [],
   "source": [
    "storage_account = '20231023desa'\n",
    "container_name1 = \"team2-project2\"\n",
    "container_name2 = \"team3-project2\"\n",
    "paths=[f'abfss://{container_name1}@{storage_account}.dfs.core.windows.net/BronzeLayer/',f'abfss://{container_name2}@{storage_account}.dfs.core.windows.net/BronzeLayer/']"
   ]
  },
  {
   "cell_type": "markdown",
   "metadata": {
    "application/vnd.databricks.v1+cell": {
     "cellMetadata": {
      "byteLimit": 2048000,
      "rowLimit": 10000
     },
     "inputWidgets": {},
     "nuid": "a55ca081-3b59-4f7c-a5f9-cc5056579e82",
     "showTitle": false,
     "title": ""
    }
   },
   "source": [
    "### Azure service principal"
   ]
  },
  {
   "cell_type": "code",
   "execution_count": 0,
   "metadata": {
    "application/vnd.databricks.v1+cell": {
     "cellMetadata": {
      "byteLimit": 2048000,
      "rowLimit": 10000
     },
     "inputWidgets": {},
     "nuid": "31e8bafe-7412-4f9e-8f33-58b9611d34d3",
     "showTitle": false,
     "title": ""
    }
   },
   "outputs": [],
   "source": [
    "spark.conf.set(f\"fs.azure.account.auth.type.{storage_account}.dfs.core.windows.net\", \"OAuth\")\n",
    "spark.conf.set(f\"fs.azure.account.oauth.provider.type.{storage_account}.dfs.core.windows.net\", \"org.apache.hadoop.fs.azurebfs.oauth2.ClientCredsTokenProvider\")\n",
    "spark.conf.set(f\"fs.azure.account.oauth2.client.id.{storage_account}.dfs.core.windows.net\", client_id)\n",
    "spark.conf.set(f\"fs.azure.account.oauth2.client.secret.{storage_account}.dfs.core.windows.net\", client_secret)\n",
    "spark.conf.set(f\"fs.azure.account.oauth2.client.endpoint.{storage_account}.dfs.core.windows.net\", f\"https://login.microsoftonline.com/{tenant_id}/oauth2/token\")"
   ]
  },
  {
   "cell_type": "markdown",
   "metadata": {
    "application/vnd.databricks.v1+cell": {
     "cellMetadata": {
      "byteLimit": 2048000,
      "rowLimit": 10000
     },
     "inputWidgets": {},
     "nuid": "6da8965a-c878-4ecd-befa-5b1ba7b4eaa0",
     "showTitle": false,
     "title": ""
    }
   },
   "source": [
    "### Reading in Parquet files"
   ]
  },
  {
   "cell_type": "code",
   "execution_count": 0,
   "metadata": {
    "application/vnd.databricks.v1+cell": {
     "cellMetadata": {
      "byteLimit": 2048000,
      "rowLimit": 10000
     },
     "inputWidgets": {},
     "nuid": "45319c53-ad4a-463e-8a05-a400bb99f235",
     "showTitle": false,
     "title": ""
    }
   },
   "outputs": [],
   "source": [
    "df1 = spark.read.format('parquet').load(paths[0])\n",
    "df2 = spark.read.format('parquet').load(paths[1])\n",
    "df1 = df1.drop(\"created_at\")\n",
    "df1 = df1.withColumnRenamed(\"date\", \"created_at\")"
   ]
  },
  {
   "cell_type": "code",
   "execution_count": 0,
   "metadata": {
    "application/vnd.databricks.v1+cell": {
     "cellMetadata": {
      "byteLimit": 2048000,
      "rowLimit": 10000
     },
     "inputWidgets": {},
     "nuid": "2e982939-dd35-424f-b022-ff375e3a66bc",
     "showTitle": false,
     "title": ""
    }
   },
   "outputs": [],
   "source": [
    "main_df = df1.union(df2)"
   ]
  },
  {
   "cell_type": "markdown",
   "metadata": {
    "application/vnd.databricks.v1+cell": {
     "cellMetadata": {
      "byteLimit": 2048000,
      "rowLimit": 10000
     },
     "inputWidgets": {},
     "nuid": "cdc4c075-6290-46ab-b5d8-fbfc6875454b",
     "showTitle": false,
     "title": ""
    }
   },
   "source": [
    "### Dropping true duplicates"
   ]
  },
  {
   "cell_type": "code",
   "execution_count": 0,
   "metadata": {
    "application/vnd.databricks.v1+cell": {
     "cellMetadata": {
      "byteLimit": 2048000,
      "rowLimit": 10000
     },
     "inputWidgets": {},
     "nuid": "0b9a511e-82e2-483b-b3da-3ab9485052e3",
     "showTitle": false,
     "title": ""
    }
   },
   "outputs": [],
   "source": [
    "main_df = main_df.dropDuplicates()"
   ]
  },
  {
   "cell_type": "markdown",
   "metadata": {
    "application/vnd.databricks.v1+cell": {
     "cellMetadata": {
      "byteLimit": 2048000,
      "rowLimit": 10000
     },
     "inputWidgets": {},
     "nuid": "537daeaf-6591-4c92-8eda-e1f441c13763",
     "showTitle": false,
     "title": ""
    }
   },
   "source": [
    "### Dropping unecessary data from main dataframe"
   ]
  },
  {
   "cell_type": "code",
   "execution_count": 0,
   "metadata": {
    "application/vnd.databricks.v1+cell": {
     "cellMetadata": {
      "byteLimit": 2048000,
      "rowLimit": 10000
     },
     "inputWidgets": {},
     "nuid": "00c71c97-6ca9-49de-af2d-d170af063353",
     "showTitle": false,
     "title": ""
    }
   },
   "outputs": [],
   "source": [
    "main_df = main_df.select(col(\"id\").cast(LongType()).alias(\"event_id\"),\n",
    "                         col(\"actor.id\").alias(\"actor_id\"),\n",
    "                         col(\"actor.login\").alias(\"actor_login\"),\n",
    "                         col(\"org.id\").alias(\"org_id\"),\n",
    "                         col(\"org.login\").alias(\"org_login\"),\n",
    "                         col(\"repo.id\").alias(\"repo_id\"),\n",
    "                         col(\"repo.name\").alias(\"repo_name\"),\n",
    "                         \"public\",\"type\",\"created_at\",\"payload\")"
   ]
  },
  {
   "cell_type": "markdown",
   "metadata": {
    "application/vnd.databricks.v1+cell": {
     "cellMetadata": {
      "byteLimit": 2048000,
      "rowLimit": 10000
     },
     "inputWidgets": {},
     "nuid": "90dd1ae0-c485-4dc2-a9ee-130d1049a74f",
     "showTitle": false,
     "title": ""
    }
   },
   "source": [
    "### Creating actor, org, repo Dataframes"
   ]
  },
  {
   "cell_type": "code",
   "execution_count": 0,
   "metadata": {
    "application/vnd.databricks.v1+cell": {
     "cellMetadata": {
      "byteLimit": 2048000,
      "rowLimit": 10000
     },
     "inputWidgets": {},
     "nuid": "b5c0df39-ab34-4cd7-b9b7-99e51481a5ca",
     "showTitle": false,
     "title": ""
    }
   },
   "outputs": [],
   "source": [
    "actor_df = main_df.select(\"actor_id\", \"actor_login\", \"created_at\").filter(\n",
    "    col(\"actor_login\").isNotNull() & col(\"actor_id\").isNotNull()\n",
    ")"
   ]
  },
  {
   "cell_type": "code",
   "execution_count": 0,
   "metadata": {
    "application/vnd.databricks.v1+cell": {
     "cellMetadata": {
      "byteLimit": 2048000,
      "rowLimit": 10000
     },
     "inputWidgets": {},
     "nuid": "80970330-31e3-4f81-a5fd-19ac60804604",
     "showTitle": false,
     "title": ""
    }
   },
   "outputs": [],
   "source": [
    "org_df = main_df.select(\"org_id\", \"org_login\", \"created_at\").filter(\n",
    "    col(\"org_login\").isNotNull() & col(\"org_id\").isNotNull()\n",
    ")"
   ]
  },
  {
   "cell_type": "code",
   "execution_count": 0,
   "metadata": {
    "application/vnd.databricks.v1+cell": {
     "cellMetadata": {
      "byteLimit": 2048000,
      "rowLimit": 10000
     },
     "inputWidgets": {},
     "nuid": "340b5bd8-4c55-4e90-85c6-b86fbc85b9b6",
     "showTitle": false,
     "title": ""
    }
   },
   "outputs": [],
   "source": [
    "repo_df = main_df.select(\"repo_id\", \"repo_name\", \"created_at\").filter(\n",
    "    col(\"repo_id\").isNotNull() & col(\"repo_name\").isNotNull()\n",
    ")"
   ]
  },
  {
   "cell_type": "markdown",
   "metadata": {
    "application/vnd.databricks.v1+cell": {
     "cellMetadata": {
      "byteLimit": 2048000,
      "rowLimit": 10000
     },
     "inputWidgets": {},
     "nuid": "58ffff5e-3bdd-473d-8e68-f8f4944d3995",
     "showTitle": false,
     "title": ""
    }
   },
   "source": [
    "### Drop data already in tables"
   ]
  },
  {
   "cell_type": "code",
   "execution_count": 0,
   "metadata": {
    "application/vnd.databricks.v1+cell": {
     "cellMetadata": {
      "byteLimit": 2048000,
      "rowLimit": 10000
     },
     "inputWidgets": {},
     "nuid": "0064fab0-9e20-4ef6-b193-13148832ba12",
     "showTitle": false,
     "title": ""
    }
   },
   "outputs": [],
   "source": [
    "main_df = main_df.drop(\"actor\", \"org\", \"repo\")"
   ]
  },
  {
   "cell_type": "markdown",
   "metadata": {
    "application/vnd.databricks.v1+cell": {
     "cellMetadata": {
      "byteLimit": 2048000,
      "rowLimit": 10000
     },
     "inputWidgets": {},
     "nuid": "f0fcdcb2-d48d-4cb2-a6e7-2229d1f28c81",
     "showTitle": false,
     "title": ""
    }
   },
   "source": [
    "### Creating Event tables"
   ]
  },
  {
   "cell_type": "code",
   "execution_count": 0,
   "metadata": {
    "application/vnd.databricks.v1+cell": {
     "cellMetadata": {
      "byteLimit": 2048000,
      "rowLimit": 10000
     },
     "inputWidgets": {},
     "nuid": "60726765-e246-47bb-9d67-687a5c0329ae",
     "showTitle": false,
     "title": ""
    }
   },
   "outputs": [],
   "source": [
    "commit_comment_event_df = main_df.where(col(\"type\") == \"CommitCommentEvent\")\n",
    "sponsorship_event_df = main_df.where(col(\"type\") == \"SponsorshipEvent\")\n",
    "create_event_df = main_df.where(col(\"type\") == \"CreateEvent\")\n",
    "delete_event_df = main_df.where(col(\"type\") == \"DeleteEvent\")\n",
    "fork_event_df = main_df.where(col(\"type\") == \"ForkEvent\")\n",
    "push_event_df = main_df.where(col(\"type\") == \"PushEvent\")\n",
    "pull_request_review_thread_event_df = main_df.where(col(\"type\") == \"PullRequestReviewThreadEvent\")\n",
    "pull_request_review_comment_event_df = main_df.where(col(\"type\") == \"PullRequestReviewCommentEvent\")\n",
    "pull_request_review_event_df = main_df.where(col(\"type\") == \"PullRequestReviewEvent\")\n",
    "pull_request_event_df = main_df.where(col(\"type\") == \"PullRequestEvent\")\n",
    "gollum_event_df = main_df.where(col(\"type\") == \"GollumEvent\")\n",
    "issue_comment_event_df = main_df.where(col(\"type\") == \"IssueCommentEvent\")\n",
    "issues_event_df = main_df.where(col(\"type\") == \"IssuesEvent\")\n",
    "member_event_df = main_df.where(col(\"type\") == \"MemberEvent\")\n",
    "public_event_df = main_df.where(col(\"type\") == \"PublicEvent\")\n",
    "release_event_df = main_df.where(col(\"type\") == \"ReleaseEvent\")\n",
    "watch_event_df = main_df.where(col(\"type\") == \"WatchEvent\")"
   ]
  },
  {
   "cell_type": "markdown",
   "metadata": {
    "application/vnd.databricks.v1+cell": {
     "cellMetadata": {
      "byteLimit": 2048000,
      "rowLimit": 10000
     },
     "inputWidgets": {},
     "nuid": "4b3a9d2a-40a5-4ed6-9a7a-1d4ab39af0ef",
     "showTitle": false,
     "title": ""
    }
   },
   "source": [
    "### Storing necessary data from payload per event table"
   ]
  },
  {
   "cell_type": "code",
   "execution_count": 0,
   "metadata": {
    "application/vnd.databricks.v1+cell": {
     "cellMetadata": {
      "byteLimit": 2048000,
      "rowLimit": 10000
     },
     "inputWidgets": {},
     "nuid": "f9544631-e1fe-4772-ab41-4522d6523b69",
     "showTitle": false,
     "title": ""
    }
   },
   "outputs": [],
   "source": [
    "commit_comment_event_df = commit_comment_event_df.select(\"event_id\",\"type\", \"actor_id\", \"org_id\",\"repo_id\",\"public\", \"created_at\", col(\"payload.action\").alias(\"action\"))\n",
    "\n",
    "sponsorship_event_df = sponsorship_event_df.select(\"event_id\",\"type\", \"actor_id\", \"org_id\",\"repo_id\",\"public\", \"created_at\", col(\"payload.action\").alias(\"action\"))\n",
    "\n",
    "create_event_df = create_event_df.select(\"event_id\",\"type\", \"actor_id\", \"org_id\",\"repo_id\",\"public\", \"created_at\", col(\"payload.ref_type\").alias(\"ref_type\"))\n",
    "\n",
    "delete_event_df = delete_event_df.select(\"event_id\",\"type\", \"actor_id\", \"org_id\",\"repo_id\",\"public\", \"created_at\", col(\"payload.ref_type\").alias(\"ref_type\"))\n",
    "\n",
    "fork_event_df = fork_event_df.select(\"event_id\",\"type\", \"actor_id\", \"org_id\",\"repo_id\",\"public\", \"created_at\")\n",
    "\n",
    "push_event_df = push_event_df.select(\"event_id\",\"type\", \"actor_id\", \"org_id\",\"repo_id\",\"public\", \"created_at\", col(\"payload.size\").cast(IntegerType()).alias(\"num_commits\"), col(\"payload.ref\").alias(\"payload_ref\"), col(\"payload.commits.author.email\").alias(\"author_email\"), col(\"payload.commits.author.name\").alias(\"author_name\"), col(\"payload.commits.message\").alias(\"message\"))\n",
    "\n",
    "pull_request_review_thread_event_df = pull_request_review_thread_event_df.select(\"event_id\",\"type\", \"actor_id\", \"org_id\",\"repo_id\",\"public\", \"created_at\", col(\"payload.action\").alias(\"action\"))\n",
    "\n",
    "pull_request_review_comment_event_df = pull_request_review_comment_event_df.select(\"event_id\",\"type\", \"actor_id\", \"org_id\",\"repo_id\",\"public\", \"created_at\", col(\"payload.action\").alias(\"action\"))\n",
    "\n",
    "pull_request_review_event_df = pull_request_review_event_df.select(\"event_id\",\"type\", \"actor_id\", \"org_id\",\"repo_id\",\"public\", \"created_at\", col(\"payload.action\").alias(\"action\"))\n",
    "\n",
    "pull_request_event_df = pull_request_event_df.select(\"event_id\",\"type\", \"actor_id\", \"org_id\",\"repo_id\",\"public\", \"created_at\", col(\"payload.action\").alias(\"action\"))\n",
    "\n",
    "gollum_event_df = gollum_event_df.select(\"event_id\",\"type\", \"actor_id\", \"org_id\",\"repo_id\",\"public\", \"created_at\")\n",
    "\n",
    "issue_comment_event_df = issue_comment_event_df.select(\"event_id\",\"type\", \"actor_id\", \"org_id\",\"repo_id\",\"public\", \"created_at\", col(\"payload.action\").alias(\"action\"))\n",
    "\n",
    "issues_event_df = issues_event_df.select(\"event_id\",\"type\", \"actor_id\", \"org_id\",\"repo_id\",\"public\", \"created_at\", col(\"payload.action\").alias(\"action\"))\n",
    "\n",
    "member_event_df = member_event_df.select(\"event_id\",\"type\", \"actor_id\", \"org_id\",\"repo_id\",\"public\", \"created_at\", col(\"payload.action\").alias(\"action\"))\n",
    "\n",
    "public_event_df = public_event_df.select(\"event_id\",\"type\", \"actor_id\", \"org_id\",\"repo_id\",\"public\", \"created_at\")\n",
    "\n",
    "release_event_df = release_event_df.select(\"event_id\",\"type\", \"actor_id\", \"org_id\",\"repo_id\",\"public\", \"created_at\", col(\"payload.action\").alias(\"action\"))\n",
    "\n",
    "watch_event_df = watch_event_df.select(\"event_id\",\"type\", \"actor_id\", \"org_id\",\"repo_id\",\"public\", \"created_at\", col(\"payload.action\").alias(\"action\"))"
   ]
  },
  {
   "cell_type": "markdown",
   "metadata": {
    "application/vnd.databricks.v1+cell": {
     "cellMetadata": {
      "byteLimit": 2048000,
      "rowLimit": 10000
     },
     "inputWidgets": {},
     "nuid": "1f6b821b-4a5b-4bad-9cc0-11665cad3455",
     "showTitle": false,
     "title": ""
    }
   },
   "source": [
    "### Find the correct partition size for each DataFrame"
   ]
  },
  {
   "cell_type": "code",
   "execution_count": 0,
   "metadata": {
    "application/vnd.databricks.v1+cell": {
     "cellMetadata": {
      "byteLimit": 2048000,
      "rowLimit": 10000
     },
     "inputWidgets": {},
     "nuid": "2976a491-66c2-4510-a00f-48575422a99b",
     "showTitle": false,
     "title": ""
    }
   },
   "outputs": [],
   "source": [
    "num_cores = 8\n",
    "\n",
    "def find_partition_num(df):\n",
    "    size_bytes = sc._jvm.org.apache.spark.util.SizeEstimator.estimate(df._jdf)\n",
    "    size_megabytes = (size_bytes / (1024**2))\n",
    "    partitions_for_month = max(1, int(size_megabytes / 128))\n",
    "    partitions_for_day = max(1, int(partitions_for_month /31))\n",
    "    partition_num = partitions_for_day\n",
    "    remainder = partition_num % num_cores\n",
    "    if remainder != 0:\n",
    "        partition_num += num_cores - remainder\n",
    "    return partition_num\n"
   ]
  },
  {
   "cell_type": "markdown",
   "metadata": {
    "application/vnd.databricks.v1+cell": {
     "cellMetadata": {
      "byteLimit": 2048000,
      "rowLimit": 10000
     },
     "inputWidgets": {},
     "nuid": "f7ceb7bb-ee0f-4228-ac2e-eca5971a6e41",
     "showTitle": false,
     "title": ""
    }
   },
   "source": [
    "### Writing to Silver Layer"
   ]
  },
  {
   "cell_type": "code",
   "execution_count": 0,
   "metadata": {
    "application/vnd.databricks.v1+cell": {
     "cellMetadata": {
      "byteLimit": 2048000,
      "rowLimit": 10000
     },
     "inputWidgets": {},
     "nuid": "4f57fc6b-1b31-435e-9fd6-a67bff2a2641",
     "showTitle": false,
     "title": ""
    }
   },
   "outputs": [],
   "source": [
    "dataframe_list = [\n",
    "    (commit_comment_event_df, \"commit_comment_event\"),\n",
    "    (sponsorship_event_df, \"sponsorship_event\"),\n",
    "    (create_event_df, \"create_event\"),\n",
    "    (delete_event_df, \"delete_event\"),\n",
    "    (fork_event_df, \"fork_event\"),\n",
    "    (push_event_df, \"push_event\"),\n",
    "    (pull_request_review_thread_event_df, \"pull_request_review_thread_event\"),\n",
    "    (pull_request_review_comment_event_df, \"pull_request_review_comment_event\"),\n",
    "    (pull_request_review_event_df, \"pull_request_review_event\"),\n",
    "    (pull_request_event_df, \"pull_request_event\"),\n",
    "    (gollum_event_df, \"gollum_event\"),\n",
    "    (issue_comment_event_df, \"issue_comment_event\"),\n",
    "    (issues_event_df, \"issues_event\"),\n",
    "    (member_event_df, \"member_event\"),\n",
    "    (public_event_df, \"public_event\"),\n",
    "    (release_event_df, \"release_event\"),\n",
    "    (watch_event_df, \"watch_event\"),\n",
    "    (actor_df, \"actor\"),\n",
    "    (org_df, \"org\"),\n",
    "    (repo_df, \"repo\")\n",
    "]"
   ]
  },
  {
   "cell_type": "code",
   "execution_count": 0,
   "metadata": {
    "application/vnd.databricks.v1+cell": {
     "cellMetadata": {
      "byteLimit": 2048000,
      "rowLimit": 10000
     },
     "inputWidgets": {},
     "nuid": "93270674-33e2-48d1-987a-228bce20fb28",
     "showTitle": false,
     "title": ""
    }
   },
   "outputs": [
    {
     "output_type": "display_data",
     "data": {
      "text/html": [
       "<style scoped>\n",
       "  .ansiout {\n",
       "    display: block;\n",
       "    unicode-bidi: embed;\n",
       "    white-space: pre-wrap;\n",
       "    word-wrap: break-word;\n",
       "    word-break: break-all;\n",
       "    font-family: \"Menlo\", \"Monaco\", \"Consolas\", \"Ubuntu Mono\", \"Source Code Pro\", monospace;\n",
       "    font-size: 13px;\n",
       "    color: #555;\n",
       "    margin-left: 4px;\n",
       "    line-height: 19px;\n",
       "  }\n",
       "</style>"
      ]
     },
     "metadata": {
      "application/vnd.databricks.v1+output": {
       "arguments": {},
       "data": "",
       "errorSummary": "Command skipped",
       "errorTraceType": "html",
       "metadata": {},
       "type": "ipynbError"
      }
     },
     "output_type": "display_data"
    }
   ],
   "source": [
    "silver_conn_str = f\"abfss://{container_name2}@{storage_account}.dfs.core.windows.net/SilverLayer\""
   ]
  },
  {
   "cell_type": "code",
   "execution_count": 0,
   "metadata": {
    "application/vnd.databricks.v1+cell": {
     "cellMetadata": {
      "byteLimit": 2048000,
      "rowLimit": 10000
     },
     "inputWidgets": {},
     "nuid": "99cb2a52-7f33-44f4-bdcf-4d0937082474",
     "showTitle": false,
     "title": ""
    }
   },
   "outputs": [
    {
     "output_type": "display_data",
     "data": {
      "text/html": [
       "<style scoped>\n",
       "  .ansiout {\n",
       "    display: block;\n",
       "    unicode-bidi: embed;\n",
       "    white-space: pre-wrap;\n",
       "    word-wrap: break-word;\n",
       "    word-break: break-all;\n",
       "    font-family: \"Menlo\", \"Monaco\", \"Consolas\", \"Ubuntu Mono\", \"Source Code Pro\", monospace;\n",
       "    font-size: 13px;\n",
       "    color: #555;\n",
       "    margin-left: 4px;\n",
       "    line-height: 19px;\n",
       "  }\n",
       "</style>"
      ]
     },
     "metadata": {
      "application/vnd.databricks.v1+output": {
       "arguments": {},
       "data": "",
       "errorSummary": "Command skipped",
       "errorTraceType": "html",
       "metadata": {},
       "type": "ipynbError"
      }
     },
     "output_type": "display_data"
    }
   ],
   "source": [
    "def save_to_silver (df, event_name, repartitions):\n",
    "    df.repartition(repartitions)\\\n",
    "    .write.format(\"parquet\")\\\n",
    "    .option(\"header\", True)\\\n",
    "    .partitionBy(\"created_at\")\\\n",
    "    .mode(\"overwrite\")\\\n",
    "    .save(silver_conn_str + f\"/{event_name}\")"
   ]
  },
  {
   "cell_type": "code",
   "execution_count": 0,
   "metadata": {
    "application/vnd.databricks.v1+cell": {
     "cellMetadata": {
      "byteLimit": 2048000,
      "rowLimit": 10000
     },
     "inputWidgets": {},
     "nuid": "9f526f8d-774c-48b9-99f8-dcbf8078d27c",
     "showTitle": false,
     "title": ""
    }
   },
   "outputs": [
    {
     "output_type": "display_data",
     "data": {
      "text/html": [
       "<style scoped>\n",
       "  .ansiout {\n",
       "    display: block;\n",
       "    unicode-bidi: embed;\n",
       "    white-space: pre-wrap;\n",
       "    word-wrap: break-word;\n",
       "    word-break: break-all;\n",
       "    font-family: \"Menlo\", \"Monaco\", \"Consolas\", \"Ubuntu Mono\", \"Source Code Pro\", monospace;\n",
       "    font-size: 13px;\n",
       "    color: #555;\n",
       "    margin-left: 4px;\n",
       "    line-height: 19px;\n",
       "  }\n",
       "</style>"
      ]
     },
     "metadata": {
      "application/vnd.databricks.v1+output": {
       "arguments": {},
       "data": "",
       "errorSummary": "Command skipped",
       "errorTraceType": "html",
       "metadata": {},
       "type": "ipynbError"
      }
     },
     "output_type": "display_data"
    }
   ],
   "source": [
    "for df, event_name in dataframe_list:\n",
    "    save_to_silver(df, event_name, find_partition_num(df))"
   ]
  }
 ],
 "metadata": {
  "application/vnd.databricks.v1+notebook": {
   "dashboards": [],
   "language": "python",
   "notebookMetadata": {
    "pythonIndentUnit": 4
   },
   "notebookName": "Silver_layer",
   "widgets": {}
  }
 },
 "nbformat": 4,
 "nbformat_minor": 0
}
